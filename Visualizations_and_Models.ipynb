{
  "nbformat": 4,
  "nbformat_minor": 0,
  "metadata": {
    "colab": {
      "name": "Visualizations and Models.ipynb",
      "provenance": [],
      "authorship_tag": "ABX9TyMTcJpZWdMjkJEUbdUkfjEi",
      "include_colab_link": true
    },
    "kernelspec": {
      "name": "python3",
      "display_name": "Python 3"
    }
  },
  "cells": [
    {
      "cell_type": "markdown",
      "metadata": {
        "id": "view-in-github",
        "colab_type": "text"
      },
      "source": [
        "<a href=\"https://colab.research.google.com/github/smw150430/NYPD-Frisk/blob/anesu/Visualizations_and_Models.ipynb\" target=\"_parent\"><img src=\"https://colab.research.google.com/assets/colab-badge.svg\" alt=\"Open In Colab\"/></a>"
      ]
    },
    {
      "cell_type": "code",
      "metadata": {
        "id": "UENiu6fxd9_N",
        "colab_type": "code",
        "colab": {}
      },
      "source": [
        "import pandas as pd\n",
        "import seaborn as sns\n",
        "import numpy as np\n",
        "import matplotlib.pyplot as plt\n",
        "from sklearn.model_selection import train_test_split\n",
        "from sklearn.preprocessing import OneHotEncoder\n",
        "from sklearn.ensemble import RandomForestClassifier\n",
        "from sklearn.impute import SimpleImputer\n",
        "from sklearn.model_selection import train_test_split\n",
        "from sklearn.pipeline import Pipeline\n",
        "from sklearn.inspection import permutation_importance\n",
        "from sklearn.compose import ColumnTransformer\n",
        "from sklearn.preprocessing import StandardScaler\n"
      ],
      "execution_count": 0,
      "outputs": []
    },
    {
      "cell_type": "code",
      "metadata": {
        "id": "TTE5S86reDuI",
        "colab_type": "code",
        "colab": {
          "base_uri": "https://localhost:8080/",
          "height": 122
        },
        "outputId": "2b47e0f9-e0b4-4117-b434-d07cd5898bd5"
      },
      "source": [
        "#Mounting Google Drive\n",
        "from google.colab import drive\n",
        "drive.mount('/content/drive')"
      ],
      "execution_count": 2,
      "outputs": [
        {
          "output_type": "stream",
          "text": [
            "Go to this URL in a browser: https://accounts.google.com/o/oauth2/auth?client_id=947318989803-6bn6qk8qdgf4n4g3pfee6491hc0brc4i.apps.googleusercontent.com&redirect_uri=urn%3aietf%3awg%3aoauth%3a2.0%3aoob&response_type=code&scope=email%20https%3a%2f%2fwww.googleapis.com%2fauth%2fdocs.test%20https%3a%2f%2fwww.googleapis.com%2fauth%2fdrive%20https%3a%2f%2fwww.googleapis.com%2fauth%2fdrive.photos.readonly%20https%3a%2f%2fwww.googleapis.com%2fauth%2fpeopleapi.readonly\n",
            "\n",
            "Enter your authorization code:\n",
            "··········\n",
            "Mounted at /content/drive\n"
          ],
          "name": "stdout"
        }
      ]
    },
    {
      "cell_type": "code",
      "metadata": {
        "id": "1TjP5d9eeP72",
        "colab_type": "code",
        "colab": {
          "base_uri": "https://localhost:8080/",
          "height": 34
        },
        "outputId": "70ed2488-40e6-4adc-bfbe-3962ee3d9cd1"
      },
      "source": [
        "from google.colab import drive\n",
        "drive.mount('/content/drive')"
      ],
      "execution_count": 3,
      "outputs": [
        {
          "output_type": "stream",
          "text": [
            "Drive already mounted at /content/drive; to attempt to forcibly remount, call drive.mount(\"/content/drive\", force_remount=True).\n"
          ],
          "name": "stdout"
        }
      ]
    },
    {
      "cell_type": "code",
      "metadata": {
        "id": "04pPWNRmeRbT",
        "colab_type": "code",
        "colab": {
          "base_uri": "https://localhost:8080/",
          "height": 1000
        },
        "outputId": "91a8a3db-6bb3-4643-c8f7-9348819a45b6"
      },
      "source": [
        "path = \"/content/drive/My Drive/cleaned_df.csv\"\n",
        "df = pd.read_csv(path, index_col=0)\n",
        "df.info()"
      ],
      "execution_count": 53,
      "outputs": [
        {
          "output_type": "stream",
          "text": [
            "<class 'pandas.core.frame.DataFrame'>\n",
            "Int64Index: 10474 entries, 0 to 11007\n",
            "Data columns (total 63 columns):\n",
            "MONTH2                                                          10474 non-null object\n",
            "DAY2                                                            10474 non-null object\n",
            "STOP_WAS_INITIATED                                              10474 non-null object\n",
            "ISSUING_OFFICER_RANK                                            10474 non-null object\n",
            "SUPERVISING_OFFICER_RANK                                        10474 non-null object\n",
            "SUPERVISING_ACTION_CORRESPONDING_ACTIVITY_LOG_ENTRY_REVIEWED    10474 non-null object\n",
            "JURISDICTION_DESCRIPTION                                        10474 non-null object\n",
            "OBSERVED_DURATION_MINUTES                                       10474 non-null int64\n",
            "SUSPECTED_CRIME_DESCRIPTION                                     10474 non-null object\n",
            "STOP_DURATION_MINUTES                                           10474 non-null int64\n",
            "OFFICER_EXPLAINED_STOP_FLAG                                     10474 non-null object\n",
            "OTHER_PERSON_STOPPED_FLAG                                       10474 non-null object\n",
            "SUSPECT_ARRESTED_FLAG                                           10474 non-null object\n",
            "SUSPECT_ARREST_OFFENSE                                          10474 non-null object\n",
            "SUMMONS_ISSUED_FLAG                                             10474 non-null object\n",
            "OFFICER_IN_UNIFORM_FLAG                                         10474 non-null object\n",
            "ID_CARD_IDENTIFIES_OFFICER_FLAG                                 10474 non-null object\n",
            "SHIELD_IDENTIFIES_OFFICER_FLAG                                  10474 non-null object\n",
            "VERBAL_IDENTIFIES_OFFICER_FLAG                                  10474 non-null object\n",
            "FRISKED_FLAG                                                    10474 non-null object\n",
            "SEARCHED_FLAG                                                   10474 non-null object\n",
            "OTHER_CONTRABAND_FLAG                                           10474 non-null object\n",
            "FIREARM_FLAG                                                    10474 non-null object\n",
            "KNIFE_CUTTER_FLAG                                               10474 non-null object\n",
            "OTHER_WEAPON_FLAG                                               10474 non-null object\n",
            "WEAPON_FOUND_FLAG                                               10474 non-null object\n",
            "PHYSICAL_FORCE_CEW_FLAG                                         10474 non-null object\n",
            "PHYSICAL_FORCE_DRAW_POINT_FIREARM_FLAG                          10474 non-null object\n",
            "PHYSICAL_FORCE_HANDCUFF_SUSPECT_FLAG                            10474 non-null object\n",
            "PHYSICAL_FORCE_OC_SPRAY_USED_FLAG                               10474 non-null object\n",
            "PHYSICAL_FORCE_OTHER_FLAG                                       10474 non-null object\n",
            "PHYSICAL_FORCE_RESTRAINT_USED_FLAG                              10474 non-null object\n",
            "PHYSICAL_FORCE_VERBAL_INSTRUCTION_FLAG                          10474 non-null object\n",
            "PHYSICAL_FORCE_WEAPON_IMPACT_FLAG                               10474 non-null object\n",
            "BACKROUND_CIRCUMSTANCES_VIOLENT_CRIME_FLAG                      10474 non-null object\n",
            "BACKROUND_CIRCUMSTANCES_SUSPECT_KNOWN_TO_CARRY_WEAPON_FLAG      10474 non-null object\n",
            "SUSPECTS_ACTIONS_CASING_FLAG                                    10474 non-null object\n",
            "SUSPECTS_ACTIONS_CONCEALED_POSSESSION_WEAPON_FLAG               10474 non-null object\n",
            "SUSPECTS_ACTIONS_DECRIPTION_FLAG                                10474 non-null object\n",
            "SUSPECTS_ACTIONS_DRUG_TRANSACTIONS_FLAG                         10474 non-null object\n",
            "SUSPECTS_ACTIONS_IDENTIFY_CRIME_PATTERN_FLAG                    10474 non-null object\n",
            "SUSPECTS_ACTIONS_LOOKOUT_FLAG                                   10474 non-null object\n",
            "SUSPECTS_ACTIONS_OTHER_FLAG                                     10474 non-null object\n",
            "SUSPECTS_ACTIONS_PROXIMITY_TO_SCENE_FLAG                        10474 non-null object\n",
            "SEARCH_BASIS_ADMISSION_FLAG                                     10474 non-null object\n",
            "SEARCH_BASIS_CONSENT_FLAG                                       10474 non-null object\n",
            "SEARCH_BASIS_HARD_OBJECT_FLAG                                   10474 non-null object\n",
            "SEARCH_BASIS_INCIDENTAL_TO_ARREST_FLAG                          10474 non-null object\n",
            "SEARCH_BASIS_OTHER_FLAG                                         10474 non-null object\n",
            "SEARCH_BASIS_OUTLINE_FLAG                                       10474 non-null object\n",
            "DEMEANOR_CODE                                                   9531 non-null object\n",
            "SUSPECT_SEX                                                     10474 non-null object\n",
            "SUSPECT_RACE_DESCRIPTION                                        10474 non-null object\n",
            "SUSPECT_HEIGHT                                                  10474 non-null float64\n",
            "SUSPECT_WEIGHT                                                  10474 non-null float64\n",
            "SUSPECT_BODY_BUILD_TYPE                                         10474 non-null object\n",
            "SUSPECT_EYE_COLOR                                               10474 non-null object\n",
            "SUSPECT_HAIR_COLOR                                              10474 non-null object\n",
            "STOP_LOCATION_PRECINCT                                          10474 non-null int64\n",
            "STOP_LOCATION_SECTOR_CODE                                       10474 non-null object\n",
            "STOP_LOCATION_PATROL_BORO_NAME                                  10474 non-null object\n",
            "STOP_LOCATION_BORO_NAME                                         10474 non-null object\n",
            "age_bin                                                         10474 non-null object\n",
            "dtypes: float64(2), int64(3), object(58)\n",
            "memory usage: 5.1+ MB\n"
          ],
          "name": "stdout"
        }
      ]
    },
    {
      "cell_type": "code",
      "metadata": {
        "id": "hYoMtTSagd_j",
        "colab_type": "code",
        "colab": {}
      },
      "source": [
        "df = df.drop(columns='DEMEANOR_CODE')\n"
      ],
      "execution_count": 0,
      "outputs": []
    },
    {
      "cell_type": "code",
      "metadata": {
        "id": "BcT_Vj_a_DCh",
        "colab_type": "code",
        "colab": {}
      },
      "source": [
        "df = df.drop(['SEARCH_BASIS_INCIDENTAL_TO_ARREST_FLAG', 'SUSPECT_ARREST_OFFENSE'], axis=1)"
      ],
      "execution_count": 0,
      "outputs": []
    },
    {
      "cell_type": "code",
      "metadata": {
        "id": "IxKjy6wL_mFz",
        "colab_type": "code",
        "colab": {
          "base_uri": "https://localhost:8080/",
          "height": 1000
        },
        "outputId": "863dd8ad-78fe-4f4b-ddbe-34744a0ed7a6"
      },
      "source": [
        "df.info()"
      ],
      "execution_count": 57,
      "outputs": [
        {
          "output_type": "stream",
          "text": [
            "<class 'pandas.core.frame.DataFrame'>\n",
            "Int64Index: 10474 entries, 0 to 11007\n",
            "Data columns (total 60 columns):\n",
            "MONTH2                                                          10474 non-null object\n",
            "DAY2                                                            10474 non-null object\n",
            "STOP_WAS_INITIATED                                              10474 non-null object\n",
            "ISSUING_OFFICER_RANK                                            10474 non-null object\n",
            "SUPERVISING_OFFICER_RANK                                        10474 non-null object\n",
            "SUPERVISING_ACTION_CORRESPONDING_ACTIVITY_LOG_ENTRY_REVIEWED    10474 non-null object\n",
            "JURISDICTION_DESCRIPTION                                        10474 non-null object\n",
            "OBSERVED_DURATION_MINUTES                                       10474 non-null int64\n",
            "SUSPECTED_CRIME_DESCRIPTION                                     10474 non-null object\n",
            "STOP_DURATION_MINUTES                                           10474 non-null int64\n",
            "OFFICER_EXPLAINED_STOP_FLAG                                     10474 non-null object\n",
            "OTHER_PERSON_STOPPED_FLAG                                       10474 non-null object\n",
            "SUSPECT_ARRESTED_FLAG                                           10474 non-null object\n",
            "SUMMONS_ISSUED_FLAG                                             10474 non-null object\n",
            "OFFICER_IN_UNIFORM_FLAG                                         10474 non-null object\n",
            "ID_CARD_IDENTIFIES_OFFICER_FLAG                                 10474 non-null object\n",
            "SHIELD_IDENTIFIES_OFFICER_FLAG                                  10474 non-null object\n",
            "VERBAL_IDENTIFIES_OFFICER_FLAG                                  10474 non-null object\n",
            "FRISKED_FLAG                                                    10474 non-null object\n",
            "SEARCHED_FLAG                                                   10474 non-null object\n",
            "OTHER_CONTRABAND_FLAG                                           10474 non-null object\n",
            "FIREARM_FLAG                                                    10474 non-null object\n",
            "KNIFE_CUTTER_FLAG                                               10474 non-null object\n",
            "OTHER_WEAPON_FLAG                                               10474 non-null object\n",
            "WEAPON_FOUND_FLAG                                               10474 non-null object\n",
            "PHYSICAL_FORCE_CEW_FLAG                                         10474 non-null object\n",
            "PHYSICAL_FORCE_DRAW_POINT_FIREARM_FLAG                          10474 non-null object\n",
            "PHYSICAL_FORCE_HANDCUFF_SUSPECT_FLAG                            10474 non-null object\n",
            "PHYSICAL_FORCE_OC_SPRAY_USED_FLAG                               10474 non-null object\n",
            "PHYSICAL_FORCE_OTHER_FLAG                                       10474 non-null object\n",
            "PHYSICAL_FORCE_RESTRAINT_USED_FLAG                              10474 non-null object\n",
            "PHYSICAL_FORCE_VERBAL_INSTRUCTION_FLAG                          10474 non-null object\n",
            "PHYSICAL_FORCE_WEAPON_IMPACT_FLAG                               10474 non-null object\n",
            "BACKROUND_CIRCUMSTANCES_VIOLENT_CRIME_FLAG                      10474 non-null object\n",
            "BACKROUND_CIRCUMSTANCES_SUSPECT_KNOWN_TO_CARRY_WEAPON_FLAG      10474 non-null object\n",
            "SUSPECTS_ACTIONS_CASING_FLAG                                    10474 non-null object\n",
            "SUSPECTS_ACTIONS_CONCEALED_POSSESSION_WEAPON_FLAG               10474 non-null object\n",
            "SUSPECTS_ACTIONS_DECRIPTION_FLAG                                10474 non-null object\n",
            "SUSPECTS_ACTIONS_DRUG_TRANSACTIONS_FLAG                         10474 non-null object\n",
            "SUSPECTS_ACTIONS_IDENTIFY_CRIME_PATTERN_FLAG                    10474 non-null object\n",
            "SUSPECTS_ACTIONS_LOOKOUT_FLAG                                   10474 non-null object\n",
            "SUSPECTS_ACTIONS_OTHER_FLAG                                     10474 non-null object\n",
            "SUSPECTS_ACTIONS_PROXIMITY_TO_SCENE_FLAG                        10474 non-null object\n",
            "SEARCH_BASIS_ADMISSION_FLAG                                     10474 non-null object\n",
            "SEARCH_BASIS_CONSENT_FLAG                                       10474 non-null object\n",
            "SEARCH_BASIS_HARD_OBJECT_FLAG                                   10474 non-null object\n",
            "SEARCH_BASIS_OTHER_FLAG                                         10474 non-null object\n",
            "SEARCH_BASIS_OUTLINE_FLAG                                       10474 non-null object\n",
            "SUSPECT_SEX                                                     10474 non-null object\n",
            "SUSPECT_RACE_DESCRIPTION                                        10474 non-null object\n",
            "SUSPECT_HEIGHT                                                  10474 non-null float64\n",
            "SUSPECT_WEIGHT                                                  10474 non-null float64\n",
            "SUSPECT_BODY_BUILD_TYPE                                         10474 non-null object\n",
            "SUSPECT_EYE_COLOR                                               10474 non-null object\n",
            "SUSPECT_HAIR_COLOR                                              10474 non-null object\n",
            "STOP_LOCATION_PRECINCT                                          10474 non-null int64\n",
            "STOP_LOCATION_SECTOR_CODE                                       10474 non-null object\n",
            "STOP_LOCATION_PATROL_BORO_NAME                                  10474 non-null object\n",
            "STOP_LOCATION_BORO_NAME                                         10474 non-null object\n",
            "age_bin                                                         10474 non-null object\n",
            "dtypes: float64(2), int64(3), object(55)\n",
            "memory usage: 5.2+ MB\n"
          ],
          "name": "stdout"
        }
      ]
    },
    {
      "cell_type": "code",
      "metadata": {
        "id": "BPR7odephAGI",
        "colab_type": "code",
        "colab": {}
      },
      "source": [
        "X = df.drop('SUSPECT_ARRESTED_FLAG', axis = 1)\n",
        "y = df.SUSPECT_ARRESTED_FLAG"
      ],
      "execution_count": 0,
      "outputs": []
    },
    {
      "cell_type": "code",
      "metadata": {
        "id": "dEkmzgwv_iXn",
        "colab_type": "code",
        "colab": {}
      },
      "source": [
        ""
      ],
      "execution_count": 0,
      "outputs": []
    },
    {
      "cell_type": "code",
      "metadata": {
        "id": "WyPn5ct5fG3G",
        "colab_type": "code",
        "colab": {}
      },
      "source": [
        "X_train, X_test, y_train, y_test = train_test_split(\n",
        "  X, y, test_size= 0.2, stratify=y, random_state=345)"
      ],
      "execution_count": 0,
      "outputs": []
    },
    {
      "cell_type": "code",
      "metadata": {
        "id": "fRAjoR0jgUF7",
        "colab_type": "code",
        "colab": {}
      },
      "source": [
        "X_train_num = X_train[[\"OBSERVED_DURATION_MINUTES\", \"STOP_DURATION_MINUTES\", \"SUSPECT_HEIGHT\", \"SUSPECT_WEIGHT\"]].columns\n",
        "X_train_cat = X_train.drop([\"OBSERVED_DURATION_MINUTES\", \"STOP_DURATION_MINUTES\", \"SUSPECT_HEIGHT\", \"SUSPECT_WEIGHT\"], axis = 1).columns"
      ],
      "execution_count": 0,
      "outputs": []
    },
    {
      "cell_type": "code",
      "metadata": {
        "id": "3PUE2KAbjIFE",
        "colab_type": "code",
        "colab": {
          "base_uri": "https://localhost:8080/",
          "height": 224
        },
        "outputId": "9ad47162-5fe3-4c9d-ffeb-7296c0d8b289"
      },
      "source": [
        "X_train_cat.head()"
      ],
      "execution_count": 61,
      "outputs": [
        {
          "output_type": "execute_result",
          "data": {
            "text/html": [
              "<div>\n",
              "<style scoped>\n",
              "    .dataframe tbody tr th:only-of-type {\n",
              "        vertical-align: middle;\n",
              "    }\n",
              "\n",
              "    .dataframe tbody tr th {\n",
              "        vertical-align: top;\n",
              "    }\n",
              "\n",
              "    .dataframe thead th {\n",
              "        text-align: right;\n",
              "    }\n",
              "</style>\n",
              "<table border=\"1\" class=\"dataframe\">\n",
              "  <thead>\n",
              "    <tr style=\"text-align: right;\">\n",
              "      <th></th>\n",
              "      <th>MONTH2</th>\n",
              "      <th>DAY2</th>\n",
              "      <th>STOP_WAS_INITIATED</th>\n",
              "      <th>ISSUING_OFFICER_RANK</th>\n",
              "      <th>SUPERVISING_OFFICER_RANK</th>\n",
              "      <th>SUPERVISING_ACTION_CORRESPONDING_ACTIVITY_LOG_ENTRY_REVIEWED</th>\n",
              "      <th>JURISDICTION_DESCRIPTION</th>\n",
              "      <th>SUSPECTED_CRIME_DESCRIPTION</th>\n",
              "      <th>OFFICER_EXPLAINED_STOP_FLAG</th>\n",
              "      <th>OTHER_PERSON_STOPPED_FLAG</th>\n",
              "      <th>SUMMONS_ISSUED_FLAG</th>\n",
              "      <th>OFFICER_IN_UNIFORM_FLAG</th>\n",
              "      <th>ID_CARD_IDENTIFIES_OFFICER_FLAG</th>\n",
              "      <th>SHIELD_IDENTIFIES_OFFICER_FLAG</th>\n",
              "      <th>VERBAL_IDENTIFIES_OFFICER_FLAG</th>\n",
              "      <th>FRISKED_FLAG</th>\n",
              "      <th>SEARCHED_FLAG</th>\n",
              "      <th>OTHER_CONTRABAND_FLAG</th>\n",
              "      <th>FIREARM_FLAG</th>\n",
              "      <th>KNIFE_CUTTER_FLAG</th>\n",
              "      <th>OTHER_WEAPON_FLAG</th>\n",
              "      <th>WEAPON_FOUND_FLAG</th>\n",
              "      <th>PHYSICAL_FORCE_CEW_FLAG</th>\n",
              "      <th>PHYSICAL_FORCE_DRAW_POINT_FIREARM_FLAG</th>\n",
              "      <th>PHYSICAL_FORCE_HANDCUFF_SUSPECT_FLAG</th>\n",
              "      <th>PHYSICAL_FORCE_OC_SPRAY_USED_FLAG</th>\n",
              "      <th>PHYSICAL_FORCE_OTHER_FLAG</th>\n",
              "      <th>PHYSICAL_FORCE_RESTRAINT_USED_FLAG</th>\n",
              "      <th>PHYSICAL_FORCE_VERBAL_INSTRUCTION_FLAG</th>\n",
              "      <th>PHYSICAL_FORCE_WEAPON_IMPACT_FLAG</th>\n",
              "      <th>BACKROUND_CIRCUMSTANCES_VIOLENT_CRIME_FLAG</th>\n",
              "      <th>BACKROUND_CIRCUMSTANCES_SUSPECT_KNOWN_TO_CARRY_WEAPON_FLAG</th>\n",
              "      <th>SUSPECTS_ACTIONS_CASING_FLAG</th>\n",
              "      <th>SUSPECTS_ACTIONS_CONCEALED_POSSESSION_WEAPON_FLAG</th>\n",
              "      <th>SUSPECTS_ACTIONS_DECRIPTION_FLAG</th>\n",
              "      <th>SUSPECTS_ACTIONS_DRUG_TRANSACTIONS_FLAG</th>\n",
              "      <th>SUSPECTS_ACTIONS_IDENTIFY_CRIME_PATTERN_FLAG</th>\n",
              "      <th>SUSPECTS_ACTIONS_LOOKOUT_FLAG</th>\n",
              "      <th>SUSPECTS_ACTIONS_OTHER_FLAG</th>\n",
              "      <th>SUSPECTS_ACTIONS_PROXIMITY_TO_SCENE_FLAG</th>\n",
              "      <th>SEARCH_BASIS_ADMISSION_FLAG</th>\n",
              "      <th>SEARCH_BASIS_CONSENT_FLAG</th>\n",
              "      <th>SEARCH_BASIS_HARD_OBJECT_FLAG</th>\n",
              "      <th>SEARCH_BASIS_OTHER_FLAG</th>\n",
              "      <th>SEARCH_BASIS_OUTLINE_FLAG</th>\n",
              "      <th>SUSPECT_SEX</th>\n",
              "      <th>SUSPECT_RACE_DESCRIPTION</th>\n",
              "      <th>SUSPECT_BODY_BUILD_TYPE</th>\n",
              "      <th>SUSPECT_EYE_COLOR</th>\n",
              "      <th>SUSPECT_HAIR_COLOR</th>\n",
              "      <th>STOP_LOCATION_PRECINCT</th>\n",
              "      <th>STOP_LOCATION_SECTOR_CODE</th>\n",
              "      <th>STOP_LOCATION_PATROL_BORO_NAME</th>\n",
              "      <th>STOP_LOCATION_BORO_NAME</th>\n",
              "      <th>age_bin</th>\n",
              "    </tr>\n",
              "  </thead>\n",
              "  <tbody>\n",
              "    <tr>\n",
              "      <th>573</th>\n",
              "      <td>January</td>\n",
              "      <td>Monday</td>\n",
              "      <td>Based on Radio Run</td>\n",
              "      <td>POM</td>\n",
              "      <td>SGT</td>\n",
              "      <td>Y</td>\n",
              "      <td>PSB</td>\n",
              "      <td>CPW</td>\n",
              "      <td>Y</td>\n",
              "      <td>Y</td>\n",
              "      <td>N</td>\n",
              "      <td>Y</td>\n",
              "      <td>(null)</td>\n",
              "      <td>(null)</td>\n",
              "      <td>(null)</td>\n",
              "      <td>Y</td>\n",
              "      <td>N</td>\n",
              "      <td>N</td>\n",
              "      <td>(null)</td>\n",
              "      <td>(null)</td>\n",
              "      <td>(null)</td>\n",
              "      <td>N</td>\n",
              "      <td>(null)</td>\n",
              "      <td>(null)</td>\n",
              "      <td>(null)</td>\n",
              "      <td>(null)</td>\n",
              "      <td>(null)</td>\n",
              "      <td>(null)</td>\n",
              "      <td>Y</td>\n",
              "      <td>(null)</td>\n",
              "      <td>Y</td>\n",
              "      <td>(null)</td>\n",
              "      <td>(null)</td>\n",
              "      <td>Y</td>\n",
              "      <td>Y</td>\n",
              "      <td>(null)</td>\n",
              "      <td>(null)</td>\n",
              "      <td>(null)</td>\n",
              "      <td>(null)</td>\n",
              "      <td>Y</td>\n",
              "      <td>(null)</td>\n",
              "      <td>(null)</td>\n",
              "      <td>(null)</td>\n",
              "      <td>(null)</td>\n",
              "      <td>(null)</td>\n",
              "      <td>FEMALE</td>\n",
              "      <td>BLACK</td>\n",
              "      <td>MED</td>\n",
              "      <td>BRO</td>\n",
              "      <td>RED</td>\n",
              "      <td>103</td>\n",
              "      <td>C</td>\n",
              "      <td>PBQS</td>\n",
              "      <td>QUEENS</td>\n",
              "      <td>18_30</td>\n",
              "    </tr>\n",
              "    <tr>\n",
              "      <th>6832</th>\n",
              "      <td>August</td>\n",
              "      <td>Tuesday</td>\n",
              "      <td>Based on Self Initiated</td>\n",
              "      <td>POM</td>\n",
              "      <td>SGT</td>\n",
              "      <td>Y</td>\n",
              "      <td>PSB</td>\n",
              "      <td>CPW</td>\n",
              "      <td>Y</td>\n",
              "      <td>Y</td>\n",
              "      <td>N</td>\n",
              "      <td>N</td>\n",
              "      <td>(null)</td>\n",
              "      <td>S</td>\n",
              "      <td>V</td>\n",
              "      <td>Y</td>\n",
              "      <td>N</td>\n",
              "      <td>N</td>\n",
              "      <td>(null)</td>\n",
              "      <td>(null)</td>\n",
              "      <td>(null)</td>\n",
              "      <td>N</td>\n",
              "      <td>(null)</td>\n",
              "      <td>Y</td>\n",
              "      <td>(null)</td>\n",
              "      <td>(null)</td>\n",
              "      <td>(null)</td>\n",
              "      <td>(null)</td>\n",
              "      <td>Y</td>\n",
              "      <td>(null)</td>\n",
              "      <td>Y</td>\n",
              "      <td>(null)</td>\n",
              "      <td>(null)</td>\n",
              "      <td>(null)</td>\n",
              "      <td>(null)</td>\n",
              "      <td>(null)</td>\n",
              "      <td>(null)</td>\n",
              "      <td>(null)</td>\n",
              "      <td>(null)</td>\n",
              "      <td>Y</td>\n",
              "      <td>(null)</td>\n",
              "      <td>(null)</td>\n",
              "      <td>(null)</td>\n",
              "      <td>(null)</td>\n",
              "      <td>(null)</td>\n",
              "      <td>MALE</td>\n",
              "      <td>BLACK HISPANIC</td>\n",
              "      <td>THN</td>\n",
              "      <td>BRO</td>\n",
              "      <td>BRO</td>\n",
              "      <td>44</td>\n",
              "      <td>E</td>\n",
              "      <td>PBBX</td>\n",
              "      <td>BRONX</td>\n",
              "      <td>18_30</td>\n",
              "    </tr>\n",
              "    <tr>\n",
              "      <th>5648</th>\n",
              "      <td>June</td>\n",
              "      <td>Friday</td>\n",
              "      <td>Based on Radio Run</td>\n",
              "      <td>POM</td>\n",
              "      <td>SGT</td>\n",
              "      <td>Y</td>\n",
              "      <td>PSB</td>\n",
              "      <td>MAKING GRAFFITI</td>\n",
              "      <td>Y</td>\n",
              "      <td>N</td>\n",
              "      <td>N</td>\n",
              "      <td>Y</td>\n",
              "      <td>(null)</td>\n",
              "      <td>(null)</td>\n",
              "      <td>(null)</td>\n",
              "      <td>N</td>\n",
              "      <td>N</td>\n",
              "      <td>Y</td>\n",
              "      <td>(null)</td>\n",
              "      <td>(null)</td>\n",
              "      <td>(null)</td>\n",
              "      <td>N</td>\n",
              "      <td>(null)</td>\n",
              "      <td>(null)</td>\n",
              "      <td>(null)</td>\n",
              "      <td>(null)</td>\n",
              "      <td>(null)</td>\n",
              "      <td>(null)</td>\n",
              "      <td>Y</td>\n",
              "      <td>(null)</td>\n",
              "      <td>(null)</td>\n",
              "      <td>(null)</td>\n",
              "      <td>(null)</td>\n",
              "      <td>(null)</td>\n",
              "      <td>Y</td>\n",
              "      <td>(null)</td>\n",
              "      <td>(null)</td>\n",
              "      <td>(null)</td>\n",
              "      <td>(null)</td>\n",
              "      <td>Y</td>\n",
              "      <td>(null)</td>\n",
              "      <td>(null)</td>\n",
              "      <td>(null)</td>\n",
              "      <td>(null)</td>\n",
              "      <td>(null)</td>\n",
              "      <td>MALE</td>\n",
              "      <td>BLACK</td>\n",
              "      <td>MED</td>\n",
              "      <td>BRO</td>\n",
              "      <td>BLD</td>\n",
              "      <td>49</td>\n",
              "      <td>C</td>\n",
              "      <td>PBBX</td>\n",
              "      <td>BRONX</td>\n",
              "      <td>over_30</td>\n",
              "    </tr>\n",
              "    <tr>\n",
              "      <th>2110</th>\n",
              "      <td>March</td>\n",
              "      <td>Tuesday</td>\n",
              "      <td>Based on Radio Run</td>\n",
              "      <td>POM</td>\n",
              "      <td>SGT</td>\n",
              "      <td>Y</td>\n",
              "      <td>Housing</td>\n",
              "      <td>OTHER</td>\n",
              "      <td>Y</td>\n",
              "      <td>N</td>\n",
              "      <td>N</td>\n",
              "      <td>N</td>\n",
              "      <td>(null)</td>\n",
              "      <td>S</td>\n",
              "      <td>V</td>\n",
              "      <td>Y</td>\n",
              "      <td>N</td>\n",
              "      <td>N</td>\n",
              "      <td>(null)</td>\n",
              "      <td>(null)</td>\n",
              "      <td>(null)</td>\n",
              "      <td>N</td>\n",
              "      <td>(null)</td>\n",
              "      <td>Y</td>\n",
              "      <td>Y</td>\n",
              "      <td>(null)</td>\n",
              "      <td>(null)</td>\n",
              "      <td>(null)</td>\n",
              "      <td>Y</td>\n",
              "      <td>(null)</td>\n",
              "      <td>Y</td>\n",
              "      <td>Y</td>\n",
              "      <td>(null)</td>\n",
              "      <td>(null)</td>\n",
              "      <td>(null)</td>\n",
              "      <td>(null)</td>\n",
              "      <td>(null)</td>\n",
              "      <td>(null)</td>\n",
              "      <td>Y</td>\n",
              "      <td>Y</td>\n",
              "      <td>(null)</td>\n",
              "      <td>(null)</td>\n",
              "      <td>(null)</td>\n",
              "      <td>(null)</td>\n",
              "      <td>(null)</td>\n",
              "      <td>MALE</td>\n",
              "      <td>BLACK</td>\n",
              "      <td>THN</td>\n",
              "      <td>BRO</td>\n",
              "      <td>BLK</td>\n",
              "      <td>43</td>\n",
              "      <td>D</td>\n",
              "      <td>PBBX</td>\n",
              "      <td>BRONX</td>\n",
              "      <td>18_30</td>\n",
              "    </tr>\n",
              "    <tr>\n",
              "      <th>4777</th>\n",
              "      <td>May</td>\n",
              "      <td>Thursday</td>\n",
              "      <td>Based on Radio Run</td>\n",
              "      <td>DTS</td>\n",
              "      <td>SGT</td>\n",
              "      <td>Y</td>\n",
              "      <td>PSB</td>\n",
              "      <td>ASSAULT</td>\n",
              "      <td>Y</td>\n",
              "      <td>N</td>\n",
              "      <td>N</td>\n",
              "      <td>Y</td>\n",
              "      <td>(null)</td>\n",
              "      <td>(null)</td>\n",
              "      <td>(null)</td>\n",
              "      <td>N</td>\n",
              "      <td>N</td>\n",
              "      <td>N</td>\n",
              "      <td>(null)</td>\n",
              "      <td>(null)</td>\n",
              "      <td>(null)</td>\n",
              "      <td>N</td>\n",
              "      <td>(null)</td>\n",
              "      <td>(null)</td>\n",
              "      <td>(null)</td>\n",
              "      <td>(null)</td>\n",
              "      <td>(null)</td>\n",
              "      <td>(null)</td>\n",
              "      <td>Y</td>\n",
              "      <td>(null)</td>\n",
              "      <td>(null)</td>\n",
              "      <td>(null)</td>\n",
              "      <td>(null)</td>\n",
              "      <td>(null)</td>\n",
              "      <td>Y</td>\n",
              "      <td>(null)</td>\n",
              "      <td>(null)</td>\n",
              "      <td>(null)</td>\n",
              "      <td>(null)</td>\n",
              "      <td>(null)</td>\n",
              "      <td>(null)</td>\n",
              "      <td>(null)</td>\n",
              "      <td>(null)</td>\n",
              "      <td>(null)</td>\n",
              "      <td>(null)</td>\n",
              "      <td>FEMALE</td>\n",
              "      <td>BLACK</td>\n",
              "      <td>MED</td>\n",
              "      <td>ZZZ</td>\n",
              "      <td>BLK</td>\n",
              "      <td>73</td>\n",
              "      <td>D</td>\n",
              "      <td>PBBN</td>\n",
              "      <td>BROOKLYN</td>\n",
              "      <td>18_30</td>\n",
              "    </tr>\n",
              "  </tbody>\n",
              "</table>\n",
              "</div>"
            ],
            "text/plain": [
              "       MONTH2      DAY2  ... STOP_LOCATION_BORO_NAME  age_bin\n",
              "573   January    Monday  ...                  QUEENS    18_30\n",
              "6832   August   Tuesday  ...                   BRONX    18_30\n",
              "5648     June    Friday  ...                   BRONX  over_30\n",
              "2110    March   Tuesday  ...                   BRONX    18_30\n",
              "4777      May  Thursday  ...                BROOKLYN    18_30\n",
              "\n",
              "[5 rows x 55 columns]"
            ]
          },
          "metadata": {
            "tags": []
          },
          "execution_count": 61
        }
      ]
    },
    {
      "cell_type": "code",
      "metadata": {
        "id": "RL-06M0pl5WB",
        "colab_type": "code",
        "colab": {
          "base_uri": "https://localhost:8080/",
          "height": 493
        },
        "outputId": "2eed4256-f04c-436a-b7bf-94339afebe65"
      },
      "source": [
        "\n",
        "\n",
        "categorical_pipe = Pipeline([\n",
        "  ('imputer', SimpleImputer(strategy='constant', fill_value='missing')),\n",
        "    ('onehot', OneHotEncoder(handle_unknown='ignore'))\n",
        "])\n",
        "\n",
        "numerical_pipe = Pipeline([\n",
        "    ('scale', StandardScaler())\n",
        " ])\n",
        "\n",
        "preprocessing = ColumnTransformer(\n",
        "    [('cat', categorical_pipe, X_train_cat),\n",
        "     ('num', numerical_pipe, X_train_num)])\n",
        "\n",
        "rf = Pipeline([\n",
        "    ('preprocess', preprocessing),\n",
        "    ('classifier', RandomForestClassifier(random_state=42))\n",
        "])\n",
        "rf.fit(X_train, y_train)"
      ],
      "execution_count": 63,
      "outputs": [
        {
          "output_type": "execute_result",
          "data": {
            "text/plain": [
              "Pipeline(memory=None,\n",
              "         steps=[('preprocess',\n",
              "                 ColumnTransformer(n_jobs=None, remainder='drop',\n",
              "                                   sparse_threshold=0.3,\n",
              "                                   transformer_weights=None,\n",
              "                                   transformers=[('cat',\n",
              "                                                  Pipeline(memory=None,\n",
              "                                                           steps=[('imputer',\n",
              "                                                                   SimpleImputer(add_indicator=False,\n",
              "                                                                                 copy=True,\n",
              "                                                                                 fill_value='missing',\n",
              "                                                                                 missing_values=nan,\n",
              "                                                                                 strategy='constant',\n",
              "                                                                                 verbose=0)),\n",
              "                                                                  ('onehot',\n",
              "                                                                   OneHotEncoder(categories='aut...\n",
              "                 RandomForestClassifier(bootstrap=True, ccp_alpha=0.0,\n",
              "                                        class_weight=None, criterion='gini',\n",
              "                                        max_depth=None, max_features='auto',\n",
              "                                        max_leaf_nodes=None, max_samples=None,\n",
              "                                        min_impurity_decrease=0.0,\n",
              "                                        min_impurity_split=None,\n",
              "                                        min_samples_leaf=1, min_samples_split=2,\n",
              "                                        min_weight_fraction_leaf=0.0,\n",
              "                                        n_estimators=100, n_jobs=None,\n",
              "                                        oob_score=False, random_state=42,\n",
              "                                        verbose=0, warm_start=False))],\n",
              "         verbose=False)"
            ]
          },
          "metadata": {
            "tags": []
          },
          "execution_count": 63
        }
      ]
    },
    {
      "cell_type": "code",
      "metadata": {
        "id": "vHFm49OGwpW7",
        "colab_type": "code",
        "colab": {
          "base_uri": "https://localhost:8080/",
          "height": 51
        },
        "outputId": "25082136-c7b4-4c53-a574-2943b2dda0cc"
      },
      "source": [
        "print(\"RF train accuracy: %0.3f\" % rf.score(X_train, y_train))\n",
        "print(\"RF test accuracy: %0.3f\" % rf.score(X_test, y_test))"
      ],
      "execution_count": 64,
      "outputs": [
        {
          "output_type": "stream",
          "text": [
            "RF train accuracy: 1.000\n",
            "RF test accuracy: 0.893\n"
          ],
          "name": "stdout"
        }
      ]
    },
    {
      "cell_type": "code",
      "metadata": {
        "id": "kPaWDQLlsb3S",
        "colab_type": "code",
        "colab": {
          "base_uri": "https://localhost:8080/",
          "height": 51
        },
        "outputId": "ea059b7f-a8ae-4bf3-e7df-ede8ead179bf"
      },
      "source": [
        "param_grid = { \n",
        "    'classifier__n_estimators': [200, 500],\n",
        "    'classifier__max_features': ['auto', 'sqrt', 'log2'],\n",
        "    'classifier__max_depth' : [4,5,6,7,8],\n",
        "    'classifier__criterion' :['gini', 'entropy']}\n",
        "from sklearn.model_selection import GridSearchCV\n",
        "CV = GridSearchCV(rf, param_grid, n_jobs= 1)\n",
        "                  \n",
        "CV.fit(X_train, y_train)  \n",
        "print(CV.best_params_)    \n",
        "print(CV.best_score_)\n",
        "\n"
      ],
      "execution_count": 66,
      "outputs": [
        {
          "output_type": "stream",
          "text": [
            "{'classifier__criterion': 'entropy', 'classifier__max_depth': 8, 'classifier__max_features': 'auto', 'classifier__n_estimators': 500}\n",
            "0.8777907598047946\n"
          ],
          "name": "stdout"
        }
      ]
    },
    {
      "cell_type": "code",
      "metadata": {
        "id": "BkzTAXwcIMr6",
        "colab_type": "code",
        "colab": {
          "base_uri": "https://localhost:8080/",
          "height": 493
        },
        "outputId": "43723534-9635-4e65-9b33-bd90b461f623"
      },
      "source": [
        "categorical_pipe = Pipeline([\n",
        "  ('imputer', SimpleImputer(strategy='constant', fill_value='missing')),\n",
        "    ('onehot', OneHotEncoder(handle_unknown='ignore'))\n",
        "])\n",
        "\n",
        "numerical_pipe = Pipeline([\n",
        "    ('scale', StandardScaler())\n",
        " ])\n",
        "\n",
        "preprocessing = ColumnTransformer(\n",
        "    [('cat', categorical_pipe, X_train_cat),\n",
        "     ('num', numerical_pipe, X_train_num)])\n",
        "\n",
        "rf_new = Pipeline([\n",
        "    ('preprocess', preprocessing),\n",
        "    ('classifier', RandomForestClassifier(random_state=42, criterion='entropy', max_depth=8,max_features='auto', n_estimators=500))\n",
        "])\n",
        "rf_new.fit(X_train, y_train)"
      ],
      "execution_count": 68,
      "outputs": [
        {
          "output_type": "execute_result",
          "data": {
            "text/plain": [
              "Pipeline(memory=None,\n",
              "         steps=[('preprocess',\n",
              "                 ColumnTransformer(n_jobs=None, remainder='drop',\n",
              "                                   sparse_threshold=0.3,\n",
              "                                   transformer_weights=None,\n",
              "                                   transformers=[('cat',\n",
              "                                                  Pipeline(memory=None,\n",
              "                                                           steps=[('imputer',\n",
              "                                                                   SimpleImputer(add_indicator=False,\n",
              "                                                                                 copy=True,\n",
              "                                                                                 fill_value='missing',\n",
              "                                                                                 missing_values=nan,\n",
              "                                                                                 strategy='constant',\n",
              "                                                                                 verbose=0)),\n",
              "                                                                  ('onehot',\n",
              "                                                                   OneHotEncoder(categories='aut...\n",
              "                 RandomForestClassifier(bootstrap=True, ccp_alpha=0.0,\n",
              "                                        class_weight=None, criterion='entropy',\n",
              "                                        max_depth=8, max_features='auto',\n",
              "                                        max_leaf_nodes=None, max_samples=None,\n",
              "                                        min_impurity_decrease=0.0,\n",
              "                                        min_impurity_split=None,\n",
              "                                        min_samples_leaf=1, min_samples_split=2,\n",
              "                                        min_weight_fraction_leaf=0.0,\n",
              "                                        n_estimators=500, n_jobs=None,\n",
              "                                        oob_score=False, random_state=42,\n",
              "                                        verbose=0, warm_start=False))],\n",
              "         verbose=False)"
            ]
          },
          "metadata": {
            "tags": []
          },
          "execution_count": 68
        }
      ]
    },
    {
      "cell_type": "code",
      "metadata": {
        "id": "OQpoUG4_LsKE",
        "colab_type": "code",
        "colab": {
          "base_uri": "https://localhost:8080/",
          "height": 51
        },
        "outputId": "46e2ac21-a2ae-4a10-f248-1051b41e7a25"
      },
      "source": [
        "print(\"RF train accuracy: %0.3f\" % rf_new.score(X_train, y_train))\n",
        "print(\"RF test accuracy: %0.3f\" % rf_new.score(X_test, y_test))"
      ],
      "execution_count": 69,
      "outputs": [
        {
          "output_type": "stream",
          "text": [
            "RF train accuracy: 0.893\n",
            "RF test accuracy: 0.869\n"
          ],
          "name": "stdout"
        }
      ]
    },
    {
      "cell_type": "code",
      "metadata": {
        "id": "2BnpppKPL3zZ",
        "colab_type": "code",
        "colab": {}
      },
      "source": [
        "y_pred = rf_new.predict(X_test)"
      ],
      "execution_count": 0,
      "outputs": []
    },
    {
      "cell_type": "code",
      "metadata": {
        "id": "PV2yFvCKHIJo",
        "colab_type": "code",
        "colab": {
          "base_uri": "https://localhost:8080/",
          "height": 221
        },
        "outputId": "bdca1e7d-d3a6-4ef9-cfdd-9531ad5436b4"
      },
      "source": [
        "from sklearn.metrics import classification_report, confusion_matrix, accuracy_score\n",
        "\n",
        "print(confusion_matrix(y_test,y_pred))\n",
        "print(classification_report(y_test,y_pred))\n",
        "print(accuracy_score(y_test, y_pred))"
      ],
      "execution_count": 72,
      "outputs": [
        {
          "output_type": "stream",
          "text": [
            "[[1435   55]\n",
            " [ 219  386]]\n",
            "              precision    recall  f1-score   support\n",
            "\n",
            "           N       0.87      0.96      0.91      1490\n",
            "           Y       0.88      0.64      0.74       605\n",
            "\n",
            "    accuracy                           0.87      2095\n",
            "   macro avg       0.87      0.80      0.83      2095\n",
            "weighted avg       0.87      0.87      0.86      2095\n",
            "\n",
            "0.8692124105011934\n"
          ],
          "name": "stdout"
        }
      ]
    },
    {
      "cell_type": "code",
      "metadata": {
        "id": "T_Ity7bqQ_cx",
        "colab_type": "code",
        "colab": {
          "base_uri": "https://localhost:8080/",
          "height": 232
        },
        "outputId": "b11c8b24-1faa-4b82-8af9-2a895082b881"
      },
      "source": [
        "from sklearn.metrics import accuracy_score, log_loss\n",
        "from sklearn.neighbors import KNeighborsClassifier\n",
        "from sklearn.svm import SVC, LinearSVC, NuSVC\n",
        "from sklearn.tree import DecisionTreeClassifier\n",
        "from sklearn.ensemble import RandomForestClassifier, AdaBoostClassifier, GradientBoostingClassifier\n",
        "from sklearn.discriminant_analysis import LinearDiscriminantAnalysis\n",
        "from sklearn.discriminant_analysis import QuadraticDiscriminantAnalysis\n",
        "classifiers = [\n",
        "    KNeighborsClassifier(3),\n",
        "    SVC(kernel=\"rbf\", C=0.025, probability=True),\n",
        "    NuSVC(probability=True),\n",
        "    DecisionTreeClassifier(),\n",
        "    RandomForestClassifier(),\n",
        "    AdaBoostClassifier(),\n",
        "    GradientBoostingClassifier()\n",
        "    ]\n",
        "for classifier in classifiers:\n",
        "    pipe = Pipeline(steps=[('preprocessor', preprocessor),\n",
        "                      ('classifier', classifier)])\n",
        "    pipe.fit(X_train, y_train)   \n",
        "    print(classifier)\n",
        "    print(\"model score: %.3f\" % pipe.score(X_test, y_test))"
      ],
      "execution_count": 73,
      "outputs": [
        {
          "output_type": "error",
          "ename": "NameError",
          "evalue": "ignored",
          "traceback": [
            "\u001b[0;31m---------------------------------------------------------------------------\u001b[0m",
            "\u001b[0;31mNameError\u001b[0m                                 Traceback (most recent call last)",
            "\u001b[0;32m<ipython-input-73-d8e3cbd832c6>\u001b[0m in \u001b[0;36m<module>\u001b[0;34m()\u001b[0m\n\u001b[1;32m     16\u001b[0m     ]\n\u001b[1;32m     17\u001b[0m \u001b[0;32mfor\u001b[0m \u001b[0mclassifier\u001b[0m \u001b[0;32min\u001b[0m \u001b[0mclassifiers\u001b[0m\u001b[0;34m:\u001b[0m\u001b[0;34m\u001b[0m\u001b[0;34m\u001b[0m\u001b[0m\n\u001b[0;32m---> 18\u001b[0;31m     pipe = Pipeline(steps=[('preprocessor', preprocessor),\n\u001b[0m\u001b[1;32m     19\u001b[0m                       ('classifier', classifier)])\n\u001b[1;32m     20\u001b[0m     \u001b[0mpipe\u001b[0m\u001b[0;34m.\u001b[0m\u001b[0mfit\u001b[0m\u001b[0;34m(\u001b[0m\u001b[0mX_train\u001b[0m\u001b[0;34m,\u001b[0m \u001b[0my_train\u001b[0m\u001b[0;34m)\u001b[0m\u001b[0;34m\u001b[0m\u001b[0;34m\u001b[0m\u001b[0m\n",
            "\u001b[0;31mNameError\u001b[0m: name 'preprocessor' is not defined"
          ]
        }
      ]
    },
    {
      "cell_type": "code",
      "metadata": {
        "id": "JCHQ6kfcS9oJ",
        "colab_type": "code",
        "colab": {}
      },
      "source": [
        ""
      ],
      "execution_count": 0,
      "outputs": []
    }
  ]
}
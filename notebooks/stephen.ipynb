{
 "cells": [
  {
   "cell_type": "code",
   "execution_count": 1,
   "metadata": {},
   "outputs": [],
   "source": [
    "import pandas as pd\n",
    "import numpy as np\n",
    "import matplotlib.pyplot as plt\n",
    "import seaborn as sns"
   ]
  },
  {
   "cell_type": "code",
   "execution_count": 9,
   "metadata": {},
   "outputs": [],
   "source": [
    "unclean_df = pd.read_excel('sqf-2018.xlsx')"
   ]
  },
  {
   "cell_type": "code",
   "execution_count": 4,
   "metadata": {
    "scrolled": true
   },
   "outputs": [
    {
     "name": "stdout",
     "output_type": "stream",
     "text": [
      "<class 'pandas.core.frame.DataFrame'>\n",
      "RangeIndex: 11008 entries, 0 to 11007\n",
      "Data columns (total 83 columns):\n",
      "STOP_FRISK_ID                                                   11008 non-null int64\n",
      "STOP_FRISK_DATE                                                 11008 non-null datetime64[ns]\n",
      "Stop Frisk Time                                                 11006 non-null object\n",
      "YEAR2                                                           11008 non-null int64\n",
      "MONTH2                                                          11008 non-null object\n",
      "DAY2                                                            11008 non-null object\n",
      "STOP_WAS_INITIATED                                              11008 non-null object\n",
      "RECORD_STATUS_CODE                                              11008 non-null object\n",
      "ISSUING_OFFICER_RANK                                            11008 non-null object\n",
      "ISSUING_OFFICER_COMMAND_CODE                                    11008 non-null int64\n",
      "SUPERVISING_OFFICER_RANK                                        11008 non-null object\n",
      "SUPERVISING_OFFICER_COMMAND_CODE                                11008 non-null int64\n",
      "SUPERVISING_ACTION_CORRESPONDING_ACTIVITY_LOG_ENTRY_REVIEWED    11008 non-null object\n",
      "LOCATION_IN_OUT_CODE                                            11008 non-null object\n",
      "JURISDICTION_CODE                                               11008 non-null object\n",
      "JURISDICTION_DESCRIPTION                                        11008 non-null object\n",
      "OBSERVED_DURATION_MINUTES                                       11008 non-null int64\n",
      "SUSPECTED_CRIME_DESCRIPTION                                     11008 non-null object\n",
      "STOP_DURATION_MINUTES                                           11008 non-null int64\n",
      "OFFICER_EXPLAINED_STOP_FLAG                                     11008 non-null object\n",
      "OFFICER_NOT_EXPLAINED_STOP_DESCRIPTION                          11007 non-null object\n",
      "OTHER_PERSON_STOPPED_FLAG                                       11008 non-null object\n",
      "SUSPECT_ARRESTED_FLAG                                           11008 non-null object\n",
      "SUSPECT_ARREST_OFFENSE                                          11008 non-null object\n",
      "SUMMONS_ISSUED_FLAG                                             11008 non-null object\n",
      "SUMMONS_OFFENSE_DESCRIPTION                                     11008 non-null object\n",
      "OFFICER_IN_UNIFORM_FLAG                                         11008 non-null object\n",
      "ID_CARD_IDENTIFIES_OFFICER_FLAG                                 11008 non-null object\n",
      "SHIELD_IDENTIFIES_OFFICER_FLAG                                  11008 non-null object\n",
      "VERBAL_IDENTIFIES_OFFICER_FLAG                                  11008 non-null object\n",
      "FRISKED_FLAG                                                    11008 non-null object\n",
      "SEARCHED_FLAG                                                   11008 non-null object\n",
      "OTHER_CONTRABAND_FLAG                                           11008 non-null object\n",
      "FIREARM_FLAG                                                    11008 non-null object\n",
      "KNIFE_CUTTER_FLAG                                               11008 non-null object\n",
      "OTHER_WEAPON_FLAG                                               11008 non-null object\n",
      "WEAPON_FOUND_FLAG                                               11008 non-null object\n",
      "PHYSICAL_FORCE_CEW_FLAG                                         11008 non-null object\n",
      "PHYSICAL_FORCE_DRAW_POINT_FIREARM_FLAG                          11008 non-null object\n",
      "PHYSICAL_FORCE_HANDCUFF_SUSPECT_FLAG                            11008 non-null object\n",
      "PHYSICAL_FORCE_OC_SPRAY_USED_FLAG                               11008 non-null object\n",
      "PHYSICAL_FORCE_OTHER_FLAG                                       11008 non-null object\n",
      "PHYSICAL_FORCE_RESTRAINT_USED_FLAG                              11008 non-null object\n",
      "PHYSICAL_FORCE_VERBAL_INSTRUCTION_FLAG                          11008 non-null object\n",
      "PHYSICAL_FORCE_WEAPON_IMPACT_FLAG                               11008 non-null object\n",
      "BACKROUND_CIRCUMSTANCES_VIOLENT_CRIME_FLAG                      11008 non-null object\n",
      "BACKROUND_CIRCUMSTANCES_SUSPECT_KNOWN_TO_CARRY_WEAPON_FLAG      11008 non-null object\n",
      "SUSPECTS_ACTIONS_CASING_FLAG                                    11008 non-null object\n",
      "SUSPECTS_ACTIONS_CONCEALED_POSSESSION_WEAPON_FLAG               11008 non-null object\n",
      "SUSPECTS_ACTIONS_DECRIPTION_FLAG                                11008 non-null object\n",
      "SUSPECTS_ACTIONS_DRUG_TRANSACTIONS_FLAG                         11008 non-null object\n",
      "SUSPECTS_ACTIONS_IDENTIFY_CRIME_PATTERN_FLAG                    11008 non-null object\n",
      "SUSPECTS_ACTIONS_LOOKOUT_FLAG                                   11008 non-null object\n",
      "SUSPECTS_ACTIONS_OTHER_FLAG                                     11008 non-null object\n",
      "SUSPECTS_ACTIONS_PROXIMITY_TO_SCENE_FLAG                        11008 non-null object\n",
      "SEARCH_BASIS_ADMISSION_FLAG                                     11008 non-null object\n",
      "SEARCH_BASIS_CONSENT_FLAG                                       11008 non-null object\n",
      "SEARCH_BASIS_HARD_OBJECT_FLAG                                   11008 non-null object\n",
      "SEARCH_BASIS_INCIDENTAL_TO_ARREST_FLAG                          11008 non-null object\n",
      "SEARCH_BASIS_OTHER_FLAG                                         11008 non-null object\n",
      "SEARCH_BASIS_OUTLINE_FLAG                                       11008 non-null object\n",
      "DEMEANOR_CODE                                                   9942 non-null object\n",
      "DEMEANOR_OF_PERSON_STOPPED                                      9896 non-null object\n",
      "SUSPECT_REPORTED_AGE                                            11008 non-null object\n",
      "SUSPECT_SEX                                                     11008 non-null object\n",
      "SUSPECT_RACE_DESCRIPTION                                        11008 non-null object\n",
      "SUSPECT_HEIGHT                                                  11008 non-null object\n",
      "SUSPECT_WEIGHT                                                  11008 non-null object\n",
      "SUSPECT_BODY_BUILD_TYPE                                         11008 non-null object\n",
      "SUSPECT_EYE_COLOR                                               11008 non-null object\n",
      "SUSPECT_HAIR_COLOR                                              11008 non-null object\n",
      "SUSPECT_OTHER_DESCRIPTION                                       10136 non-null object\n",
      "STOP_LOCATION_PRECINCT                                          11008 non-null int64\n",
      "STOP_LOCATION_SECTOR_CODE                                       11008 non-null object\n",
      "STOP_LOCATION_APARTMENT                                         10981 non-null object\n",
      "STOP_LOCATION_FULL_ADDRESS                                      11008 non-null object\n",
      "STOP_LOCATION_PREMISES_NAME                                     11008 non-null object\n",
      "STOP_LOCATION_STREET_NAME                                       11008 non-null object\n",
      "STOP_LOCATION_X                                                 11008 non-null int64\n",
      "STOP_LOCATION_Y                                                 11008 non-null int64\n",
      "STOP_LOCATION_ZIP_CODE                                          11008 non-null object\n",
      "STOP_LOCATION_PATROL_BORO_NAME                                  11008 non-null object\n",
      "STOP_LOCATION_BORO_NAME                                         11008 non-null object\n",
      "dtypes: datetime64[ns](1), int64(9), object(73)\n",
      "memory usage: 7.0+ MB\n"
     ]
    }
   ],
   "source": [
    "unclean_df.info()"
   ]
  },
  {
   "cell_type": "code",
   "execution_count": 5,
   "metadata": {},
   "outputs": [
    {
     "data": {
      "text/html": [
       "<div>\n",
       "<style scoped>\n",
       "    .dataframe tbody tr th:only-of-type {\n",
       "        vertical-align: middle;\n",
       "    }\n",
       "\n",
       "    .dataframe tbody tr th {\n",
       "        vertical-align: top;\n",
       "    }\n",
       "\n",
       "    .dataframe thead th {\n",
       "        text-align: right;\n",
       "    }\n",
       "</style>\n",
       "<table border=\"1\" class=\"dataframe\">\n",
       "  <thead>\n",
       "    <tr style=\"text-align: right;\">\n",
       "      <th></th>\n",
       "      <th>STOP_FRISK_ID</th>\n",
       "      <th>YEAR2</th>\n",
       "      <th>ISSUING_OFFICER_COMMAND_CODE</th>\n",
       "      <th>SUPERVISING_OFFICER_COMMAND_CODE</th>\n",
       "      <th>OBSERVED_DURATION_MINUTES</th>\n",
       "      <th>STOP_DURATION_MINUTES</th>\n",
       "      <th>STOP_LOCATION_PRECINCT</th>\n",
       "      <th>STOP_LOCATION_X</th>\n",
       "      <th>STOP_LOCATION_Y</th>\n",
       "    </tr>\n",
       "  </thead>\n",
       "  <tbody>\n",
       "    <tr>\n",
       "      <td>count</td>\n",
       "      <td>11008.000000</td>\n",
       "      <td>11008.0</td>\n",
       "      <td>11008.000000</td>\n",
       "      <td>11008.000000</td>\n",
       "      <td>11008.000000</td>\n",
       "      <td>11008.000000</td>\n",
       "      <td>11008.000000</td>\n",
       "      <td>1.100800e+04</td>\n",
       "      <td>11008.000000</td>\n",
       "    </tr>\n",
       "    <tr>\n",
       "      <td>mean</td>\n",
       "      <td>5504.500000</td>\n",
       "      <td>2018.0</td>\n",
       "      <td>183.268350</td>\n",
       "      <td>184.168241</td>\n",
       "      <td>21.647075</td>\n",
       "      <td>11.583757</td>\n",
       "      <td>60.983739</td>\n",
       "      <td>1.004989e+06</td>\n",
       "      <td>207880.290425</td>\n",
       "    </tr>\n",
       "    <tr>\n",
       "      <td>std</td>\n",
       "      <td>3177.880216</td>\n",
       "      <td>0.0</td>\n",
       "      <td>268.829442</td>\n",
       "      <td>268.496744</td>\n",
       "      <td>989.025666</td>\n",
       "      <td>19.137491</td>\n",
       "      <td>32.838054</td>\n",
       "      <td>1.918311e+04</td>\n",
       "      <td>29819.550356</td>\n",
       "    </tr>\n",
       "    <tr>\n",
       "      <td>min</td>\n",
       "      <td>1.000000</td>\n",
       "      <td>2018.0</td>\n",
       "      <td>1.000000</td>\n",
       "      <td>1.000000</td>\n",
       "      <td>0.000000</td>\n",
       "      <td>0.000000</td>\n",
       "      <td>1.000000</td>\n",
       "      <td>9.148030e+05</td>\n",
       "      <td>122284.000000</td>\n",
       "    </tr>\n",
       "    <tr>\n",
       "      <td>25%</td>\n",
       "      <td>2752.750000</td>\n",
       "      <td>2018.0</td>\n",
       "      <td>43.000000</td>\n",
       "      <td>43.000000</td>\n",
       "      <td>1.000000</td>\n",
       "      <td>5.000000</td>\n",
       "      <td>34.000000</td>\n",
       "      <td>9.947050e+05</td>\n",
       "      <td>184335.000000</td>\n",
       "    </tr>\n",
       "    <tr>\n",
       "      <td>50%</td>\n",
       "      <td>5504.500000</td>\n",
       "      <td>2018.0</td>\n",
       "      <td>73.000000</td>\n",
       "      <td>75.000000</td>\n",
       "      <td>1.000000</td>\n",
       "      <td>8.000000</td>\n",
       "      <td>62.000000</td>\n",
       "      <td>1.003550e+06</td>\n",
       "      <td>207011.000000</td>\n",
       "    </tr>\n",
       "    <tr>\n",
       "      <td>75%</td>\n",
       "      <td>8256.250000</td>\n",
       "      <td>2018.0</td>\n",
       "      <td>113.000000</td>\n",
       "      <td>113.000000</td>\n",
       "      <td>2.000000</td>\n",
       "      <td>15.000000</td>\n",
       "      <td>83.000000</td>\n",
       "      <td>1.014981e+06</td>\n",
       "      <td>235551.000000</td>\n",
       "    </tr>\n",
       "    <tr>\n",
       "      <td>max</td>\n",
       "      <td>11008.000000</td>\n",
       "      <td>2018.0</td>\n",
       "      <td>879.000000</td>\n",
       "      <td>881.000000</td>\n",
       "      <td>99999.000000</td>\n",
       "      <td>999.000000</td>\n",
       "      <td>123.000000</td>\n",
       "      <td>1.065899e+06</td>\n",
       "      <td>271349.000000</td>\n",
       "    </tr>\n",
       "  </tbody>\n",
       "</table>\n",
       "</div>"
      ],
      "text/plain": [
       "       STOP_FRISK_ID    YEAR2  ISSUING_OFFICER_COMMAND_CODE  \\\n",
       "count   11008.000000  11008.0                  11008.000000   \n",
       "mean     5504.500000   2018.0                    183.268350   \n",
       "std      3177.880216      0.0                    268.829442   \n",
       "min         1.000000   2018.0                      1.000000   \n",
       "25%      2752.750000   2018.0                     43.000000   \n",
       "50%      5504.500000   2018.0                     73.000000   \n",
       "75%      8256.250000   2018.0                    113.000000   \n",
       "max     11008.000000   2018.0                    879.000000   \n",
       "\n",
       "       SUPERVISING_OFFICER_COMMAND_CODE  OBSERVED_DURATION_MINUTES  \\\n",
       "count                      11008.000000               11008.000000   \n",
       "mean                         184.168241                  21.647075   \n",
       "std                          268.496744                 989.025666   \n",
       "min                            1.000000                   0.000000   \n",
       "25%                           43.000000                   1.000000   \n",
       "50%                           75.000000                   1.000000   \n",
       "75%                          113.000000                   2.000000   \n",
       "max                          881.000000               99999.000000   \n",
       "\n",
       "       STOP_DURATION_MINUTES  STOP_LOCATION_PRECINCT  STOP_LOCATION_X  \\\n",
       "count           11008.000000            11008.000000     1.100800e+04   \n",
       "mean               11.583757               60.983739     1.004989e+06   \n",
       "std                19.137491               32.838054     1.918311e+04   \n",
       "min                 0.000000                1.000000     9.148030e+05   \n",
       "25%                 5.000000               34.000000     9.947050e+05   \n",
       "50%                 8.000000               62.000000     1.003550e+06   \n",
       "75%                15.000000               83.000000     1.014981e+06   \n",
       "max               999.000000              123.000000     1.065899e+06   \n",
       "\n",
       "       STOP_LOCATION_Y  \n",
       "count     11008.000000  \n",
       "mean     207880.290425  \n",
       "std       29819.550356  \n",
       "min      122284.000000  \n",
       "25%      184335.000000  \n",
       "50%      207011.000000  \n",
       "75%      235551.000000  \n",
       "max      271349.000000  "
      ]
     },
     "execution_count": 5,
     "metadata": {},
     "output_type": "execute_result"
    }
   ],
   "source": [
    "unclean_df.describe()"
   ]
  },
  {
   "cell_type": "code",
   "execution_count": 6,
   "metadata": {},
   "outputs": [
    {
     "data": {
      "text/html": [
       "<div>\n",
       "<style scoped>\n",
       "    .dataframe tbody tr th:only-of-type {\n",
       "        vertical-align: middle;\n",
       "    }\n",
       "\n",
       "    .dataframe tbody tr th {\n",
       "        vertical-align: top;\n",
       "    }\n",
       "\n",
       "    .dataframe thead th {\n",
       "        text-align: right;\n",
       "    }\n",
       "</style>\n",
       "<table border=\"1\" class=\"dataframe\">\n",
       "  <thead>\n",
       "    <tr style=\"text-align: right;\">\n",
       "      <th></th>\n",
       "      <th>STOP_FRISK_ID</th>\n",
       "      <th>STOP_FRISK_DATE</th>\n",
       "      <th>Stop Frisk Time</th>\n",
       "      <th>YEAR2</th>\n",
       "      <th>MONTH2</th>\n",
       "      <th>DAY2</th>\n",
       "      <th>STOP_WAS_INITIATED</th>\n",
       "      <th>RECORD_STATUS_CODE</th>\n",
       "      <th>ISSUING_OFFICER_RANK</th>\n",
       "      <th>ISSUING_OFFICER_COMMAND_CODE</th>\n",
       "      <th>...</th>\n",
       "      <th>STOP_LOCATION_SECTOR_CODE</th>\n",
       "      <th>STOP_LOCATION_APARTMENT</th>\n",
       "      <th>STOP_LOCATION_FULL_ADDRESS</th>\n",
       "      <th>STOP_LOCATION_PREMISES_NAME</th>\n",
       "      <th>STOP_LOCATION_STREET_NAME</th>\n",
       "      <th>STOP_LOCATION_X</th>\n",
       "      <th>STOP_LOCATION_Y</th>\n",
       "      <th>STOP_LOCATION_ZIP_CODE</th>\n",
       "      <th>STOP_LOCATION_PATROL_BORO_NAME</th>\n",
       "      <th>STOP_LOCATION_BORO_NAME</th>\n",
       "    </tr>\n",
       "  </thead>\n",
       "  <tbody>\n",
       "    <tr>\n",
       "      <td>0</td>\n",
       "      <td>1</td>\n",
       "      <td>2018-01-01</td>\n",
       "      <td>19:04:00</td>\n",
       "      <td>2018</td>\n",
       "      <td>January</td>\n",
       "      <td>Monday</td>\n",
       "      <td>Based on C/W on Scene</td>\n",
       "      <td>APP</td>\n",
       "      <td>POM</td>\n",
       "      <td>1</td>\n",
       "      <td>...</td>\n",
       "      <td>G</td>\n",
       "      <td>(null)</td>\n",
       "      <td>VARICK STREET &amp;&amp; FRANKLIN STREET</td>\n",
       "      <td>(null)</td>\n",
       "      <td>VARICK STREET</td>\n",
       "      <td>982327</td>\n",
       "      <td>201274</td>\n",
       "      <td>(null)</td>\n",
       "      <td>PBMS</td>\n",
       "      <td>MANHATTAN</td>\n",
       "    </tr>\n",
       "    <tr>\n",
       "      <td>1</td>\n",
       "      <td>2</td>\n",
       "      <td>2018-01-01</td>\n",
       "      <td>23:00:00</td>\n",
       "      <td>2018</td>\n",
       "      <td>January</td>\n",
       "      <td>Monday</td>\n",
       "      <td>Based on Radio Run</td>\n",
       "      <td>APP</td>\n",
       "      <td>POM</td>\n",
       "      <td>34</td>\n",
       "      <td>...</td>\n",
       "      <td>C</td>\n",
       "      <td>(null)</td>\n",
       "      <td>DYCKMAN STREET &amp;&amp; POST AVENUE</td>\n",
       "      <td>(null)</td>\n",
       "      <td>DYCKMAN STREET</td>\n",
       "      <td>1004892</td>\n",
       "      <td>253548</td>\n",
       "      <td>(null)</td>\n",
       "      <td>PBMN</td>\n",
       "      <td>MANHATTAN</td>\n",
       "    </tr>\n",
       "    <tr>\n",
       "      <td>2</td>\n",
       "      <td>3</td>\n",
       "      <td>2018-01-01</td>\n",
       "      <td>23:55:00</td>\n",
       "      <td>2018</td>\n",
       "      <td>January</td>\n",
       "      <td>Monday</td>\n",
       "      <td>Based on Radio Run</td>\n",
       "      <td>APP</td>\n",
       "      <td>POM</td>\n",
       "      <td>808</td>\n",
       "      <td>...</td>\n",
       "      <td>B</td>\n",
       "      <td>4M</td>\n",
       "      <td>2245 RANDALL AVENUE</td>\n",
       "      <td>(null)</td>\n",
       "      <td>RANDALL AVENUE</td>\n",
       "      <td>1026706</td>\n",
       "      <td>237776</td>\n",
       "      <td>(null)</td>\n",
       "      <td>PBBX</td>\n",
       "      <td>BRONX</td>\n",
       "    </tr>\n",
       "    <tr>\n",
       "      <td>3</td>\n",
       "      <td>4</td>\n",
       "      <td>2018-01-01</td>\n",
       "      <td>03:23:00</td>\n",
       "      <td>2018</td>\n",
       "      <td>January</td>\n",
       "      <td>Monday</td>\n",
       "      <td>Based on Radio Run</td>\n",
       "      <td>APP</td>\n",
       "      <td>POM</td>\n",
       "      <td>63</td>\n",
       "      <td>...</td>\n",
       "      <td>B</td>\n",
       "      <td>(null)</td>\n",
       "      <td>EAST 38 STREET &amp;&amp; AVENUE L</td>\n",
       "      <td>(null)</td>\n",
       "      <td>EAST 38 STREET</td>\n",
       "      <td>1001347</td>\n",
       "      <td>166195</td>\n",
       "      <td>(null)</td>\n",
       "      <td>PBBS</td>\n",
       "      <td>BROOKLYN</td>\n",
       "    </tr>\n",
       "    <tr>\n",
       "      <td>4</td>\n",
       "      <td>5</td>\n",
       "      <td>2018-01-01</td>\n",
       "      <td>03:23:00</td>\n",
       "      <td>2018</td>\n",
       "      <td>January</td>\n",
       "      <td>Monday</td>\n",
       "      <td>Based on Radio Run</td>\n",
       "      <td>APP</td>\n",
       "      <td>POM</td>\n",
       "      <td>63</td>\n",
       "      <td>...</td>\n",
       "      <td>B</td>\n",
       "      <td>(null)</td>\n",
       "      <td>EAST 38 STREET &amp;&amp; AVENUE L</td>\n",
       "      <td>(null)</td>\n",
       "      <td>EAST 38 STREET</td>\n",
       "      <td>1001347</td>\n",
       "      <td>166195</td>\n",
       "      <td>(null)</td>\n",
       "      <td>PBBS</td>\n",
       "      <td>BROOKLYN</td>\n",
       "    </tr>\n",
       "  </tbody>\n",
       "</table>\n",
       "<p>5 rows × 83 columns</p>\n",
       "</div>"
      ],
      "text/plain": [
       "   STOP_FRISK_ID STOP_FRISK_DATE Stop Frisk Time  YEAR2   MONTH2    DAY2  \\\n",
       "0              1      2018-01-01        19:04:00   2018  January  Monday   \n",
       "1              2      2018-01-01        23:00:00   2018  January  Monday   \n",
       "2              3      2018-01-01        23:55:00   2018  January  Monday   \n",
       "3              4      2018-01-01        03:23:00   2018  January  Monday   \n",
       "4              5      2018-01-01        03:23:00   2018  January  Monday   \n",
       "\n",
       "      STOP_WAS_INITIATED RECORD_STATUS_CODE ISSUING_OFFICER_RANK  \\\n",
       "0  Based on C/W on Scene                APP                  POM   \n",
       "1     Based on Radio Run                APP                  POM   \n",
       "2     Based on Radio Run                APP                  POM   \n",
       "3     Based on Radio Run                APP                  POM   \n",
       "4     Based on Radio Run                APP                  POM   \n",
       "\n",
       "   ISSUING_OFFICER_COMMAND_CODE  ... STOP_LOCATION_SECTOR_CODE  \\\n",
       "0                             1  ...                         G   \n",
       "1                            34  ...                         C   \n",
       "2                           808  ...                         B   \n",
       "3                            63  ...                         B   \n",
       "4                            63  ...                         B   \n",
       "\n",
       "   STOP_LOCATION_APARTMENT        STOP_LOCATION_FULL_ADDRESS  \\\n",
       "0                   (null)  VARICK STREET && FRANKLIN STREET   \n",
       "1                   (null)     DYCKMAN STREET && POST AVENUE   \n",
       "2                       4M               2245 RANDALL AVENUE   \n",
       "3                   (null)        EAST 38 STREET && AVENUE L   \n",
       "4                   (null)        EAST 38 STREET && AVENUE L   \n",
       "\n",
       "  STOP_LOCATION_PREMISES_NAME STOP_LOCATION_STREET_NAME STOP_LOCATION_X  \\\n",
       "0                      (null)             VARICK STREET          982327   \n",
       "1                      (null)            DYCKMAN STREET         1004892   \n",
       "2                      (null)            RANDALL AVENUE         1026706   \n",
       "3                      (null)            EAST 38 STREET         1001347   \n",
       "4                      (null)            EAST 38 STREET         1001347   \n",
       "\n",
       "   STOP_LOCATION_Y STOP_LOCATION_ZIP_CODE  STOP_LOCATION_PATROL_BORO_NAME  \\\n",
       "0           201274                 (null)                            PBMS   \n",
       "1           253548                 (null)                            PBMN   \n",
       "2           237776                 (null)                            PBBX   \n",
       "3           166195                 (null)                            PBBS   \n",
       "4           166195                 (null)                            PBBS   \n",
       "\n",
       "  STOP_LOCATION_BORO_NAME  \n",
       "0               MANHATTAN  \n",
       "1               MANHATTAN  \n",
       "2                   BRONX  \n",
       "3                BROOKLYN  \n",
       "4                BROOKLYN  \n",
       "\n",
       "[5 rows x 83 columns]"
      ]
     },
     "execution_count": 6,
     "metadata": {},
     "output_type": "execute_result"
    }
   ],
   "source": [
    "unclean_df.head()"
   ]
  },
  {
   "cell_type": "code",
   "execution_count": 8,
   "metadata": {},
   "outputs": [
    {
     "data": {
      "text/plain": [
       "March        1057\n",
       "May          1039\n",
       "August        979\n",
       "September     937\n",
       "July          928\n",
       "January       923\n",
       "April         912\n",
       "June          912\n",
       "October       880\n",
       "February      860\n",
       "November      803\n",
       "December      778\n",
       "Name: MONTH2, dtype: int64"
      ]
     },
     "execution_count": 8,
     "metadata": {},
     "output_type": "execute_result"
    }
   ],
   "source": [
    "unclean_df.MONTH2.value_counts()"
   ]
  },
  {
   "cell_type": "code",
   "execution_count": 9,
   "metadata": {},
   "outputs": [
    {
     "data": {
      "text/plain": [
       "Saturday     1767\n",
       "Wednesday    1708\n",
       "Thursday     1614\n",
       "Tuesday      1586\n",
       "Friday       1577\n",
       "Sunday       1435\n",
       "Monday       1321\n",
       "Name: DAY2, dtype: int64"
      ]
     },
     "execution_count": 9,
     "metadata": {},
     "output_type": "execute_result"
    }
   ],
   "source": [
    "unclean_df.DAY2.value_counts()"
   ]
  },
  {
   "cell_type": "code",
   "execution_count": 10,
   "metadata": {},
   "outputs": [
    {
     "data": {
      "text/plain": [
       "Based on Radio Run         6375\n",
       "Based on Self Initiated    2896\n",
       "Based on C/W on Scene      1737\n",
       "Name: STOP_WAS_INITIATED, dtype: int64"
      ]
     },
     "execution_count": 10,
     "metadata": {},
     "output_type": "execute_result"
    }
   ],
   "source": [
    "unclean_df.STOP_WAS_INITIATED.value_counts()"
   ]
  },
  {
   "cell_type": "code",
   "execution_count": 12,
   "metadata": {},
   "outputs": [
    {
     "data": {
      "text/plain": [
       "APP    11008\n",
       "Name: RECORD_STATUS_CODE, dtype: int64"
      ]
     },
     "execution_count": 12,
     "metadata": {},
     "output_type": "execute_result"
    }
   ],
   "source": [
    "unclean_df.RECORD_STATUS_CODE.value_counts() # not useful"
   ]
  },
  {
   "cell_type": "code",
   "execution_count": 11,
   "metadata": {},
   "outputs": [
    {
     "data": {
      "text/plain": [
       "POM    9251\n",
       "POF    1225\n",
       "DTS     183\n",
       "SGT     177\n",
       "DT3      86\n",
       "LT       51\n",
       "DT2      15\n",
       "SSA       6\n",
       "SDS       4\n",
       "LSA       3\n",
       "CPT       3\n",
       "DT1       2\n",
       "DI        1\n",
       "INS       1\n",
       "Name: ISSUING_OFFICER_RANK, dtype: int64"
      ]
     },
     "execution_count": 11,
     "metadata": {},
     "output_type": "execute_result"
    }
   ],
   "source": [
    "unclean_df.ISSUING_OFFICER_RANK.value_counts() # non-random since fewer higher rank"
   ]
  },
  {
   "cell_type": "code",
   "execution_count": 13,
   "metadata": {},
   "outputs": [
    {
     "data": {
      "text/plain": [
       "SGT    8967\n",
       "LT     1687\n",
       "SSA     196\n",
       "LSA      59\n",
       "POM      34\n",
       "CPT      27\n",
       "SDS      16\n",
       "POF       9\n",
       "LCD       9\n",
       "DI        4\n",
       "Name: SUPERVISING_OFFICER_RANK, dtype: int64"
      ]
     },
     "execution_count": 13,
     "metadata": {},
     "output_type": "execute_result"
    }
   ],
   "source": [
    "unclean_df.SUPERVISING_OFFICER_RANK.value_counts()"
   ]
  },
  {
   "cell_type": "code",
   "execution_count": 14,
   "metadata": {},
   "outputs": [
    {
     "data": {
      "text/plain": [
       "P         6035\n",
       "(null)    3265\n",
       "H         1261\n",
       "T          401\n",
       "A           46\n",
       "Name: JURISDICTION_CODE, dtype: int64"
      ]
     },
     "execution_count": 14,
     "metadata": {},
     "output_type": "execute_result"
    }
   ],
   "source": [
    "unclean_df.JURISDICTION_CODE.value_counts()"
   ]
  },
  {
   "cell_type": "code",
   "execution_count": 47,
   "metadata": {},
   "outputs": [
    {
     "data": {
      "text/plain": [
       "PSB                           6035\n",
       "(null)                        3265\n",
       "Housing                       1261\n",
       "Transit                        401\n",
       "Trespass Affifavit Program      46\n",
       "Name: JURISDICTION_DESCRIPTION, dtype: int64"
      ]
     },
     "execution_count": 47,
     "metadata": {},
     "output_type": "execute_result"
    }
   ],
   "source": [
    "unclean_df.JURISDICTION_DESCRIPTION.value_counts() # clearer version of jurisdiction code\n",
    "# (null) is not perceived as a NaN, no need to encode as new string"
   ]
  },
  {
   "cell_type": "code",
   "execution_count": 17,
   "metadata": {},
   "outputs": [
    {
     "data": {
      "text/plain": [
       "1       6680\n",
       "0       1317\n",
       "2       1315\n",
       "5        644\n",
       "3        377\n",
       "        ... \n",
       "1259       1\n",
       "59         1\n",
       "1730       1\n",
       "1450       1\n",
       "1539       1\n",
       "Name: OBSERVED_DURATION_MINUTES, Length: 75, dtype: int64"
      ]
     },
     "execution_count": 17,
     "metadata": {},
     "output_type": "execute_result"
    }
   ],
   "source": [
    "unclean_df.OBSERVED_DURATION_MINUTES.value_counts()"
   ]
  },
  {
   "cell_type": "code",
   "execution_count": 18,
   "metadata": {},
   "outputs": [
    {
     "data": {
      "text/plain": [
       "<matplotlib.axes._subplots.AxesSubplot at 0x1a211950b8>"
      ]
     },
     "execution_count": 18,
     "metadata": {},
     "output_type": "execute_result"
    },
    {
     "data": {
      "image/png": "[encoded data removed]",
      "text/plain": [
       "<Figure size 432x288 with 1 Axes>"
      ]
     },
     "metadata": {
      "needs_background": "light"
     },
     "output_type": "display_data"
    }
   ],
   "source": [
    "sns.distplot(unclean_df.OBSERVED_DURATION_MINUTES) # horribly skewed"
   ]
  },
  {
   "cell_type": "code",
   "execution_count": 20,
   "metadata": {},
   "outputs": [
    {
     "data": {
      "text/plain": [
       "CPW                                            2962\n",
       "ROBBERY                                        1605\n",
       "ASSAULT                                        1485\n",
       "PETIT LARCENY                                  1010\n",
       "BURGLARY                                        844\n",
       "OTHER                                           524\n",
       "CRIMINAL TRESPASS                               484\n",
       "GRAND LARCENY                                   440\n",
       "GRAND LARCENY AUTO                              347\n",
       "CRIMINAL POSSESSION OF MARIHUANA                255\n",
       "MENACING                                        221\n",
       "CRIMINAL MISCHIEF                               192\n",
       "CRIMINAL POSSESSION OF CONTROLLED SUBSTANCE      85\n",
       "UNAUTHORIZED USE OF A VEHICLE                    83\n",
       "CRIMINAL SALE OF CONTROLLED SUBSTANCE            83\n",
       "RECKLESS ENDANGERMENT                            59\n",
       "CPSP                                             58\n",
       "AUTO STRIPPIG                                    49\n",
       "MAKING GRAFFITI                                  42\n",
       "FORCIBLE TOUCHING                                36\n",
       "THEFT OF SERVICES                                34\n",
       "CRIMINAL SALE OF MARIHUANA                       25\n",
       "MURDER                                           22\n",
       "CRIMINAL POSSESSION OF FORGED INSTRUMENT         20\n",
       "RAPE                                             20\n",
       "PROSTITUTION                                     15\n",
       "TERRORISM                                         8\n",
       "Name: SUSPECTED_CRIME_DESCRIPTION, dtype: int64"
      ]
     },
     "execution_count": 20,
     "metadata": {},
     "output_type": "execute_result"
    }
   ],
   "source": [
    "unclean_df.SUSPECTED_CRIME_DESCRIPTION.value_counts() # very sparse in some categories, may be correlated with SUBJECT_ARREST_OFFENSE"
   ]
  },
  {
   "cell_type": "code",
   "execution_count": 21,
   "metadata": {},
   "outputs": [
    {
     "data": {
      "text/plain": [
       "5      2583\n",
       "10     1970\n",
       "15      780\n",
       "2       705\n",
       "3       638\n",
       "       ... \n",
       "59        1\n",
       "51        1\n",
       "418       1\n",
       "202       1\n",
       "203       1\n",
       "Name: STOP_DURATION_MINUTES, Length: 113, dtype: int64"
      ]
     },
     "execution_count": 21,
     "metadata": {},
     "output_type": "execute_result"
    }
   ],
   "source": [
    "unclean_df.STOP_DURATION_MINUTES.value_counts()"
   ]
  },
  {
   "cell_type": "code",
   "execution_count": 22,
   "metadata": {},
   "outputs": [
    {
     "data": {
      "text/plain": [
       "<matplotlib.axes._subplots.AxesSubplot at 0x1a227ab438>"
      ]
     },
     "execution_count": 22,
     "metadata": {},
     "output_type": "execute_result"
    },
    {
     "data": {
      "image/png": "[encoded data removed]",
      "text/plain": [
       "<Figure size 432x288 with 1 Axes>"
      ]
     },
     "metadata": {
      "needs_background": "light"
     },
     "output_type": "display_data"
    }
   ],
   "source": [
    "sns.distplot(unclean_df.STOP_DURATION_MINUTES) # also very skewed"
   ]
  },
  {
   "cell_type": "code",
   "execution_count": 23,
   "metadata": {},
   "outputs": [
    {
     "data": {
      "text/plain": [
       "Y    10865\n",
       "N      143\n",
       "Name: OFFICER_EXPLAINED_STOP_FLAG, dtype: int64"
      ]
     },
     "execution_count": 23,
     "metadata": {},
     "output_type": "execute_result"
    }
   ],
   "source": [
    "unclean_df.OFFICER_EXPLAINED_STOP_FLAG.value_counts() # very lopsided, could complicate cross-validation"
   ]
  },
  {
   "cell_type": "code",
   "execution_count": 24,
   "metadata": {},
   "outputs": [
    {
     "data": {
      "text/plain": [
       "(null)                                                         10865\n",
       "ARREST                                                             5\n",
       "SUSPECT FLED                                                       3\n",
       "NOT FEASIBLE DUE TO THE VIOLENT NATURE OF THE CRIME                3\n",
       "ARRESTED                                                           3\n",
       "                                                               ...  \n",
       "SUBJECT FLED                                                       1\n",
       "DIDN'T GET A CHANCE TO                                             1\n",
       "STUDENT WAS NOT INFORMED UNTIL ARRIVAL OF 19PCT SCHOOL UNIT        1\n",
       "C/W ACCUSED SUBJECT OF CRIME IN FRONT OF POLICE                    1\n",
       "CROWD CONTROL AND SAFETY OF OFFICERS AND PUBLIC                    1\n",
       "Name: OFFICER_NOT_EXPLAINED_STOP_DESCRIPTION, Length: 124, dtype: int64"
      ]
     },
     "execution_count": 24,
     "metadata": {},
     "output_type": "execute_result"
    }
   ],
   "source": [
    "unclean_df.OFFICER_NOT_EXPLAINED_STOP_DESCRIPTION.value_counts() # not so useful for modeling purposes"
   ]
  },
  {
   "cell_type": "code",
   "execution_count": 25,
   "metadata": {},
   "outputs": [
    {
     "data": {
      "text/plain": [
       "N    6793\n",
       "Y    4215\n",
       "Name: OTHER_PERSON_STOPPED_FLAG, dtype: int64"
      ]
     },
     "execution_count": 25,
     "metadata": {},
     "output_type": "execute_result"
    }
   ],
   "source": [
    "unclean_df.OTHER_PERSON_STOPPED_FLAG.value_counts()"
   ]
  },
  {
   "cell_type": "code",
   "execution_count": 26,
   "metadata": {},
   "outputs": [
    {
     "data": {
      "text/plain": [
       "N    7893\n",
       "Y    3115\n",
       "Name: SUSPECT_ARRESTED_FLAG, dtype: int64"
      ]
     },
     "execution_count": 26,
     "metadata": {},
     "output_type": "execute_result"
    }
   ],
   "source": [
    "unclean_df.SUSPECT_ARRESTED_FLAG.value_counts() # our response"
   ]
  },
  {
   "cell_type": "code",
   "execution_count": 27,
   "metadata": {},
   "outputs": [
    {
     "data": {
      "text/plain": [
       "(null)                                         7893\n",
       "CPW                                             569\n",
       "ROBBERY                                         452\n",
       "PETIT LARCENY                                   393\n",
       "ASSAULT                                         360\n",
       "CRIMINAL TRESPASS                               296\n",
       "OTHER                                           236\n",
       "CRIMINAL POSSESSION OF CONTROLLED SUBSTANCE     134\n",
       "BURGLARY                                        132\n",
       "GRAND LARCENY                                   120\n",
       "CRIMINAL MISCHIEF                                83\n",
       "MENACING                                         64\n",
       "CRIMINAL POSSESSION OF MARIHUANA                 51\n",
       "CPSP                                             39\n",
       "UNAUTHORIZED USE OF A VEHICLE                    38\n",
       "GRAND LARCENY AUTO                               29\n",
       "CRIMINAL SALE OF CONTROLLED SUBSTANCE            28\n",
       "MAKING GRAFFITI                                  18\n",
       "RECKLESS ENDANGERMENT                            14\n",
       "CRIMINAL POSSESSION OF FORGED INSTRUMENT         14\n",
       "FORCIBLE TOUCHING                                12\n",
       "MURDER                                           10\n",
       "AUTO STRIPPIG                                     7\n",
       "RAPE                                              5\n",
       "PROSTITUTION                                      4\n",
       "THEFT OF SERVICES                                 3\n",
       "CRIMINAL SALE OF MARIHUANA                        3\n",
       "TERRORISM                                         1\n",
       "Name: SUSPECT_ARREST_OFFENSE, dtype: int64"
      ]
     },
     "execution_count": 27,
     "metadata": {},
     "output_type": "execute_result"
    }
   ],
   "source": [
    "unclean_df.SUSPECT_ARREST_OFFENSE.value_counts() # very sparse in some places"
   ]
  },
  {
   "cell_type": "code",
   "execution_count": 28,
   "metadata": {},
   "outputs": [
    {
     "data": {
      "text/plain": [
       "N    10716\n",
       "Y      292\n",
       "Name: SUMMONS_ISSUED_FLAG, dtype: int64"
      ]
     },
     "execution_count": 28,
     "metadata": {},
     "output_type": "execute_result"
    }
   ],
   "source": [
    "unclean_df.SUMMONS_ISSUED_FLAG.value_counts() # also very lopsided"
   ]
  },
  {
   "cell_type": "code",
   "execution_count": 29,
   "metadata": {},
   "outputs": [
    {
     "data": {
      "text/plain": [
       "(null)                            10716\n",
       "MARIJUANA POSSESSION                105\n",
       "OTHER                                56\n",
       "DISORDERLY CONDUCT                   43\n",
       "TRESPASS, CRIMINAL 4                 22\n",
       "KNIFE, UNLAWFUL POSSESSION           20\n",
       "ADMIN CODE VIOL.(UNCLASSIFIED)       16\n",
       "ADMIN CODE PUBLIC CONSUMPTION        15\n",
       "TRANSIT RULES/REG., NYC              12\n",
       "PARK RULES & REG. VIOLATION           2\n",
       "LITTERING/DUMPING                     1\n",
       "Name: SUMMONS_OFFENSE_DESCRIPTION, dtype: int64"
      ]
     },
     "execution_count": 29,
     "metadata": {},
     "output_type": "execute_result"
    }
   ],
   "source": [
    "unclean_df.SUMMONS_OFFENSE_DESCRIPTION.value_counts() # majority null; concerning"
   ]
  },
  {
   "cell_type": "code",
   "execution_count": 30,
   "metadata": {},
   "outputs": [
    {
     "data": {
      "text/plain": [
       "Y    8140\n",
       "N    2868\n",
       "Name: OFFICER_IN_UNIFORM_FLAG, dtype: int64"
      ]
     },
     "execution_count": 30,
     "metadata": {},
     "output_type": "execute_result"
    }
   ],
   "source": [
    "unclean_df.OFFICER_IN_UNIFORM_FLAG.value_counts()"
   ]
  },
  {
   "cell_type": "code",
   "execution_count": 31,
   "metadata": {},
   "outputs": [
    {
     "data": {
      "text/plain": [
       "(null)    10933\n",
       "I            75\n",
       "Name: ID_CARD_IDENTIFIES_OFFICER_FLAG, dtype: int64"
      ]
     },
     "execution_count": 31,
     "metadata": {},
     "output_type": "execute_result"
    }
   ],
   "source": [
    "unclean_df.ID_CARD_IDENTIFIES_OFFICER_FLAG.value_counts() # not good, maybe too lopsided to be useful"
   ]
  },
  {
   "cell_type": "code",
   "execution_count": 32,
   "metadata": {},
   "outputs": [
    {
     "data": {
      "text/plain": [
       "(null)    8402\n",
       "S         2606\n",
       "Name: SHIELD_IDENTIFIES_OFFICER_FLAG, dtype: int64"
      ]
     },
     "execution_count": 32,
     "metadata": {},
     "output_type": "execute_result"
    }
   ],
   "source": [
    "unclean_df.SHIELD_IDENTIFIES_OFFICER_FLAG.value_counts() # not good; recall no need to encode (null) as new string"
   ]
  },
  {
   "cell_type": "code",
   "execution_count": 33,
   "metadata": {},
   "outputs": [
    {
     "data": {
      "text/plain": [
       "(null)    8748\n",
       "V         2260\n",
       "Name: VERBAL_IDENTIFIES_OFFICER_FLAG, dtype: int64"
      ]
     },
     "execution_count": 33,
     "metadata": {},
     "output_type": "execute_result"
    }
   ],
   "source": [
    "unclean_df.VERBAL_IDENTIFIES_OFFICER_FLAG.value_counts() # not good"
   ]
  },
  {
   "cell_type": "code",
   "execution_count": 51,
   "metadata": {},
   "outputs": [
    {
     "data": {
      "text/plain": [
       "Y    6519\n",
       "N    4489\n",
       "Name: FRISKED_FLAG, dtype: int64"
      ]
     },
     "execution_count": 51,
     "metadata": {},
     "output_type": "execute_result"
    }
   ],
   "source": [
    "unclean_df.FRISKED_FLAG.value_counts()"
   ]
  },
  {
   "cell_type": "code",
   "execution_count": 52,
   "metadata": {},
   "outputs": [
    {
     "data": {
      "text/plain": [
       "N    7340\n",
       "Y    3668\n",
       "Name: SEARCHED_FLAG, dtype: int64"
      ]
     },
     "execution_count": 52,
     "metadata": {},
     "output_type": "execute_result"
    }
   ],
   "source": [
    "unclean_df.SEARCHED_FLAG.value_counts()"
   ]
  },
  {
   "cell_type": "code",
   "execution_count": 53,
   "metadata": {},
   "outputs": [
    {
     "data": {
      "text/plain": [
       "N    10058\n",
       "Y      950\n",
       "Name: OTHER_CONTRABAND_FLAG, dtype: int64"
      ]
     },
     "execution_count": 53,
     "metadata": {},
     "output_type": "execute_result"
    }
   ],
   "source": [
    "unclean_df.OTHER_CONTRABAND_FLAG.value_counts()"
   ]
  },
  {
   "cell_type": "code",
   "execution_count": 54,
   "metadata": {},
   "outputs": [
    {
     "data": {
      "text/plain": [
       "(null)    10685\n",
       "Y           323\n",
       "Name: FIREARM_FLAG, dtype: int64"
      ]
     },
     "execution_count": 54,
     "metadata": {},
     "output_type": "execute_result"
    }
   ],
   "source": [
    "unclean_df.FIREARM_FLAG.value_counts() # also lopsided"
   ]
  },
  {
   "cell_type": "code",
   "execution_count": 55,
   "metadata": {},
   "outputs": [
    {
     "data": {
      "text/plain": [
       "(null)    10457\n",
       "Y           551\n",
       "Name: KNIFE_CUTTER_FLAG, dtype: int64"
      ]
     },
     "execution_count": 55,
     "metadata": {},
     "output_type": "execute_result"
    }
   ],
   "source": [
    "unclean_df.KNIFE_CUTTER_FLAG.value_counts()"
   ]
  },
  {
   "cell_type": "code",
   "execution_count": 56,
   "metadata": {},
   "outputs": [
    {
     "data": {
      "text/plain": [
       "(null)    10860\n",
       "Y           148\n",
       "Name: OTHER_WEAPON_FLAG, dtype: int64"
      ]
     },
     "execution_count": 56,
     "metadata": {},
     "output_type": "execute_result"
    }
   ],
   "source": [
    "unclean_df.OTHER_WEAPON_FLAG.value_counts()"
   ]
  },
  {
   "cell_type": "code",
   "execution_count": 57,
   "metadata": {},
   "outputs": [
    {
     "data": {
      "text/plain": [
       "N    10054\n",
       "Y      954\n",
       "Name: WEAPON_FOUND_FLAG, dtype: int64"
      ]
     },
     "execution_count": 57,
     "metadata": {},
     "output_type": "execute_result"
    }
   ],
   "source": [
    "unclean_df.WEAPON_FOUND_FLAG.value_counts()"
   ]
  },
  {
   "cell_type": "code",
   "execution_count": 58,
   "metadata": {},
   "outputs": [
    {
     "data": {
      "text/plain": [
       "(null)    10990\n",
       "Y            18\n",
       "Name: PHYSICAL_FORCE_CEW_FLAG, dtype: int64"
      ]
     },
     "execution_count": 58,
     "metadata": {},
     "output_type": "execute_result"
    }
   ],
   "source": [
    "unclean_df.PHYSICAL_FORCE_CEW_FLAG.value_counts() # probably too sparse"
   ]
  },
  {
   "cell_type": "code",
   "execution_count": 59,
   "metadata": {},
   "outputs": [
    {
     "data": {
      "text/plain": [
       "(null)    10565\n",
       "Y           443\n",
       "Name: PHYSICAL_FORCE_DRAW_POINT_FIREARM_FLAG, dtype: int64"
      ]
     },
     "execution_count": 59,
     "metadata": {},
     "output_type": "execute_result"
    }
   ],
   "source": [
    "unclean_df.PHYSICAL_FORCE_DRAW_POINT_FIREARM_FLAG.value_counts()"
   ]
  },
  {
   "cell_type": "code",
   "execution_count": 60,
   "metadata": {},
   "outputs": [
    {
     "data": {
      "text/plain": [
       "(null)    9127\n",
       "Y         1881\n",
       "Name: PHYSICAL_FORCE_HANDCUFF_SUSPECT_FLAG, dtype: int64"
      ]
     },
     "execution_count": 60,
     "metadata": {},
     "output_type": "execute_result"
    }
   ],
   "source": [
    "unclean_df.PHYSICAL_FORCE_HANDCUFF_SUSPECT_FLAG.value_counts() # is not exactly equivalent to our response"
   ]
  },
  {
   "cell_type": "code",
   "execution_count": 61,
   "metadata": {},
   "outputs": [
    {
     "data": {
      "text/plain": [
       "(null)    11007\n",
       "Y             1\n",
       "Name: PHYSICAL_FORCE_OC_SPRAY_USED_FLAG, dtype: int64"
      ]
     },
     "execution_count": 61,
     "metadata": {},
     "output_type": "execute_result"
    }
   ],
   "source": [
    "unclean_df.PHYSICAL_FORCE_OC_SPRAY_USED_FLAG.value_counts() # not usable"
   ]
  },
  {
   "cell_type": "code",
   "execution_count": 62,
   "metadata": {},
   "outputs": [
    {
     "data": {
      "text/plain": [
       "(null)    10700\n",
       "Y           308\n",
       "Name: PHYSICAL_FORCE_OTHER_FLAG, dtype: int64"
      ]
     },
     "execution_count": 62,
     "metadata": {},
     "output_type": "execute_result"
    }
   ],
   "source": [
    "unclean_df.PHYSICAL_FORCE_OTHER_FLAG.value_counts() # maybe usable, but we don't know what this entails"
   ]
  },
  {
   "cell_type": "code",
   "execution_count": 63,
   "metadata": {},
   "outputs": [
    {
     "data": {
      "text/plain": [
       "(null)    10728\n",
       "Y           280\n",
       "Name: PHYSICAL_FORCE_RESTRAINT_USED_FLAG, dtype: int64"
      ]
     },
     "execution_count": 63,
     "metadata": {},
     "output_type": "execute_result"
    }
   ],
   "source": [
    "unclean_df.PHYSICAL_FORCE_RESTRAINT_USED_FLAG.value_counts()"
   ]
  },
  {
   "cell_type": "code",
   "execution_count": 64,
   "metadata": {},
   "outputs": [
    {
     "data": {
      "text/plain": [
       "Y         9975\n",
       "(null)    1033\n",
       "Name: PHYSICAL_FORCE_VERBAL_INSTRUCTION_FLAG, dtype: int64"
      ]
     },
     "execution_count": 64,
     "metadata": {},
     "output_type": "execute_result"
    }
   ],
   "source": [
    "unclean_df.PHYSICAL_FORCE_VERBAL_INSTRUCTION_FLAG.value_counts()"
   ]
  },
  {
   "cell_type": "code",
   "execution_count": 65,
   "metadata": {},
   "outputs": [
    {
     "data": {
      "text/plain": [
       "(null)    11004\n",
       "Y             4\n",
       "Name: PHYSICAL_FORCE_WEAPON_IMPACT_FLAG, dtype: int64"
      ]
     },
     "execution_count": 65,
     "metadata": {},
     "output_type": "execute_result"
    }
   ],
   "source": [
    "unclean_df.PHYSICAL_FORCE_WEAPON_IMPACT_FLAG.value_counts() # not usable"
   ]
  },
  {
   "cell_type": "code",
   "execution_count": 66,
   "metadata": {},
   "outputs": [
    {
     "data": {
      "text/plain": [
       "(null)    7859\n",
       "Y         3149\n",
       "Name: BACKROUND_CIRCUMSTANCES_VIOLENT_CRIME_FLAG, dtype: int64"
      ]
     },
     "execution_count": 66,
     "metadata": {},
     "output_type": "execute_result"
    }
   ],
   "source": [
    "unclean_df.BACKROUND_CIRCUMSTANCES_VIOLENT_CRIME_FLAG.value_counts() "
   ]
  },
  {
   "cell_type": "code",
   "execution_count": 67,
   "metadata": {},
   "outputs": [
    {
     "data": {
      "text/plain": [
       "(null)    10667\n",
       "Y           341\n",
       "Name: BACKROUND_CIRCUMSTANCES_SUSPECT_KNOWN_TO_CARRY_WEAPON_FLAG, dtype: int64"
      ]
     },
     "execution_count": 67,
     "metadata": {},
     "output_type": "execute_result"
    }
   ],
   "source": [
    "unclean_df.BACKROUND_CIRCUMSTANCES_SUSPECT_KNOWN_TO_CARRY_WEAPON_FLAG.value_counts()"
   ]
  },
  {
   "cell_type": "code",
   "execution_count": 68,
   "metadata": {},
   "outputs": [
    {
     "data": {
      "text/plain": [
       "(null)    10378\n",
       "Y           630\n",
       "Name: SUSPECTS_ACTIONS_CASING_FLAG, dtype: int64"
      ]
     },
     "execution_count": 68,
     "metadata": {},
     "output_type": "execute_result"
    }
   ],
   "source": [
    "unclean_df.SUSPECTS_ACTIONS_CASING_FLAG.value_counts()"
   ]
  },
  {
   "cell_type": "code",
   "execution_count": 69,
   "metadata": {},
   "outputs": [
    {
     "data": {
      "text/plain": [
       "(null)    9384\n",
       "Y         1624\n",
       "Name: SUSPECTS_ACTIONS_CONCEALED_POSSESSION_WEAPON_FLAG, dtype: int64"
      ]
     },
     "execution_count": 69,
     "metadata": {},
     "output_type": "execute_result"
    }
   ],
   "source": [
    "unclean_df.SUSPECTS_ACTIONS_CONCEALED_POSSESSION_WEAPON_FLAG.value_counts()"
   ]
  },
  {
   "cell_type": "code",
   "execution_count": 70,
   "metadata": {},
   "outputs": [
    {
     "data": {
      "text/plain": [
       "Y         6470\n",
       "(null)    4538\n",
       "Name: SUSPECTS_ACTIONS_DECRIPTION_FLAG, dtype: int64"
      ]
     },
     "execution_count": 70,
     "metadata": {},
     "output_type": "execute_result"
    }
   ],
   "source": [
    "unclean_df.SUSPECTS_ACTIONS_DECRIPTION_FLAG.value_counts() # what does this mean?"
   ]
  },
  {
   "cell_type": "code",
   "execution_count": 71,
   "metadata": {},
   "outputs": [
    {
     "data": {
      "text/plain": [
       "(null)    10818\n",
       "Y           190\n",
       "Name: SUSPECTS_ACTIONS_DRUG_TRANSACTIONS_FLAG, dtype: int64"
      ]
     },
     "execution_count": 71,
     "metadata": {},
     "output_type": "execute_result"
    }
   ],
   "source": [
    "unclean_df.SUSPECTS_ACTIONS_DRUG_TRANSACTIONS_FLAG.value_counts()"
   ]
  },
  {
   "cell_type": "code",
   "execution_count": 72,
   "metadata": {},
   "outputs": [
    {
     "data": {
      "text/plain": [
       "(null)    10880\n",
       "Y           128\n",
       "Name: SUSPECTS_ACTIONS_IDENTIFY_CRIME_PATTERN_FLAG, dtype: int64"
      ]
     },
     "execution_count": 72,
     "metadata": {},
     "output_type": "execute_result"
    }
   ],
   "source": [
    "unclean_df.SUSPECTS_ACTIONS_IDENTIFY_CRIME_PATTERN_FLAG.value_counts() # what does this mean?"
   ]
  },
  {
   "cell_type": "code",
   "execution_count": 73,
   "metadata": {},
   "outputs": [
    {
     "data": {
      "text/plain": [
       "(null)    10774\n",
       "Y           234\n",
       "Name: SUSPECTS_ACTIONS_LOOKOUT_FLAG, dtype: int64"
      ]
     },
     "execution_count": 73,
     "metadata": {},
     "output_type": "execute_result"
    }
   ],
   "source": [
    "unclean_df.SUSPECTS_ACTIONS_LOOKOUT_FLAG.value_counts() # don't know what this means"
   ]
  },
  {
   "cell_type": "code",
   "execution_count": 74,
   "metadata": {},
   "outputs": [
    {
     "data": {
      "text/plain": [
       "(null)    7799\n",
       "Y         3209\n",
       "Name: SUSPECTS_ACTIONS_OTHER_FLAG, dtype: int64"
      ]
     },
     "execution_count": 74,
     "metadata": {},
     "output_type": "execute_result"
    }
   ],
   "source": [
    "unclean_df.SUSPECTS_ACTIONS_OTHER_FLAG.value_counts() # don't know what this means"
   ]
  },
  {
   "cell_type": "code",
   "execution_count": 75,
   "metadata": {},
   "outputs": [
    {
     "data": {
      "text/plain": [
       "(null)    6668\n",
       "Y         4340\n",
       "Name: SUSPECTS_ACTIONS_PROXIMITY_TO_SCENE_FLAG, dtype: int64"
      ]
     },
     "execution_count": 75,
     "metadata": {},
     "output_type": "execute_result"
    }
   ],
   "source": [
    "unclean_df.SUSPECTS_ACTIONS_PROXIMITY_TO_SCENE_FLAG.value_counts() # also difficult to interpret"
   ]
  },
  {
   "cell_type": "code",
   "execution_count": 76,
   "metadata": {},
   "outputs": [
    {
     "data": {
      "text/plain": [
       "(null)    10808\n",
       "Y           200\n",
       "Name: SEARCH_BASIS_ADMISSION_FLAG, dtype: int64"
      ]
     },
     "execution_count": 76,
     "metadata": {},
     "output_type": "execute_result"
    }
   ],
   "source": [
    "unclean_df.SEARCH_BASIS_ADMISSION_FLAG.value_counts()"
   ]
  },
  {
   "cell_type": "code",
   "execution_count": 78,
   "metadata": {},
   "outputs": [
    {
     "data": {
      "text/plain": [
       "(null)    10287\n",
       "Y           721\n",
       "Name: SEARCH_BASIS_CONSENT_FLAG, dtype: int64"
      ]
     },
     "execution_count": 78,
     "metadata": {},
     "output_type": "execute_result"
    }
   ],
   "source": [
    "unclean_df.SEARCH_BASIS_CONSENT_FLAG.value_counts()"
   ]
  },
  {
   "cell_type": "code",
   "execution_count": 79,
   "metadata": {},
   "outputs": [
    {
     "data": {
      "text/plain": [
       "(null)    10387\n",
       "Y           621\n",
       "Name: SEARCH_BASIS_HARD_OBJECT_FLAG, dtype: int64"
      ]
     },
     "execution_count": 79,
     "metadata": {},
     "output_type": "execute_result"
    }
   ],
   "source": [
    "unclean_df.SEARCH_BASIS_HARD_OBJECT_FLAG.value_counts()"
   ]
  },
  {
   "cell_type": "code",
   "execution_count": 80,
   "metadata": {},
   "outputs": [
    {
     "data": {
      "text/plain": [
       "(null)    8848\n",
       "Y         2160\n",
       "Name: SEARCH_BASIS_INCIDENTAL_TO_ARREST_FLAG, dtype: int64"
      ]
     },
     "execution_count": 80,
     "metadata": {},
     "output_type": "execute_result"
    }
   ],
   "source": [
    "unclean_df.SEARCH_BASIS_INCIDENTAL_TO_ARREST_FLAG.value_counts()"
   ]
  },
  {
   "cell_type": "code",
   "execution_count": 81,
   "metadata": {},
   "outputs": [
    {
     "data": {
      "text/plain": [
       "(null)    10425\n",
       "Y           583\n",
       "Name: SEARCH_BASIS_OTHER_FLAG, dtype: int64"
      ]
     },
     "execution_count": 81,
     "metadata": {},
     "output_type": "execute_result"
    }
   ],
   "source": [
    "unclean_df.SEARCH_BASIS_OTHER_FLAG.value_counts() # not sure what this means"
   ]
  },
  {
   "cell_type": "code",
   "execution_count": 82,
   "metadata": {},
   "outputs": [
    {
     "data": {
      "text/plain": [
       "(null)    10836\n",
       "Y           172\n",
       "Name: SEARCH_BASIS_OUTLINE_FLAG, dtype: int64"
      ]
     },
     "execution_count": 82,
     "metadata": {},
     "output_type": "execute_result"
    }
   ],
   "source": [
    "unclean_df.SEARCH_BASIS_OUTLINE_FLAG.value_counts()"
   ]
  },
  {
   "cell_type": "code",
   "execution_count": 83,
   "metadata": {},
   "outputs": [
    {
     "data": {
      "text/plain": [
       "DE    9942\n",
       "Name: DEMEANOR_CODE, dtype: int64"
      ]
     },
     "execution_count": 83,
     "metadata": {},
     "output_type": "execute_result"
    }
   ],
   "source": [
    "unclean_df.DEMEANOR_CODE.value_counts() # not useful"
   ]
  },
  {
   "cell_type": "code",
   "execution_count": 84,
   "metadata": {},
   "outputs": [
    {
     "data": {
      "text/plain": [
       "CALM                                  3020\n",
       "NERVOUS                               1121\n",
       "NORMAL                                 475\n",
       "UPSET                                  436\n",
       "COOPERATIVE                            373\n",
       "                                      ... \n",
       "UNDERSTOOD WHY STOPPED                   1\n",
       "VERY COMPLIANT, APPARENTLY HAPPY         1\n",
       "CALM, WANTED TO LEAVE                    1\n",
       "AGITATED AT FIRST FOLLOWED BY CALM       1\n",
       "1                                        1\n",
       "Name: DEMEANOR_OF_PERSON_STOPPED, Length: 1578, dtype: int64"
      ]
     },
     "execution_count": 84,
     "metadata": {},
     "output_type": "execute_result"
    }
   ],
   "source": [
    "unclean_df.DEMEANOR_OF_PERSON_STOPPED.value_counts() # highly subjective, questionably useful"
   ]
  },
  {
   "cell_type": "code",
   "execution_count": 85,
   "metadata": {},
   "outputs": [
    {
     "data": {
      "text/plain": [
       "(null)    796\n",
       "18        484\n",
       "17        480\n",
       "20        449\n",
       "16        441\n",
       "         ... \n",
       "87          1\n",
       "5           1\n",
       "2           1\n",
       "1           1\n",
       "79          1\n",
       "Name: SUSPECT_REPORTED_AGE, Length: 76, dtype: int64"
      ]
     },
     "execution_count": 85,
     "metadata": {},
     "output_type": "execute_result"
    }
   ],
   "source": [
    "unclean_df.SUSPECT_REPORTED_AGE.value_counts() # sparse with some strange entries like 1 and 2\n",
    "# the largest category is (null), problematic"
   ]
  },
  {
   "cell_type": "code",
   "execution_count": 10,
   "metadata": {},
   "outputs": [],
   "source": [
    "unclean_df.SUSPECT_REPORTED_AGE.replace('(null)', '-15', inplace = True)"
   ]
  },
  {
   "cell_type": "code",
   "execution_count": 15,
   "metadata": {},
   "outputs": [],
   "source": [
    "unclean_df.SUSPECT_REPORTED_AGE = unclean_df.SUSPECT_REPORTED_AGE.astype(float)"
   ]
  },
  {
   "cell_type": "code",
   "execution_count": 24,
   "metadata": {},
   "outputs": [],
   "source": [
    "cut_labels = ['unknown', '0_17', '18_30', 'over_30']\n",
    "cut_bins = [-16, -1, 17, 30, 100]\n",
    "unclean_df['age_bin'] = pd.cut(unclean_df.SUSPECT_REPORTED_AGE, bins = cut_bins, labels = cut_labels)"
   ]
  },
  {
   "cell_type": "code",
   "execution_count": 86,
   "metadata": {},
   "outputs": [
    {
     "data": {
      "text/plain": [
       "MALE      9925\n",
       "FEMALE    1014\n",
       "(null)      69\n",
       "Name: SUSPECT_SEX, dtype: int64"
      ]
     },
     "execution_count": 86,
     "metadata": {},
     "output_type": "execute_result"
    }
   ],
   "source": [
    "unclean_df.SUSPECT_SEX.value_counts() # will probably want to drop the null values\n",
    "unclean_df = unclean_df[unclean_df['SUSPECT_SEX'] != '(null)']"
   ]
  },
  {
   "cell_type": "code",
   "execution_count": 87,
   "metadata": {},
   "outputs": [
    {
     "data": {
      "text/plain": [
       "BLACK                             6241\n",
       "WHITE HISPANIC                    2411\n",
       "WHITE                             1074\n",
       "BLACK HISPANIC                     978\n",
       "ASIAN / PACIFIC ISLANDER           221\n",
       "(null)                              67\n",
       "AMERICAN INDIAN/ALASKAN NATIVE      16\n",
       "Name: SUSPECT_RACE_DESCRIPTION, dtype: int64"
      ]
     },
     "execution_count": 87,
     "metadata": {},
     "output_type": "execute_result"
    }
   ],
   "source": [
    "unclean_df.SUSPECT_RACE_DESCRIPTION.value_counts() # maybe not now\n",
    "# but could consider factoring proportion of population somehow into the analysis"
   ]
  },
  {
   "cell_type": "code",
   "execution_count": 88,
   "metadata": {},
   "outputs": [
    {
     "data": {
      "text/plain": [
       "5.1       1372\n",
       "5.8       1309\n",
       "5.9       1205\n",
       "5.7       1078\n",
       "5.6        955\n",
       "6          877\n",
       "5.11       820\n",
       "5.5        723\n",
       "6.1        609\n",
       "6.2        443\n",
       "5.4        380\n",
       "(null)     377\n",
       "5.3        219\n",
       "6.3        185\n",
       "5.2        178\n",
       "5           70\n",
       "6.4         70\n",
       "6.5         50\n",
       "4.11        19\n",
       "6.6         15\n",
       "4.1         11\n",
       "6.7          9\n",
       "4.9          6\n",
       "6.8          6\n",
       "4.8          6\n",
       "4.6          5\n",
       "6.9          4\n",
       "4.5          2\n",
       "4            1\n",
       "6.11         1\n",
       "4.2          1\n",
       "2.3          1\n",
       "1.5          1\n",
       "Name: SUSPECT_HEIGHT, dtype: int64"
      ]
     },
     "execution_count": 88,
     "metadata": {},
     "output_type": "execute_result"
    }
   ],
   "source": [
    "unclean_df.SUSPECT_HEIGHT.value_counts() # will probably want to drop the nulls and convert to floats\n",
    "# we need a few continuous numerical features after all"
   ]
  },
  {
   "cell_type": "code",
   "execution_count": 95,
   "metadata": {},
   "outputs": [],
   "source": [
    "unclean_df = unclean_df[unclean_df['SUSPECT_HEIGHT'] != '(null)'] # drop (null) strings\n",
    "unclean_df.SUSPECT_HEIGHT = unclean_df.SUSPECT_HEIGHT.astype(float) # convert to float"
   ]
  },
  {
   "cell_type": "code",
   "execution_count": 104,
   "metadata": {},
   "outputs": [
    {
     "data": {
      "text/plain": [
       "0        5.10\n",
       "1        6.10\n",
       "2        5.50\n",
       "3        5.10\n",
       "4        5.11\n",
       "         ... \n",
       "11003    5.11\n",
       "11004    5.10\n",
       "11005    5.40\n",
       "11006    5.40\n",
       "11007    5.10\n",
       "Name: SUSPECT_HEIGHT, Length: 10631, dtype: float64"
      ]
     },
     "execution_count": 104,
     "metadata": {},
     "output_type": "execute_result"
    }
   ],
   "source": [
    "unclean_df.SUSPECT_HEIGHT"
   ]
  },
  {
   "cell_type": "code",
   "execution_count": 110,
   "metadata": {},
   "outputs": [
    {
     "data": {
      "text/plain": [
       "<matplotlib.axes._subplots.AxesSubplot at 0x1a20784828>"
      ]
     },
     "execution_count": 110,
     "metadata": {},
     "output_type": "execute_result"
    },
    {
     "data": {
      "image/png": "[encoded data removed]",
      "text/plain": [
       "<Figure size 432x288 with 1 Axes>"
      ]
     },
     "metadata": {
      "needs_background": "light"
     },
     "output_type": "display_data"
    }
   ],
   "source": [
    "sns.distplot(unclean_df.SUSPECT_HEIGHT)"
   ]
  },
  {
   "cell_type": "code",
   "execution_count": 96,
   "metadata": {},
   "outputs": [
    {
     "data": {
      "text/plain": [
       "150    1348\n",
       "160    1287\n",
       "180    1174\n",
       "170     879\n",
       "140     745\n",
       "       ... \n",
       "184       1\n",
       "204       1\n",
       "132       1\n",
       "131       1\n",
       "201       1\n",
       "Name: SUSPECT_WEIGHT, Length: 129, dtype: int64"
      ]
     },
     "execution_count": 96,
     "metadata": {},
     "output_type": "execute_result"
    }
   ],
   "source": [
    "unclean_df.SUSPECT_WEIGHT.value_counts() # looks okay, need to convert to floats"
   ]
  },
  {
   "cell_type": "code",
   "execution_count": 106,
   "metadata": {},
   "outputs": [],
   "source": [
    "unclean_df = unclean_df[unclean_df['SUSPECT_WEIGHT'] != '(null)'] # drop (null) strings\n",
    "unclean_df.SUSPECT_WEIGHT = unclean_df.SUSPECT_WEIGHT.astype(float) # convert to float"
   ]
  },
  {
   "cell_type": "code",
   "execution_count": 107,
   "metadata": {},
   "outputs": [
    {
     "data": {
      "text/plain": [
       "0        170.0\n",
       "1        250.0\n",
       "2        150.0\n",
       "3        160.0\n",
       "4        230.0\n",
       "         ...  \n",
       "11003    170.0\n",
       "11004    170.0\n",
       "11005    140.0\n",
       "11006    130.0\n",
       "11007    145.0\n",
       "Name: SUSPECT_WEIGHT, Length: 10474, dtype: float64"
      ]
     },
     "execution_count": 107,
     "metadata": {},
     "output_type": "execute_result"
    }
   ],
   "source": [
    "unclean_df.SUSPECT_WEIGHT # since we have dropped a few rows, this will affect the counts above"
   ]
  },
  {
   "cell_type": "code",
   "execution_count": 111,
   "metadata": {},
   "outputs": [
    {
     "data": {
      "text/plain": [
       "<matplotlib.axes._subplots.AxesSubplot at 0x1a20bb8f28>"
      ]
     },
     "execution_count": 111,
     "metadata": {},
     "output_type": "execute_result"
    },
    {
     "data": {
      "image/png": "[encoded data removed]",
      "text/plain": [
       "<Figure size 432x288 with 1 Axes>"
      ]
     },
     "metadata": {
      "needs_background": "light"
     },
     "output_type": "display_data"
    }
   ],
   "source": [
    "sns.distplot(unclean_df.SUSPECT_WEIGHT)"
   ]
  },
  {
   "cell_type": "code",
   "execution_count": 108,
   "metadata": {},
   "outputs": [
    {
     "data": {
      "text/plain": [
       "THN       5124\n",
       "MED       3926\n",
       "HEA       1018\n",
       "U          318\n",
       "(null)      56\n",
       "XXX         32\n",
       "Name: SUSPECT_BODY_BUILD_TYPE, dtype: int64"
      ]
     },
     "execution_count": 108,
     "metadata": {},
     "output_type": "execute_result"
    }
   ],
   "source": [
    "unclean_df.SUSPECT_BODY_BUILD_TYPE.value_counts() # don't know what all the categories mean"
   ]
  },
  {
   "cell_type": "code",
   "execution_count": 109,
   "metadata": {},
   "outputs": [
    {
     "data": {
      "text/plain": [
       "BRO       8692\n",
       "BLK        985\n",
       "ZZZ        331\n",
       "BLU        152\n",
       "(null)     105\n",
       "GRN         94\n",
       "HAZ         89\n",
       "GRY         20\n",
       "MUL          5\n",
       "OTH          1\n",
       "Name: SUSPECT_EYE_COLOR, dtype: int64"
      ]
     },
     "execution_count": 109,
     "metadata": {},
     "output_type": "execute_result"
    }
   ],
   "source": [
    "unclean_df.SUSPECT_EYE_COLOR.value_counts() # probably not important,\n",
    "# but we can still throw it into the machine; some categories strange"
   ]
  },
  {
   "cell_type": "code",
   "execution_count": 112,
   "metadata": {},
   "outputs": [
    {
     "data": {
      "text/plain": [
       "BLK       7789\n",
       "BRO       1308\n",
       "BLD        489\n",
       "XXX        288\n",
       "GRY        237\n",
       "BLN        174\n",
       "(null)      57\n",
       "RED         50\n",
       "WHI         27\n",
       "ZZZ         27\n",
       "SDY         11\n",
       "GRN          8\n",
       "PNK          4\n",
       "ORG          3\n",
       "PLE          2\n",
       "Name: SUSPECT_HAIR_COLOR, dtype: int64"
      ]
     },
     "execution_count": 112,
     "metadata": {},
     "output_type": "execute_result"
    }
   ],
   "source": [
    "unclean_df.SUSPECT_HAIR_COLOR.value_counts() # similar to eye color"
   ]
  },
  {
   "cell_type": "code",
   "execution_count": 113,
   "metadata": {},
   "outputs": [
    {
     "data": {
      "text/plain": [
       "(null)                                             6072\n",
       "NONE                                                285\n",
       "UNK                                                 187\n",
       "UNKNOWN                                             154\n",
       "BEARD                                                59\n",
       "                                                   ... \n",
       "JEANS / HOODED SWEATSHIRT                             1\n",
       "BLUE SWEATER. BLACK PANTS, MULTI-COLOR SNEAKERS       1\n",
       "WHITE SNEAKERS, BLUE JEANS, RED HOODIE,               1\n",
       "LIGHT BLUE SHIRT                                      1\n",
       "GLASSES, GOATEE                                       1\n",
       "Name: SUSPECT_OTHER_DESCRIPTION, Length: 2310, dtype: int64"
      ]
     },
     "execution_count": 113,
     "metadata": {},
     "output_type": "execute_result"
    }
   ],
   "source": [
    "unclean_df.SUSPECT_OTHER_DESCRIPTION.value_counts() # doesn't look useful"
   ]
  },
  {
   "cell_type": "code",
   "execution_count": 114,
   "metadata": {},
   "outputs": [
    {
     "data": {
      "text/plain": [
       "75     396\n",
       "43     377\n",
       "23     325\n",
       "40     302\n",
       "67     274\n",
       "      ... \n",
       "68      48\n",
       "50      42\n",
       "123     36\n",
       "17      29\n",
       "22      23\n",
       "Name: STOP_LOCATION_PRECINCT, Length: 77, dtype: int64"
      ]
     },
     "execution_count": 114,
     "metadata": {},
     "output_type": "execute_result"
    }
   ],
   "source": [
    "unclean_df.STOP_LOCATION_PRECINCT.value_counts() # will consider it,\n",
    "# may use a different location variable due to how many categories this would generate"
   ]
  },
  {
   "cell_type": "code",
   "execution_count": 115,
   "metadata": {},
   "outputs": [
    {
     "data": {
      "text/plain": [
       "C         2663\n",
       "A         2480\n",
       "B         2416\n",
       "D         2069\n",
       "E          323\n",
       "H          104\n",
       "G           87\n",
       "(null)      71\n",
       "F           70\n",
       "K           52\n",
       "I           51\n",
       "J           47\n",
       "M           31\n",
       "N            9\n",
       "1            1\n",
       "Name: STOP_LOCATION_SECTOR_CODE, dtype: int64"
      ]
     },
     "execution_count": 115,
     "metadata": {},
     "output_type": "execute_result"
    }
   ],
   "source": [
    "unclean_df.STOP_LOCATION_SECTOR_CODE.value_counts() # more sparse categories"
   ]
  },
  {
   "cell_type": "code",
   "execution_count": 116,
   "metadata": {},
   "outputs": [
    {
     "data": {
      "text/plain": [
       "(null)         9847\n",
       "LOBBY            37\n",
       "1                33\n",
       "2                21\n",
       "BASEMENT         19\n",
       "               ... \n",
       "2M                1\n",
       "3N                1\n",
       "8B                1\n",
       "13C               1\n",
       "COMM CENTER       1\n",
       "Name: STOP_LOCATION_APARTMENT, Length: 246, dtype: int64"
      ]
     },
     "execution_count": 116,
     "metadata": {},
     "output_type": "execute_result"
    }
   ],
   "source": [
    "unclean_df.STOP_LOCATION_APARTMENT.value_counts() # probably not useful"
   ]
  },
  {
   "cell_type": "code",
   "execution_count": 117,
   "metadata": {},
   "outputs": [
    {
     "data": {
      "text/plain": [
       "(null)    10450\n",
       "10504         2\n",
       "11212         2\n",
       "10006         2\n",
       "10040         1\n",
       "11221         1\n",
       "10468         1\n",
       "11104         1\n",
       "11213         1\n",
       "11215         1\n",
       "11216         1\n",
       "11225         1\n",
       "10037         1\n",
       "11232         1\n",
       "11235         1\n",
       "11416         1\n",
       "10017         1\n",
       "10019         1\n",
       "10023         1\n",
       "10029         1\n",
       "10032         1\n",
       "10458         1\n",
       "Name: STOP_LOCATION_ZIP_CODE, dtype: int64"
      ]
     },
     "execution_count": 117,
     "metadata": {},
     "output_type": "execute_result"
    }
   ],
   "source": [
    "# may of the location variables were near unique so I am skipping over to zipcode\n",
    "unclean_df.STOP_LOCATION_ZIP_CODE.value_counts() # not usable"
   ]
  },
  {
   "cell_type": "code",
   "execution_count": 118,
   "metadata": {},
   "outputs": [
    {
     "data": {
      "text/plain": [
       "PBBX    2213\n",
       "PBMN    1727\n",
       "PBBN    1717\n",
       "PBBS    1707\n",
       "PBMS     996\n",
       "PBQN     945\n",
       "PBQS     836\n",
       "PBSI     333\n",
       "Name: STOP_LOCATION_PATROL_BORO_NAME, dtype: int64"
      ]
     },
     "execution_count": 118,
     "metadata": {},
     "output_type": "execute_result"
    }
   ],
   "source": [
    "unclean_df.STOP_LOCATION_PATROL_BORO_NAME.value_counts() # looks good"
   ]
  },
  {
   "cell_type": "code",
   "execution_count": 119,
   "metadata": {},
   "outputs": [
    {
     "data": {
      "text/plain": [
       "BROOKLYN         3424\n",
       "MANHATTAN        2723\n",
       "BRONX            2213\n",
       "QUEENS           1781\n",
       "STATEN ISLAND     333\n",
       "Name: STOP_LOCATION_BORO_NAME, dtype: int64"
      ]
     },
     "execution_count": 119,
     "metadata": {},
     "output_type": "execute_result"
    }
   ],
   "source": [
    "unclean_df.STOP_LOCATION_BORO_NAME.value_counts() # also looks good and easily interpretable"
   ]
  },
  {
   "cell_type": "code",
   "execution_count": null,
   "metadata": {},
   "outputs": [],
   "source": []
  }
 ],
 "metadata": {
  "kernelspec": {
   "display_name": "Python 3",
   "language": "python",
   "name": "python3"
  },
  "language_info": {
   "codemirror_mode": {
    "name": "ipython",
    "version": 3
   },
   "file_extension": ".py",
   "mimetype": "text/x-python",
   "name": "python",
   "nbconvert_exporter": "python",
   "pygments_lexer": "ipython3",
   "version": "3.6.9"
  }
 },
 "nbformat": 4,
 "nbformat_minor": 2
}

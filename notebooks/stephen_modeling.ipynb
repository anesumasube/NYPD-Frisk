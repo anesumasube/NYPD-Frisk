{
 "cells": [
  {
   "cell_type": "code",
   "execution_count": 221,
   "metadata": {},
   "outputs": [],
   "source": [
    "import pandas as pd\n",
    "import numpy as np\n",
    "from sklearn.ensemble import RandomForestClassifier\n",
    "from sklearn.metrics import accuracy_score, confusion_matrix, classification_report\n",
    "from sklearn.model_selection import train_test_split, GridSearchCV\n",
    "from sklearn.preprocessing import OneHotEncoder, StandardScaler\n",
    "from sklearn.svm import SVC\n",
    "from xgboost import XGBClassifier"
   ]
  },
  {
   "cell_type": "code",
   "execution_count": 129,
   "metadata": {},
   "outputs": [],
   "source": [
    "unclean_df = pd.read_excel('sqf-2018.xlsx')"
   ]
  },
  {
   "cell_type": "code",
   "execution_count": 130,
   "metadata": {},
   "outputs": [],
   "source": [
    "unclean_df = unclean_df.drop(['DEMEANOR_CODE', 'STOP_FRISK_ID', 'STOP_FRISK_DATE', 'Stop Frisk Time', 'YEAR2', \n",
    "                              'ISSUING_OFFICER_COMMAND_CODE', 'SUPERVISING_OFFICER_COMMAND_CODE', 'LOCATION_IN_OUT_CODE', \n",
    "                              'RECORD_STATUS_CODE', 'JURISDICTION_CODE', 'OFFICER_NOT_EXPLAINED_STOP_DESCRIPTION', \n",
    "                              'SUMMONS_OFFENSE_DESCRIPTION', 'DEMEANOR_OF_PERSON_STOPPED', 'SUSPECT_OTHER_DESCRIPTION',\n",
    "                              'STOP_LOCATION_APARTMENT', 'STOP_LOCATION_ZIP_CODE', 'STOP_LOCATION_FULL_ADDRESS',\n",
    "                              'STOP_LOCATION_PREMISES_NAME', 'STOP_LOCATION_STREET_NAME', 'STOP_LOCATION_X', \n",
    "                              'STOP_LOCATION_Y'], axis = 1)"
   ]
  },
  {
   "cell_type": "code",
   "execution_count": 131,
   "metadata": {},
   "outputs": [],
   "source": [
    "unclean_df.SUSPECT_REPORTED_AGE.replace('(null)', '-15', inplace = True)\n",
    "unclean_df.SUSPECT_REPORTED_AGE = unclean_df.SUSPECT_REPORTED_AGE.astype(float)\n",
    "cut_labels = ['unknown', '0_17', '18_30', 'over_30']\n",
    "cut_bins = [-16, -1, 17, 30, 100]\n",
    "unclean_df['age_bin'] = pd.cut(unclean_df.SUSPECT_REPORTED_AGE, bins = cut_bins, labels = cut_labels)\n",
    "unclean_df.age_bin = unclean_df.age_bin.astype(str)"
   ]
  },
  {
   "cell_type": "code",
   "execution_count": 132,
   "metadata": {},
   "outputs": [],
   "source": [
    "unclean_df = unclean_df.drop('SUSPECT_REPORTED_AGE', axis = 1)"
   ]
  },
  {
   "cell_type": "code",
   "execution_count": 108,
   "metadata": {},
   "outputs": [],
   "source": [
    "unclean_df.STOP_LOCATION_PRECINCT = unclean_df.STOP_LOCATION_PRECINCT.astype(str)"
   ]
  },
  {
   "cell_type": "code",
   "execution_count": 109,
   "metadata": {},
   "outputs": [],
   "source": [
    "unclean_df = unclean_df[unclean_df['SUSPECT_HEIGHT'] != '(null)']\n",
    "unclean_df.SUSPECT_HEIGHT = unclean_df.SUSPECT_HEIGHT.astype(float)"
   ]
  },
  {
   "cell_type": "code",
   "execution_count": 110,
   "metadata": {},
   "outputs": [],
   "source": [
    "unclean_df = unclean_df[unclean_df['SUSPECT_WEIGHT'] != '(null)']\n",
    "unclean_df.SUSPECT_WEIGHT = unclean_df.SUSPECT_WEIGHT.astype(float)"
   ]
  },
  {
   "cell_type": "code",
   "execution_count": 133,
   "metadata": {},
   "outputs": [
    {
     "data": {
      "text/plain": [
       "(11008, 62)"
      ]
     },
     "execution_count": 133,
     "metadata": {},
     "output_type": "execute_result"
    }
   ],
   "source": [
    "unclean_df.shape"
   ]
  },
  {
   "cell_type": "code",
   "execution_count": 112,
   "metadata": {},
   "outputs": [],
   "source": [
    "# unclean_df.to_csv('cleaned_df.csv')"
   ]
  },
  {
   "cell_type": "code",
   "execution_count": 113,
   "metadata": {},
   "outputs": [
    {
     "data": {
      "text/html": [
       "<div>\n",
       "<style scoped>\n",
       "    .dataframe tbody tr th:only-of-type {\n",
       "        vertical-align: middle;\n",
       "    }\n",
       "\n",
       "    .dataframe tbody tr th {\n",
       "        vertical-align: top;\n",
       "    }\n",
       "\n",
       "    .dataframe thead th {\n",
       "        text-align: right;\n",
       "    }\n",
       "</style>\n",
       "<table border=\"1\" class=\"dataframe\">\n",
       "  <thead>\n",
       "    <tr style=\"text-align: right;\">\n",
       "      <th></th>\n",
       "      <th>MONTH2</th>\n",
       "      <th>DAY2</th>\n",
       "      <th>STOP_WAS_INITIATED</th>\n",
       "      <th>ISSUING_OFFICER_RANK</th>\n",
       "      <th>SUPERVISING_OFFICER_RANK</th>\n",
       "      <th>SUPERVISING_ACTION_CORRESPONDING_ACTIVITY_LOG_ENTRY_REVIEWED</th>\n",
       "      <th>JURISDICTION_DESCRIPTION</th>\n",
       "      <th>OBSERVED_DURATION_MINUTES</th>\n",
       "      <th>SUSPECTED_CRIME_DESCRIPTION</th>\n",
       "      <th>STOP_DURATION_MINUTES</th>\n",
       "      <th>...</th>\n",
       "      <th>SUSPECT_HEIGHT</th>\n",
       "      <th>SUSPECT_WEIGHT</th>\n",
       "      <th>SUSPECT_BODY_BUILD_TYPE</th>\n",
       "      <th>SUSPECT_EYE_COLOR</th>\n",
       "      <th>SUSPECT_HAIR_COLOR</th>\n",
       "      <th>STOP_LOCATION_PRECINCT</th>\n",
       "      <th>STOP_LOCATION_SECTOR_CODE</th>\n",
       "      <th>STOP_LOCATION_PATROL_BORO_NAME</th>\n",
       "      <th>STOP_LOCATION_BORO_NAME</th>\n",
       "      <th>age_bin</th>\n",
       "    </tr>\n",
       "  </thead>\n",
       "  <tbody>\n",
       "    <tr>\n",
       "      <td>0</td>\n",
       "      <td>January</td>\n",
       "      <td>Monday</td>\n",
       "      <td>Based on C/W on Scene</td>\n",
       "      <td>POM</td>\n",
       "      <td>SGT</td>\n",
       "      <td>Y</td>\n",
       "      <td>PSB</td>\n",
       "      <td>0</td>\n",
       "      <td>MENACING</td>\n",
       "      <td>18</td>\n",
       "      <td>...</td>\n",
       "      <td>5.10</td>\n",
       "      <td>170.0</td>\n",
       "      <td>MED</td>\n",
       "      <td>BRO</td>\n",
       "      <td>BLK</td>\n",
       "      <td>1</td>\n",
       "      <td>G</td>\n",
       "      <td>PBMS</td>\n",
       "      <td>MANHATTAN</td>\n",
       "      <td>unknown</td>\n",
       "    </tr>\n",
       "    <tr>\n",
       "      <td>1</td>\n",
       "      <td>January</td>\n",
       "      <td>Monday</td>\n",
       "      <td>Based on Radio Run</td>\n",
       "      <td>POM</td>\n",
       "      <td>SGT</td>\n",
       "      <td>N</td>\n",
       "      <td>PSB</td>\n",
       "      <td>1</td>\n",
       "      <td>CPW</td>\n",
       "      <td>15</td>\n",
       "      <td>...</td>\n",
       "      <td>6.10</td>\n",
       "      <td>250.0</td>\n",
       "      <td>HEA</td>\n",
       "      <td>BRO</td>\n",
       "      <td>BLK</td>\n",
       "      <td>34</td>\n",
       "      <td>C</td>\n",
       "      <td>PBMN</td>\n",
       "      <td>MANHATTAN</td>\n",
       "      <td>18_30</td>\n",
       "    </tr>\n",
       "    <tr>\n",
       "      <td>2</td>\n",
       "      <td>January</td>\n",
       "      <td>Monday</td>\n",
       "      <td>Based on Radio Run</td>\n",
       "      <td>POM</td>\n",
       "      <td>SGT</td>\n",
       "      <td>Y</td>\n",
       "      <td>Housing</td>\n",
       "      <td>0</td>\n",
       "      <td>GRAND LARCENY</td>\n",
       "      <td>10</td>\n",
       "      <td>...</td>\n",
       "      <td>5.50</td>\n",
       "      <td>150.0</td>\n",
       "      <td>THN</td>\n",
       "      <td>BRO</td>\n",
       "      <td>BLD</td>\n",
       "      <td>43</td>\n",
       "      <td>B</td>\n",
       "      <td>PBBX</td>\n",
       "      <td>BRONX</td>\n",
       "      <td>over_30</td>\n",
       "    </tr>\n",
       "    <tr>\n",
       "      <td>3</td>\n",
       "      <td>January</td>\n",
       "      <td>Monday</td>\n",
       "      <td>Based on Radio Run</td>\n",
       "      <td>POM</td>\n",
       "      <td>SGT</td>\n",
       "      <td>Y</td>\n",
       "      <td>PSB</td>\n",
       "      <td>2</td>\n",
       "      <td>ROBBERY</td>\n",
       "      <td>15</td>\n",
       "      <td>...</td>\n",
       "      <td>5.10</td>\n",
       "      <td>160.0</td>\n",
       "      <td>MED</td>\n",
       "      <td>BRO</td>\n",
       "      <td>BLK</td>\n",
       "      <td>63</td>\n",
       "      <td>B</td>\n",
       "      <td>PBBS</td>\n",
       "      <td>BROOKLYN</td>\n",
       "      <td>over_30</td>\n",
       "    </tr>\n",
       "    <tr>\n",
       "      <td>4</td>\n",
       "      <td>January</td>\n",
       "      <td>Monday</td>\n",
       "      <td>Based on Radio Run</td>\n",
       "      <td>POM</td>\n",
       "      <td>SGT</td>\n",
       "      <td>Y</td>\n",
       "      <td>PSB</td>\n",
       "      <td>2</td>\n",
       "      <td>ROBBERY</td>\n",
       "      <td>15</td>\n",
       "      <td>...</td>\n",
       "      <td>5.11</td>\n",
       "      <td>230.0</td>\n",
       "      <td>MED</td>\n",
       "      <td>BRO</td>\n",
       "      <td>BLK</td>\n",
       "      <td>63</td>\n",
       "      <td>B</td>\n",
       "      <td>PBBS</td>\n",
       "      <td>BROOKLYN</td>\n",
       "      <td>over_30</td>\n",
       "    </tr>\n",
       "  </tbody>\n",
       "</table>\n",
       "<p>5 rows × 61 columns</p>\n",
       "</div>"
      ],
      "text/plain": [
       "    MONTH2    DAY2     STOP_WAS_INITIATED ISSUING_OFFICER_RANK  \\\n",
       "0  January  Monday  Based on C/W on Scene                  POM   \n",
       "1  January  Monday     Based on Radio Run                  POM   \n",
       "2  January  Monday     Based on Radio Run                  POM   \n",
       "3  January  Monday     Based on Radio Run                  POM   \n",
       "4  January  Monday     Based on Radio Run                  POM   \n",
       "\n",
       "  SUPERVISING_OFFICER_RANK  \\\n",
       "0                      SGT   \n",
       "1                      SGT   \n",
       "2                      SGT   \n",
       "3                      SGT   \n",
       "4                      SGT   \n",
       "\n",
       "  SUPERVISING_ACTION_CORRESPONDING_ACTIVITY_LOG_ENTRY_REVIEWED  \\\n",
       "0                                                  Y             \n",
       "1                                                  N             \n",
       "2                                                  Y             \n",
       "3                                                  Y             \n",
       "4                                                  Y             \n",
       "\n",
       "  JURISDICTION_DESCRIPTION  OBSERVED_DURATION_MINUTES  \\\n",
       "0                      PSB                          0   \n",
       "1                      PSB                          1   \n",
       "2                  Housing                          0   \n",
       "3                      PSB                          2   \n",
       "4                      PSB                          2   \n",
       "\n",
       "  SUSPECTED_CRIME_DESCRIPTION  STOP_DURATION_MINUTES  ... SUSPECT_HEIGHT  \\\n",
       "0                    MENACING                     18  ...           5.10   \n",
       "1                         CPW                     15  ...           6.10   \n",
       "2               GRAND LARCENY                     10  ...           5.50   \n",
       "3                     ROBBERY                     15  ...           5.10   \n",
       "4                     ROBBERY                     15  ...           5.11   \n",
       "\n",
       "  SUSPECT_WEIGHT SUSPECT_BODY_BUILD_TYPE SUSPECT_EYE_COLOR SUSPECT_HAIR_COLOR  \\\n",
       "0          170.0                     MED               BRO                BLK   \n",
       "1          250.0                     HEA               BRO                BLK   \n",
       "2          150.0                     THN               BRO                BLD   \n",
       "3          160.0                     MED               BRO                BLK   \n",
       "4          230.0                     MED               BRO                BLK   \n",
       "\n",
       "  STOP_LOCATION_PRECINCT STOP_LOCATION_SECTOR_CODE  \\\n",
       "0                      1                         G   \n",
       "1                     34                         C   \n",
       "2                     43                         B   \n",
       "3                     63                         B   \n",
       "4                     63                         B   \n",
       "\n",
       "  STOP_LOCATION_PATROL_BORO_NAME STOP_LOCATION_BORO_NAME  age_bin  \n",
       "0                           PBMS               MANHATTAN  unknown  \n",
       "1                           PBMN               MANHATTAN    18_30  \n",
       "2                           PBBX                   BRONX  over_30  \n",
       "3                           PBBS                BROOKLYN  over_30  \n",
       "4                           PBBS                BROOKLYN  over_30  \n",
       "\n",
       "[5 rows x 61 columns]"
      ]
     },
     "execution_count": 113,
     "metadata": {},
     "output_type": "execute_result"
    }
   ],
   "source": [
    "X.head()"
   ]
  },
  {
   "cell_type": "code",
   "execution_count": 114,
   "metadata": {},
   "outputs": [],
   "source": [
    "X = unclean_df.drop('SUSPECT_ARRESTED_FLAG', axis = 1)\n",
    "y = unclean_df.SUSPECT_ARRESTED_FLAG"
   ]
  },
  {
   "cell_type": "code",
   "execution_count": 122,
   "metadata": {},
   "outputs": [],
   "source": [
    "# X.STOP_LOCATION_PRECINCT.value_counts()\n",
    "X = X.drop('STOP_LOCATION_PRECINCT', axis = 1)"
   ]
  },
  {
   "cell_type": "code",
   "execution_count": 123,
   "metadata": {},
   "outputs": [],
   "source": [
    "X_train, X_test, y_train, y_test = train_test_split(X, y, test_size = 0.2, random_state = 345)"
   ]
  },
  {
   "cell_type": "code",
   "execution_count": 124,
   "metadata": {},
   "outputs": [],
   "source": [
    "enc = OneHotEncoder(handle_unknown='ignore')\n",
    "scaler = StandardScaler()\n",
    "X_train_num = X_train[['OBSERVED_DURATION_MINUTES', 'STOP_DURATION_MINUTES', 'SUSPECT_HEIGHT', 'SUSPECT_WEIGHT']]\n",
    "X_train_cat = X_train.drop(['OBSERVED_DURATION_MINUTES', 'STOP_DURATION_MINUTES', 'SUSPECT_HEIGHT', 'SUSPECT_WEIGHT'], axis = 1)"
   ]
  },
  {
   "cell_type": "code",
   "execution_count": 125,
   "metadata": {},
   "outputs": [
    {
     "name": "stdout",
     "output_type": "stream",
     "text": [
      "<class 'pandas.core.frame.DataFrame'>\n",
      "Int64Index: 8379 entries, 2604 to 3828\n",
      "Data columns (total 56 columns):\n",
      "MONTH2                                                          8379 non-null object\n",
      "DAY2                                                            8379 non-null object\n",
      "STOP_WAS_INITIATED                                              8379 non-null object\n",
      "ISSUING_OFFICER_RANK                                            8379 non-null object\n",
      "SUPERVISING_OFFICER_RANK                                        8379 non-null object\n",
      "SUPERVISING_ACTION_CORRESPONDING_ACTIVITY_LOG_ENTRY_REVIEWED    8379 non-null object\n",
      "JURISDICTION_DESCRIPTION                                        8379 non-null object\n",
      "SUSPECTED_CRIME_DESCRIPTION                                     8379 non-null object\n",
      "OFFICER_EXPLAINED_STOP_FLAG                                     8379 non-null object\n",
      "OTHER_PERSON_STOPPED_FLAG                                       8379 non-null object\n",
      "SUSPECT_ARREST_OFFENSE                                          8379 non-null object\n",
      "SUMMONS_ISSUED_FLAG                                             8379 non-null object\n",
      "OFFICER_IN_UNIFORM_FLAG                                         8379 non-null object\n",
      "ID_CARD_IDENTIFIES_OFFICER_FLAG                                 8379 non-null object\n",
      "SHIELD_IDENTIFIES_OFFICER_FLAG                                  8379 non-null object\n",
      "VERBAL_IDENTIFIES_OFFICER_FLAG                                  8379 non-null object\n",
      "FRISKED_FLAG                                                    8379 non-null object\n",
      "SEARCHED_FLAG                                                   8379 non-null object\n",
      "OTHER_CONTRABAND_FLAG                                           8379 non-null object\n",
      "FIREARM_FLAG                                                    8379 non-null object\n",
      "KNIFE_CUTTER_FLAG                                               8379 non-null object\n",
      "OTHER_WEAPON_FLAG                                               8379 non-null object\n",
      "WEAPON_FOUND_FLAG                                               8379 non-null object\n",
      "PHYSICAL_FORCE_CEW_FLAG                                         8379 non-null object\n",
      "PHYSICAL_FORCE_DRAW_POINT_FIREARM_FLAG                          8379 non-null object\n",
      "PHYSICAL_FORCE_HANDCUFF_SUSPECT_FLAG                            8379 non-null object\n",
      "PHYSICAL_FORCE_OC_SPRAY_USED_FLAG                               8379 non-null object\n",
      "PHYSICAL_FORCE_OTHER_FLAG                                       8379 non-null object\n",
      "PHYSICAL_FORCE_RESTRAINT_USED_FLAG                              8379 non-null object\n",
      "PHYSICAL_FORCE_VERBAL_INSTRUCTION_FLAG                          8379 non-null object\n",
      "PHYSICAL_FORCE_WEAPON_IMPACT_FLAG                               8379 non-null object\n",
      "BACKROUND_CIRCUMSTANCES_VIOLENT_CRIME_FLAG                      8379 non-null object\n",
      "BACKROUND_CIRCUMSTANCES_SUSPECT_KNOWN_TO_CARRY_WEAPON_FLAG      8379 non-null object\n",
      "SUSPECTS_ACTIONS_CASING_FLAG                                    8379 non-null object\n",
      "SUSPECTS_ACTIONS_CONCEALED_POSSESSION_WEAPON_FLAG               8379 non-null object\n",
      "SUSPECTS_ACTIONS_DECRIPTION_FLAG                                8379 non-null object\n",
      "SUSPECTS_ACTIONS_DRUG_TRANSACTIONS_FLAG                         8379 non-null object\n",
      "SUSPECTS_ACTIONS_IDENTIFY_CRIME_PATTERN_FLAG                    8379 non-null object\n",
      "SUSPECTS_ACTIONS_LOOKOUT_FLAG                                   8379 non-null object\n",
      "SUSPECTS_ACTIONS_OTHER_FLAG                                     8379 non-null object\n",
      "SUSPECTS_ACTIONS_PROXIMITY_TO_SCENE_FLAG                        8379 non-null object\n",
      "SEARCH_BASIS_ADMISSION_FLAG                                     8379 non-null object\n",
      "SEARCH_BASIS_CONSENT_FLAG                                       8379 non-null object\n",
      "SEARCH_BASIS_HARD_OBJECT_FLAG                                   8379 non-null object\n",
      "SEARCH_BASIS_INCIDENTAL_TO_ARREST_FLAG                          8379 non-null object\n",
      "SEARCH_BASIS_OTHER_FLAG                                         8379 non-null object\n",
      "SEARCH_BASIS_OUTLINE_FLAG                                       8379 non-null object\n",
      "SUSPECT_SEX                                                     8379 non-null object\n",
      "SUSPECT_RACE_DESCRIPTION                                        8379 non-null object\n",
      "SUSPECT_BODY_BUILD_TYPE                                         8379 non-null object\n",
      "SUSPECT_EYE_COLOR                                               8379 non-null object\n",
      "SUSPECT_HAIR_COLOR                                              8379 non-null object\n",
      "STOP_LOCATION_SECTOR_CODE                                       8379 non-null object\n",
      "STOP_LOCATION_PATROL_BORO_NAME                                  8379 non-null object\n",
      "STOP_LOCATION_BORO_NAME                                         8379 non-null object\n",
      "age_bin                                                         8379 non-null object\n",
      "dtypes: object(56)\n",
      "memory usage: 3.6+ MB\n"
     ]
    }
   ],
   "source": [
    "X_train_cat.info() # converted age bins and stop location precinct to strings"
   ]
  },
  {
   "cell_type": "code",
   "execution_count": 136,
   "metadata": {},
   "outputs": [
    {
     "data": {
      "text/plain": [
       "array(['(null)', 'Y'], dtype=object)"
      ]
     },
     "execution_count": 136,
     "metadata": {},
     "output_type": "execute_result"
    }
   ],
   "source": [
    "# X_train_cat.columns\n",
    "X_train_cat.SUSPECTS_ACTIONS_PROXIMITY_TO_SCENE_FLAG.unique()"
   ]
  },
  {
   "cell_type": "code",
   "execution_count": 234,
   "metadata": {},
   "outputs": [],
   "source": [
    "X_train_enc = enc.fit_transform(X_train_cat)\n",
    "names = enc.get_feature_names(X_train_cat.columns)\n",
    "\n",
    "X_train_scale = scaler.fit_transform(X_train_num)"
   ]
  },
  {
   "cell_type": "code",
   "execution_count": 87,
   "metadata": {},
   "outputs": [
    {
     "data": {
      "text/html": [
       "<div>\n",
       "<style scoped>\n",
       "    .dataframe tbody tr th:only-of-type {\n",
       "        vertical-align: middle;\n",
       "    }\n",
       "\n",
       "    .dataframe tbody tr th {\n",
       "        vertical-align: top;\n",
       "    }\n",
       "\n",
       "    .dataframe thead th {\n",
       "        text-align: right;\n",
       "    }\n",
       "</style>\n",
       "<table border=\"1\" class=\"dataframe\">\n",
       "  <thead>\n",
       "    <tr style=\"text-align: right;\">\n",
       "      <th></th>\n",
       "      <th>MONTH2</th>\n",
       "      <th>DAY2</th>\n",
       "      <th>STOP_WAS_INITIATED</th>\n",
       "      <th>ISSUING_OFFICER_RANK</th>\n",
       "      <th>SUPERVISING_OFFICER_RANK</th>\n",
       "      <th>SUPERVISING_ACTION_CORRESPONDING_ACTIVITY_LOG_ENTRY_REVIEWED</th>\n",
       "      <th>JURISDICTION_DESCRIPTION</th>\n",
       "      <th>SUSPECTED_CRIME_DESCRIPTION</th>\n",
       "      <th>OFFICER_EXPLAINED_STOP_FLAG</th>\n",
       "      <th>OTHER_PERSON_STOPPED_FLAG</th>\n",
       "      <th>...</th>\n",
       "      <th>SUSPECT_SEX</th>\n",
       "      <th>SUSPECT_RACE_DESCRIPTION</th>\n",
       "      <th>SUSPECT_BODY_BUILD_TYPE</th>\n",
       "      <th>SUSPECT_EYE_COLOR</th>\n",
       "      <th>SUSPECT_HAIR_COLOR</th>\n",
       "      <th>STOP_LOCATION_PRECINCT</th>\n",
       "      <th>STOP_LOCATION_SECTOR_CODE</th>\n",
       "      <th>STOP_LOCATION_PATROL_BORO_NAME</th>\n",
       "      <th>STOP_LOCATION_BORO_NAME</th>\n",
       "      <th>age_bin</th>\n",
       "    </tr>\n",
       "  </thead>\n",
       "  <tbody>\n",
       "    <tr>\n",
       "      <td>2604</td>\n",
       "      <td>March</td>\n",
       "      <td>Tuesday</td>\n",
       "      <td>Based on Radio Run</td>\n",
       "      <td>POM</td>\n",
       "      <td>SGT</td>\n",
       "      <td>Y</td>\n",
       "      <td>PSB</td>\n",
       "      <td>ROBBERY</td>\n",
       "      <td>Y</td>\n",
       "      <td>N</td>\n",
       "      <td>...</td>\n",
       "      <td>MALE</td>\n",
       "      <td>WHITE HISPANIC</td>\n",
       "      <td>MED</td>\n",
       "      <td>BRO</td>\n",
       "      <td>BLK</td>\n",
       "      <td>104</td>\n",
       "      <td>(null)</td>\n",
       "      <td>PBQN</td>\n",
       "      <td>QUEENS</td>\n",
       "      <td>over_30</td>\n",
       "    </tr>\n",
       "    <tr>\n",
       "      <td>9472</td>\n",
       "      <td>November</td>\n",
       "      <td>Friday</td>\n",
       "      <td>Based on Self Initiated</td>\n",
       "      <td>POM</td>\n",
       "      <td>LT</td>\n",
       "      <td>Y</td>\n",
       "      <td>(null)</td>\n",
       "      <td>CPW</td>\n",
       "      <td>Y</td>\n",
       "      <td>N</td>\n",
       "      <td>...</td>\n",
       "      <td>MALE</td>\n",
       "      <td>BLACK</td>\n",
       "      <td>THN</td>\n",
       "      <td>BRO</td>\n",
       "      <td>BLK</td>\n",
       "      <td>40</td>\n",
       "      <td>A</td>\n",
       "      <td>PBBX</td>\n",
       "      <td>BRONX</td>\n",
       "      <td>18_30</td>\n",
       "    </tr>\n",
       "    <tr>\n",
       "      <td>8221</td>\n",
       "      <td>September</td>\n",
       "      <td>Thursday</td>\n",
       "      <td>Based on Self Initiated</td>\n",
       "      <td>POM</td>\n",
       "      <td>LT</td>\n",
       "      <td>N</td>\n",
       "      <td>Housing</td>\n",
       "      <td>CRIMINAL POSSESSION OF MARIHUANA</td>\n",
       "      <td>Y</td>\n",
       "      <td>Y</td>\n",
       "      <td>...</td>\n",
       "      <td>MALE</td>\n",
       "      <td>BLACK HISPANIC</td>\n",
       "      <td>THN</td>\n",
       "      <td>BRO</td>\n",
       "      <td>BLK</td>\n",
       "      <td>43</td>\n",
       "      <td>A</td>\n",
       "      <td>PBBX</td>\n",
       "      <td>BRONX</td>\n",
       "      <td>0_17</td>\n",
       "    </tr>\n",
       "    <tr>\n",
       "      <td>9632</td>\n",
       "      <td>November</td>\n",
       "      <td>Wednesday</td>\n",
       "      <td>Based on Self Initiated</td>\n",
       "      <td>POM</td>\n",
       "      <td>SSA</td>\n",
       "      <td>Y</td>\n",
       "      <td>PSB</td>\n",
       "      <td>CRIMINAL POSSESSION OF MARIHUANA</td>\n",
       "      <td>Y</td>\n",
       "      <td>Y</td>\n",
       "      <td>...</td>\n",
       "      <td>MALE</td>\n",
       "      <td>WHITE HISPANIC</td>\n",
       "      <td>THN</td>\n",
       "      <td>BRO</td>\n",
       "      <td>BLK</td>\n",
       "      <td>103</td>\n",
       "      <td>A</td>\n",
       "      <td>PBQS</td>\n",
       "      <td>QUEENS</td>\n",
       "      <td>18_30</td>\n",
       "    </tr>\n",
       "    <tr>\n",
       "      <td>9261</td>\n",
       "      <td>October</td>\n",
       "      <td>Friday</td>\n",
       "      <td>Based on Radio Run</td>\n",
       "      <td>POM</td>\n",
       "      <td>SGT</td>\n",
       "      <td>Y</td>\n",
       "      <td>(null)</td>\n",
       "      <td>ASSAULT</td>\n",
       "      <td>Y</td>\n",
       "      <td>Y</td>\n",
       "      <td>...</td>\n",
       "      <td>MALE</td>\n",
       "      <td>WHITE HISPANIC</td>\n",
       "      <td>MED</td>\n",
       "      <td>BRO</td>\n",
       "      <td>BLK</td>\n",
       "      <td>106</td>\n",
       "      <td>B</td>\n",
       "      <td>PBQS</td>\n",
       "      <td>QUEENS</td>\n",
       "      <td>over_30</td>\n",
       "    </tr>\n",
       "    <tr>\n",
       "      <td>...</td>\n",
       "      <td>...</td>\n",
       "      <td>...</td>\n",
       "      <td>...</td>\n",
       "      <td>...</td>\n",
       "      <td>...</td>\n",
       "      <td>...</td>\n",
       "      <td>...</td>\n",
       "      <td>...</td>\n",
       "      <td>...</td>\n",
       "      <td>...</td>\n",
       "      <td>...</td>\n",
       "      <td>...</td>\n",
       "      <td>...</td>\n",
       "      <td>...</td>\n",
       "      <td>...</td>\n",
       "      <td>...</td>\n",
       "      <td>...</td>\n",
       "      <td>...</td>\n",
       "      <td>...</td>\n",
       "      <td>...</td>\n",
       "      <td>...</td>\n",
       "    </tr>\n",
       "    <tr>\n",
       "      <td>7072</td>\n",
       "      <td>August</td>\n",
       "      <td>Wednesday</td>\n",
       "      <td>Based on Radio Run</td>\n",
       "      <td>POM</td>\n",
       "      <td>LT</td>\n",
       "      <td>Y</td>\n",
       "      <td>(null)</td>\n",
       "      <td>ROBBERY</td>\n",
       "      <td>Y</td>\n",
       "      <td>N</td>\n",
       "      <td>...</td>\n",
       "      <td>MALE</td>\n",
       "      <td>BLACK</td>\n",
       "      <td>MED</td>\n",
       "      <td>BRO</td>\n",
       "      <td>BLK</td>\n",
       "      <td>43</td>\n",
       "      <td>C</td>\n",
       "      <td>PBBX</td>\n",
       "      <td>BRONX</td>\n",
       "      <td>18_30</td>\n",
       "    </tr>\n",
       "    <tr>\n",
       "      <td>437</td>\n",
       "      <td>January</td>\n",
       "      <td>Friday</td>\n",
       "      <td>Based on Self Initiated</td>\n",
       "      <td>POM</td>\n",
       "      <td>SGT</td>\n",
       "      <td>Y</td>\n",
       "      <td>PSB</td>\n",
       "      <td>ROBBERY</td>\n",
       "      <td>Y</td>\n",
       "      <td>Y</td>\n",
       "      <td>...</td>\n",
       "      <td>MALE</td>\n",
       "      <td>WHITE HISPANIC</td>\n",
       "      <td>THN</td>\n",
       "      <td>BRO</td>\n",
       "      <td>BLK</td>\n",
       "      <td>32</td>\n",
       "      <td>C</td>\n",
       "      <td>PBMN</td>\n",
       "      <td>MANHATTAN</td>\n",
       "      <td>18_30</td>\n",
       "    </tr>\n",
       "    <tr>\n",
       "      <td>2390</td>\n",
       "      <td>March</td>\n",
       "      <td>Wednesday</td>\n",
       "      <td>Based on Self Initiated</td>\n",
       "      <td>POM</td>\n",
       "      <td>LT</td>\n",
       "      <td>Y</td>\n",
       "      <td>PSB</td>\n",
       "      <td>ROBBERY</td>\n",
       "      <td>Y</td>\n",
       "      <td>N</td>\n",
       "      <td>...</td>\n",
       "      <td>MALE</td>\n",
       "      <td>BLACK</td>\n",
       "      <td>THN</td>\n",
       "      <td>BRO</td>\n",
       "      <td>BLK</td>\n",
       "      <td>28</td>\n",
       "      <td>B</td>\n",
       "      <td>PBMN</td>\n",
       "      <td>MANHATTAN</td>\n",
       "      <td>over_30</td>\n",
       "    </tr>\n",
       "    <tr>\n",
       "      <td>7113</td>\n",
       "      <td>August</td>\n",
       "      <td>Thursday</td>\n",
       "      <td>Based on C/W on Scene</td>\n",
       "      <td>POM</td>\n",
       "      <td>SGT</td>\n",
       "      <td>N</td>\n",
       "      <td>(null)</td>\n",
       "      <td>THEFT OF SERVICES</td>\n",
       "      <td>Y</td>\n",
       "      <td>Y</td>\n",
       "      <td>...</td>\n",
       "      <td>MALE</td>\n",
       "      <td>BLACK</td>\n",
       "      <td>THN</td>\n",
       "      <td>BLK</td>\n",
       "      <td>BLK</td>\n",
       "      <td>75</td>\n",
       "      <td>D</td>\n",
       "      <td>PBBN</td>\n",
       "      <td>BROOKLYN</td>\n",
       "      <td>18_30</td>\n",
       "    </tr>\n",
       "    <tr>\n",
       "      <td>3828</td>\n",
       "      <td>May</td>\n",
       "      <td>Wednesday</td>\n",
       "      <td>Based on Radio Run</td>\n",
       "      <td>DTS</td>\n",
       "      <td>SGT</td>\n",
       "      <td>Y</td>\n",
       "      <td>PSB</td>\n",
       "      <td>ROBBERY</td>\n",
       "      <td>Y</td>\n",
       "      <td>Y</td>\n",
       "      <td>...</td>\n",
       "      <td>MALE</td>\n",
       "      <td>BLACK</td>\n",
       "      <td>THN</td>\n",
       "      <td>BRO</td>\n",
       "      <td>BLK</td>\n",
       "      <td>71</td>\n",
       "      <td>C</td>\n",
       "      <td>PBBS</td>\n",
       "      <td>BROOKLYN</td>\n",
       "      <td>18_30</td>\n",
       "    </tr>\n",
       "  </tbody>\n",
       "</table>\n",
       "<p>8379 rows × 57 columns</p>\n",
       "</div>"
      ],
      "text/plain": [
       "         MONTH2       DAY2       STOP_WAS_INITIATED ISSUING_OFFICER_RANK  \\\n",
       "2604      March    Tuesday       Based on Radio Run                  POM   \n",
       "9472   November     Friday  Based on Self Initiated                  POM   \n",
       "8221  September   Thursday  Based on Self Initiated                  POM   \n",
       "9632   November  Wednesday  Based on Self Initiated                  POM   \n",
       "9261    October     Friday       Based on Radio Run                  POM   \n",
       "...         ...        ...                      ...                  ...   \n",
       "7072     August  Wednesday       Based on Radio Run                  POM   \n",
       "437     January     Friday  Based on Self Initiated                  POM   \n",
       "2390      March  Wednesday  Based on Self Initiated                  POM   \n",
       "7113     August   Thursday    Based on C/W on Scene                  POM   \n",
       "3828        May  Wednesday       Based on Radio Run                  DTS   \n",
       "\n",
       "     SUPERVISING_OFFICER_RANK  \\\n",
       "2604                      SGT   \n",
       "9472                       LT   \n",
       "8221                       LT   \n",
       "9632                      SSA   \n",
       "9261                      SGT   \n",
       "...                       ...   \n",
       "7072                       LT   \n",
       "437                       SGT   \n",
       "2390                       LT   \n",
       "7113                      SGT   \n",
       "3828                      SGT   \n",
       "\n",
       "     SUPERVISING_ACTION_CORRESPONDING_ACTIVITY_LOG_ENTRY_REVIEWED  \\\n",
       "2604                                                  Y             \n",
       "9472                                                  Y             \n",
       "8221                                                  N             \n",
       "9632                                                  Y             \n",
       "9261                                                  Y             \n",
       "...                                                 ...             \n",
       "7072                                                  Y             \n",
       "437                                                   Y             \n",
       "2390                                                  Y             \n",
       "7113                                                  N             \n",
       "3828                                                  Y             \n",
       "\n",
       "     JURISDICTION_DESCRIPTION       SUSPECTED_CRIME_DESCRIPTION  \\\n",
       "2604                      PSB                           ROBBERY   \n",
       "9472                   (null)                               CPW   \n",
       "8221                  Housing  CRIMINAL POSSESSION OF MARIHUANA   \n",
       "9632                      PSB  CRIMINAL POSSESSION OF MARIHUANA   \n",
       "9261                   (null)                           ASSAULT   \n",
       "...                       ...                               ...   \n",
       "7072                   (null)                           ROBBERY   \n",
       "437                       PSB                           ROBBERY   \n",
       "2390                      PSB                           ROBBERY   \n",
       "7113                   (null)                 THEFT OF SERVICES   \n",
       "3828                      PSB                           ROBBERY   \n",
       "\n",
       "     OFFICER_EXPLAINED_STOP_FLAG OTHER_PERSON_STOPPED_FLAG  ... SUSPECT_SEX  \\\n",
       "2604                           Y                         N  ...        MALE   \n",
       "9472                           Y                         N  ...        MALE   \n",
       "8221                           Y                         Y  ...        MALE   \n",
       "9632                           Y                         Y  ...        MALE   \n",
       "9261                           Y                         Y  ...        MALE   \n",
       "...                          ...                       ...  ...         ...   \n",
       "7072                           Y                         N  ...        MALE   \n",
       "437                            Y                         Y  ...        MALE   \n",
       "2390                           Y                         N  ...        MALE   \n",
       "7113                           Y                         Y  ...        MALE   \n",
       "3828                           Y                         Y  ...        MALE   \n",
       "\n",
       "     SUSPECT_RACE_DESCRIPTION SUSPECT_BODY_BUILD_TYPE SUSPECT_EYE_COLOR  \\\n",
       "2604           WHITE HISPANIC                     MED               BRO   \n",
       "9472                    BLACK                     THN               BRO   \n",
       "8221           BLACK HISPANIC                     THN               BRO   \n",
       "9632           WHITE HISPANIC                     THN               BRO   \n",
       "9261           WHITE HISPANIC                     MED               BRO   \n",
       "...                       ...                     ...               ...   \n",
       "7072                    BLACK                     MED               BRO   \n",
       "437            WHITE HISPANIC                     THN               BRO   \n",
       "2390                    BLACK                     THN               BRO   \n",
       "7113                    BLACK                     THN               BLK   \n",
       "3828                    BLACK                     THN               BRO   \n",
       "\n",
       "     SUSPECT_HAIR_COLOR STOP_LOCATION_PRECINCT STOP_LOCATION_SECTOR_CODE  \\\n",
       "2604                BLK                    104                    (null)   \n",
       "9472                BLK                     40                         A   \n",
       "8221                BLK                     43                         A   \n",
       "9632                BLK                    103                         A   \n",
       "9261                BLK                    106                         B   \n",
       "...                 ...                    ...                       ...   \n",
       "7072                BLK                     43                         C   \n",
       "437                 BLK                     32                         C   \n",
       "2390                BLK                     28                         B   \n",
       "7113                BLK                     75                         D   \n",
       "3828                BLK                     71                         C   \n",
       "\n",
       "     STOP_LOCATION_PATROL_BORO_NAME STOP_LOCATION_BORO_NAME  age_bin  \n",
       "2604                           PBQN                  QUEENS  over_30  \n",
       "9472                           PBBX                   BRONX    18_30  \n",
       "8221                           PBBX                   BRONX     0_17  \n",
       "9632                           PBQS                  QUEENS    18_30  \n",
       "9261                           PBQS                  QUEENS  over_30  \n",
       "...                             ...                     ...      ...  \n",
       "7072                           PBBX                   BRONX    18_30  \n",
       "437                            PBMN               MANHATTAN    18_30  \n",
       "2390                           PBMN               MANHATTAN  over_30  \n",
       "7113                           PBBN                BROOKLYN    18_30  \n",
       "3828                           PBBS                BROOKLYN    18_30  \n",
       "\n",
       "[8379 rows x 57 columns]"
      ]
     },
     "execution_count": 87,
     "metadata": {},
     "output_type": "execute_result"
    }
   ],
   "source": [
    "X_train_cat"
   ]
  },
  {
   "cell_type": "markdown",
   "metadata": {},
   "source": [
    "## Second Try \n",
    "Rather than try and use what is giving me an error.  I am going to import the csv."
   ]
  },
  {
   "cell_type": "code",
   "execution_count": 236,
   "metadata": {},
   "outputs": [],
   "source": [
    "df = pd.read_csv('cleaned_df.csv', index_col = 0)"
   ]
  },
  {
   "cell_type": "code",
   "execution_count": 141,
   "metadata": {},
   "outputs": [
    {
     "data": {
      "text/html": [
       "<div>\n",
       "<style scoped>\n",
       "    .dataframe tbody tr th:only-of-type {\n",
       "        vertical-align: middle;\n",
       "    }\n",
       "\n",
       "    .dataframe tbody tr th {\n",
       "        vertical-align: top;\n",
       "    }\n",
       "\n",
       "    .dataframe thead th {\n",
       "        text-align: right;\n",
       "    }\n",
       "</style>\n",
       "<table border=\"1\" class=\"dataframe\">\n",
       "  <thead>\n",
       "    <tr style=\"text-align: right;\">\n",
       "      <th></th>\n",
       "      <th>MONTH2</th>\n",
       "      <th>DAY2</th>\n",
       "      <th>STOP_WAS_INITIATED</th>\n",
       "      <th>ISSUING_OFFICER_RANK</th>\n",
       "      <th>SUPERVISING_OFFICER_RANK</th>\n",
       "      <th>SUPERVISING_ACTION_CORRESPONDING_ACTIVITY_LOG_ENTRY_REVIEWED</th>\n",
       "      <th>JURISDICTION_DESCRIPTION</th>\n",
       "      <th>OBSERVED_DURATION_MINUTES</th>\n",
       "      <th>SUSPECTED_CRIME_DESCRIPTION</th>\n",
       "      <th>STOP_DURATION_MINUTES</th>\n",
       "      <th>...</th>\n",
       "      <th>SUSPECT_HEIGHT</th>\n",
       "      <th>SUSPECT_WEIGHT</th>\n",
       "      <th>SUSPECT_BODY_BUILD_TYPE</th>\n",
       "      <th>SUSPECT_EYE_COLOR</th>\n",
       "      <th>SUSPECT_HAIR_COLOR</th>\n",
       "      <th>STOP_LOCATION_PRECINCT</th>\n",
       "      <th>STOP_LOCATION_SECTOR_CODE</th>\n",
       "      <th>STOP_LOCATION_PATROL_BORO_NAME</th>\n",
       "      <th>STOP_LOCATION_BORO_NAME</th>\n",
       "      <th>age_bin</th>\n",
       "    </tr>\n",
       "  </thead>\n",
       "  <tbody>\n",
       "    <tr>\n",
       "      <td>0</td>\n",
       "      <td>January</td>\n",
       "      <td>Monday</td>\n",
       "      <td>Based on C/W on Scene</td>\n",
       "      <td>POM</td>\n",
       "      <td>SGT</td>\n",
       "      <td>Y</td>\n",
       "      <td>PSB</td>\n",
       "      <td>0</td>\n",
       "      <td>MENACING</td>\n",
       "      <td>18</td>\n",
       "      <td>...</td>\n",
       "      <td>5.10</td>\n",
       "      <td>170.0</td>\n",
       "      <td>MED</td>\n",
       "      <td>BRO</td>\n",
       "      <td>BLK</td>\n",
       "      <td>1</td>\n",
       "      <td>G</td>\n",
       "      <td>PBMS</td>\n",
       "      <td>MANHATTAN</td>\n",
       "      <td>unknown</td>\n",
       "    </tr>\n",
       "    <tr>\n",
       "      <td>1</td>\n",
       "      <td>January</td>\n",
       "      <td>Monday</td>\n",
       "      <td>Based on Radio Run</td>\n",
       "      <td>POM</td>\n",
       "      <td>SGT</td>\n",
       "      <td>N</td>\n",
       "      <td>PSB</td>\n",
       "      <td>1</td>\n",
       "      <td>CPW</td>\n",
       "      <td>15</td>\n",
       "      <td>...</td>\n",
       "      <td>6.10</td>\n",
       "      <td>250.0</td>\n",
       "      <td>HEA</td>\n",
       "      <td>BRO</td>\n",
       "      <td>BLK</td>\n",
       "      <td>34</td>\n",
       "      <td>C</td>\n",
       "      <td>PBMN</td>\n",
       "      <td>MANHATTAN</td>\n",
       "      <td>18_30</td>\n",
       "    </tr>\n",
       "    <tr>\n",
       "      <td>2</td>\n",
       "      <td>January</td>\n",
       "      <td>Monday</td>\n",
       "      <td>Based on Radio Run</td>\n",
       "      <td>POM</td>\n",
       "      <td>SGT</td>\n",
       "      <td>Y</td>\n",
       "      <td>Housing</td>\n",
       "      <td>0</td>\n",
       "      <td>GRAND LARCENY</td>\n",
       "      <td>10</td>\n",
       "      <td>...</td>\n",
       "      <td>5.50</td>\n",
       "      <td>150.0</td>\n",
       "      <td>THN</td>\n",
       "      <td>BRO</td>\n",
       "      <td>BLD</td>\n",
       "      <td>43</td>\n",
       "      <td>B</td>\n",
       "      <td>PBBX</td>\n",
       "      <td>BRONX</td>\n",
       "      <td>over_30</td>\n",
       "    </tr>\n",
       "    <tr>\n",
       "      <td>3</td>\n",
       "      <td>January</td>\n",
       "      <td>Monday</td>\n",
       "      <td>Based on Radio Run</td>\n",
       "      <td>POM</td>\n",
       "      <td>SGT</td>\n",
       "      <td>Y</td>\n",
       "      <td>PSB</td>\n",
       "      <td>2</td>\n",
       "      <td>ROBBERY</td>\n",
       "      <td>15</td>\n",
       "      <td>...</td>\n",
       "      <td>5.10</td>\n",
       "      <td>160.0</td>\n",
       "      <td>MED</td>\n",
       "      <td>BRO</td>\n",
       "      <td>BLK</td>\n",
       "      <td>63</td>\n",
       "      <td>B</td>\n",
       "      <td>PBBS</td>\n",
       "      <td>BROOKLYN</td>\n",
       "      <td>over_30</td>\n",
       "    </tr>\n",
       "    <tr>\n",
       "      <td>4</td>\n",
       "      <td>January</td>\n",
       "      <td>Monday</td>\n",
       "      <td>Based on Radio Run</td>\n",
       "      <td>POM</td>\n",
       "      <td>SGT</td>\n",
       "      <td>Y</td>\n",
       "      <td>PSB</td>\n",
       "      <td>2</td>\n",
       "      <td>ROBBERY</td>\n",
       "      <td>15</td>\n",
       "      <td>...</td>\n",
       "      <td>5.11</td>\n",
       "      <td>230.0</td>\n",
       "      <td>MED</td>\n",
       "      <td>BRO</td>\n",
       "      <td>BLK</td>\n",
       "      <td>63</td>\n",
       "      <td>B</td>\n",
       "      <td>PBBS</td>\n",
       "      <td>BROOKLYN</td>\n",
       "      <td>over_30</td>\n",
       "    </tr>\n",
       "  </tbody>\n",
       "</table>\n",
       "<p>5 rows × 62 columns</p>\n",
       "</div>"
      ],
      "text/plain": [
       "    MONTH2    DAY2     STOP_WAS_INITIATED ISSUING_OFFICER_RANK  \\\n",
       "0  January  Monday  Based on C/W on Scene                  POM   \n",
       "1  January  Monday     Based on Radio Run                  POM   \n",
       "2  January  Monday     Based on Radio Run                  POM   \n",
       "3  January  Monday     Based on Radio Run                  POM   \n",
       "4  January  Monday     Based on Radio Run                  POM   \n",
       "\n",
       "  SUPERVISING_OFFICER_RANK  \\\n",
       "0                      SGT   \n",
       "1                      SGT   \n",
       "2                      SGT   \n",
       "3                      SGT   \n",
       "4                      SGT   \n",
       "\n",
       "  SUPERVISING_ACTION_CORRESPONDING_ACTIVITY_LOG_ENTRY_REVIEWED  \\\n",
       "0                                                  Y             \n",
       "1                                                  N             \n",
       "2                                                  Y             \n",
       "3                                                  Y             \n",
       "4                                                  Y             \n",
       "\n",
       "  JURISDICTION_DESCRIPTION  OBSERVED_DURATION_MINUTES  \\\n",
       "0                      PSB                          0   \n",
       "1                      PSB                          1   \n",
       "2                  Housing                          0   \n",
       "3                      PSB                          2   \n",
       "4                      PSB                          2   \n",
       "\n",
       "  SUSPECTED_CRIME_DESCRIPTION  STOP_DURATION_MINUTES  ... SUSPECT_HEIGHT  \\\n",
       "0                    MENACING                     18  ...           5.10   \n",
       "1                         CPW                     15  ...           6.10   \n",
       "2               GRAND LARCENY                     10  ...           5.50   \n",
       "3                     ROBBERY                     15  ...           5.10   \n",
       "4                     ROBBERY                     15  ...           5.11   \n",
       "\n",
       "  SUSPECT_WEIGHT SUSPECT_BODY_BUILD_TYPE SUSPECT_EYE_COLOR SUSPECT_HAIR_COLOR  \\\n",
       "0          170.0                     MED               BRO                BLK   \n",
       "1          250.0                     HEA               BRO                BLK   \n",
       "2          150.0                     THN               BRO                BLD   \n",
       "3          160.0                     MED               BRO                BLK   \n",
       "4          230.0                     MED               BRO                BLK   \n",
       "\n",
       "  STOP_LOCATION_PRECINCT STOP_LOCATION_SECTOR_CODE  \\\n",
       "0                      1                         G   \n",
       "1                     34                         C   \n",
       "2                     43                         B   \n",
       "3                     63                         B   \n",
       "4                     63                         B   \n",
       "\n",
       "  STOP_LOCATION_PATROL_BORO_NAME STOP_LOCATION_BORO_NAME  age_bin  \n",
       "0                           PBMS               MANHATTAN  unknown  \n",
       "1                           PBMN               MANHATTAN    18_30  \n",
       "2                           PBBX                   BRONX  over_30  \n",
       "3                           PBBS                BROOKLYN  over_30  \n",
       "4                           PBBS                BROOKLYN  over_30  \n",
       "\n",
       "[5 rows x 62 columns]"
      ]
     },
     "execution_count": 141,
     "metadata": {},
     "output_type": "execute_result"
    }
   ],
   "source": [
    "df.head()"
   ]
  },
  {
   "cell_type": "code",
   "execution_count": 261,
   "metadata": {},
   "outputs": [],
   "source": [
    "X = df.drop(['SUSPECT_ARRESTED_FLAG', 'SUSPECT_ARREST_OFFENSE', 'SEARCH_BASIS_INCIDENTAL_TO_ARREST_FLAG'], axis = 1)\n",
    "y = df.SUSPECT_ARRESTED_FLAG"
   ]
  },
  {
   "cell_type": "code",
   "execution_count": 335,
   "metadata": {},
   "outputs": [
    {
     "data": {
      "text/plain": [
       "(10474, 59)"
      ]
     },
     "execution_count": 335,
     "metadata": {},
     "output_type": "execute_result"
    }
   ],
   "source": [
    "X.head()\n",
    "X.shape"
   ]
  },
  {
   "cell_type": "code",
   "execution_count": 263,
   "metadata": {},
   "outputs": [],
   "source": [
    "X_train, X_test, y_train, y_test = train_test_split(X, y, test_size = 0.2, random_state = 345)"
   ]
  },
  {
   "cell_type": "code",
   "execution_count": 264,
   "metadata": {},
   "outputs": [],
   "source": [
    "enc = OneHotEncoder(handle_unknown='ignore')\n",
    "scaler = StandardScaler()\n",
    "X_train_num = X_train[['OBSERVED_DURATION_MINUTES', 'STOP_DURATION_MINUTES', 'SUSPECT_HEIGHT', 'SUSPECT_WEIGHT']]\n",
    "X_train_cat = X_train.drop(['OBSERVED_DURATION_MINUTES', 'STOP_DURATION_MINUTES', 'SUSPECT_HEIGHT', 'SUSPECT_WEIGHT'], axis = 1)"
   ]
  },
  {
   "cell_type": "code",
   "execution_count": 265,
   "metadata": {},
   "outputs": [],
   "source": [
    "# X_train_cat.info()"
   ]
  },
  {
   "cell_type": "code",
   "execution_count": 266,
   "metadata": {},
   "outputs": [],
   "source": [
    "X_train_enc = enc.fit_transform(X_train_cat).toarray()\n",
    "names = enc.get_feature_names(X_train_cat.columns)\n",
    "\n",
    "X_train_scale = scaler.fit_transform(X_train_num)"
   ]
  },
  {
   "cell_type": "code",
   "execution_count": 267,
   "metadata": {},
   "outputs": [],
   "source": [
    "X_train_enc_df = pd.DataFrame(X_train_enc, columns = names)\n",
    "X_train_scale_df = pd.DataFrame(X_train_scale, columns = X_train_num.columns)"
   ]
  },
  {
   "cell_type": "code",
   "execution_count": 268,
   "metadata": {},
   "outputs": [],
   "source": [
    "X_train_new = pd.concat([X_train_enc_df, X_train_scale_df], axis = 1)"
   ]
  },
  {
   "cell_type": "code",
   "execution_count": 269,
   "metadata": {},
   "outputs": [
    {
     "data": {
      "text/html": [
       "<div>\n",
       "<style scoped>\n",
       "    .dataframe tbody tr th:only-of-type {\n",
       "        vertical-align: middle;\n",
       "    }\n",
       "\n",
       "    .dataframe tbody tr th {\n",
       "        vertical-align: top;\n",
       "    }\n",
       "\n",
       "    .dataframe thead th {\n",
       "        text-align: right;\n",
       "    }\n",
       "</style>\n",
       "<table border=\"1\" class=\"dataframe\">\n",
       "  <thead>\n",
       "    <tr style=\"text-align: right;\">\n",
       "      <th></th>\n",
       "      <th>MONTH2_April</th>\n",
       "      <th>MONTH2_August</th>\n",
       "      <th>MONTH2_December</th>\n",
       "      <th>MONTH2_February</th>\n",
       "      <th>MONTH2_January</th>\n",
       "      <th>MONTH2_July</th>\n",
       "      <th>MONTH2_June</th>\n",
       "      <th>MONTH2_March</th>\n",
       "      <th>MONTH2_May</th>\n",
       "      <th>MONTH2_November</th>\n",
       "      <th>...</th>\n",
       "      <th>STOP_LOCATION_BORO_NAME_QUEENS</th>\n",
       "      <th>STOP_LOCATION_BORO_NAME_STATEN ISLAND</th>\n",
       "      <th>age_bin_0_17</th>\n",
       "      <th>age_bin_18_30</th>\n",
       "      <th>age_bin_over_30</th>\n",
       "      <th>age_bin_unknown</th>\n",
       "      <th>OBSERVED_DURATION_MINUTES</th>\n",
       "      <th>STOP_DURATION_MINUTES</th>\n",
       "      <th>SUSPECT_HEIGHT</th>\n",
       "      <th>SUSPECT_WEIGHT</th>\n",
       "    </tr>\n",
       "  </thead>\n",
       "  <tbody>\n",
       "    <tr>\n",
       "      <td>0</td>\n",
       "      <td>0.0</td>\n",
       "      <td>0.0</td>\n",
       "      <td>0.0</td>\n",
       "      <td>0.0</td>\n",
       "      <td>0.0</td>\n",
       "      <td>0.0</td>\n",
       "      <td>0.0</td>\n",
       "      <td>1.0</td>\n",
       "      <td>0.0</td>\n",
       "      <td>0.0</td>\n",
       "      <td>...</td>\n",
       "      <td>1.0</td>\n",
       "      <td>0.0</td>\n",
       "      <td>0.0</td>\n",
       "      <td>0.0</td>\n",
       "      <td>1.0</td>\n",
       "      <td>0.0</td>\n",
       "      <td>-0.019219</td>\n",
       "      <td>0.535113</td>\n",
       "      <td>0.413704</td>\n",
       "      <td>0.040105</td>\n",
       "    </tr>\n",
       "    <tr>\n",
       "      <td>1</td>\n",
       "      <td>0.0</td>\n",
       "      <td>0.0</td>\n",
       "      <td>0.0</td>\n",
       "      <td>0.0</td>\n",
       "      <td>0.0</td>\n",
       "      <td>0.0</td>\n",
       "      <td>0.0</td>\n",
       "      <td>0.0</td>\n",
       "      <td>0.0</td>\n",
       "      <td>1.0</td>\n",
       "      <td>...</td>\n",
       "      <td>0.0</td>\n",
       "      <td>0.0</td>\n",
       "      <td>0.0</td>\n",
       "      <td>1.0</td>\n",
       "      <td>0.0</td>\n",
       "      <td>0.0</td>\n",
       "      <td>-0.020987</td>\n",
       "      <td>-0.596034</td>\n",
       "      <td>0.154967</td>\n",
       "      <td>-0.703404</td>\n",
       "    </tr>\n",
       "    <tr>\n",
       "      <td>2</td>\n",
       "      <td>0.0</td>\n",
       "      <td>0.0</td>\n",
       "      <td>0.0</td>\n",
       "      <td>0.0</td>\n",
       "      <td>0.0</td>\n",
       "      <td>0.0</td>\n",
       "      <td>0.0</td>\n",
       "      <td>0.0</td>\n",
       "      <td>0.0</td>\n",
       "      <td>0.0</td>\n",
       "      <td>...</td>\n",
       "      <td>0.0</td>\n",
       "      <td>0.0</td>\n",
       "      <td>1.0</td>\n",
       "      <td>0.0</td>\n",
       "      <td>0.0</td>\n",
       "      <td>0.0</td>\n",
       "      <td>-0.020987</td>\n",
       "      <td>-0.081876</td>\n",
       "      <td>0.413704</td>\n",
       "      <td>-0.554702</td>\n",
       "    </tr>\n",
       "    <tr>\n",
       "      <td>3</td>\n",
       "      <td>0.0</td>\n",
       "      <td>0.0</td>\n",
       "      <td>0.0</td>\n",
       "      <td>0.0</td>\n",
       "      <td>0.0</td>\n",
       "      <td>0.0</td>\n",
       "      <td>0.0</td>\n",
       "      <td>0.0</td>\n",
       "      <td>0.0</td>\n",
       "      <td>1.0</td>\n",
       "      <td>...</td>\n",
       "      <td>1.0</td>\n",
       "      <td>0.0</td>\n",
       "      <td>0.0</td>\n",
       "      <td>1.0</td>\n",
       "      <td>0.0</td>\n",
       "      <td>0.0</td>\n",
       "      <td>-0.018335</td>\n",
       "      <td>-0.081876</td>\n",
       "      <td>0.413704</td>\n",
       "      <td>-0.554702</td>\n",
       "    </tr>\n",
       "    <tr>\n",
       "      <td>4</td>\n",
       "      <td>0.0</td>\n",
       "      <td>0.0</td>\n",
       "      <td>0.0</td>\n",
       "      <td>0.0</td>\n",
       "      <td>0.0</td>\n",
       "      <td>0.0</td>\n",
       "      <td>0.0</td>\n",
       "      <td>0.0</td>\n",
       "      <td>0.0</td>\n",
       "      <td>0.0</td>\n",
       "      <td>...</td>\n",
       "      <td>1.0</td>\n",
       "      <td>0.0</td>\n",
       "      <td>0.0</td>\n",
       "      <td>0.0</td>\n",
       "      <td>1.0</td>\n",
       "      <td>0.0</td>\n",
       "      <td>-0.020987</td>\n",
       "      <td>-0.338955</td>\n",
       "      <td>-0.362507</td>\n",
       "      <td>-0.554702</td>\n",
       "    </tr>\n",
       "  </tbody>\n",
       "</table>\n",
       "<p>5 rows × 305 columns</p>\n",
       "</div>"
      ],
      "text/plain": [
       "   MONTH2_April  MONTH2_August  MONTH2_December  MONTH2_February  \\\n",
       "0           0.0            0.0              0.0              0.0   \n",
       "1           0.0            0.0              0.0              0.0   \n",
       "2           0.0            0.0              0.0              0.0   \n",
       "3           0.0            0.0              0.0              0.0   \n",
       "4           0.0            0.0              0.0              0.0   \n",
       "\n",
       "   MONTH2_January  MONTH2_July  MONTH2_June  MONTH2_March  MONTH2_May  \\\n",
       "0             0.0          0.0          0.0           1.0         0.0   \n",
       "1             0.0          0.0          0.0           0.0         0.0   \n",
       "2             0.0          0.0          0.0           0.0         0.0   \n",
       "3             0.0          0.0          0.0           0.0         0.0   \n",
       "4             0.0          0.0          0.0           0.0         0.0   \n",
       "\n",
       "   MONTH2_November  ...  STOP_LOCATION_BORO_NAME_QUEENS  \\\n",
       "0              0.0  ...                             1.0   \n",
       "1              1.0  ...                             0.0   \n",
       "2              0.0  ...                             0.0   \n",
       "3              1.0  ...                             1.0   \n",
       "4              0.0  ...                             1.0   \n",
       "\n",
       "   STOP_LOCATION_BORO_NAME_STATEN ISLAND  age_bin_0_17  age_bin_18_30  \\\n",
       "0                                    0.0           0.0            0.0   \n",
       "1                                    0.0           0.0            1.0   \n",
       "2                                    0.0           1.0            0.0   \n",
       "3                                    0.0           0.0            1.0   \n",
       "4                                    0.0           0.0            0.0   \n",
       "\n",
       "   age_bin_over_30  age_bin_unknown  OBSERVED_DURATION_MINUTES  \\\n",
       "0              1.0              0.0                  -0.019219   \n",
       "1              0.0              0.0                  -0.020987   \n",
       "2              0.0              0.0                  -0.020987   \n",
       "3              0.0              0.0                  -0.018335   \n",
       "4              1.0              0.0                  -0.020987   \n",
       "\n",
       "   STOP_DURATION_MINUTES  SUSPECT_HEIGHT  SUSPECT_WEIGHT  \n",
       "0               0.535113        0.413704        0.040105  \n",
       "1              -0.596034        0.154967       -0.703404  \n",
       "2              -0.081876        0.413704       -0.554702  \n",
       "3              -0.081876        0.413704       -0.554702  \n",
       "4              -0.338955       -0.362507       -0.554702  \n",
       "\n",
       "[5 rows x 305 columns]"
      ]
     },
     "execution_count": 269,
     "metadata": {},
     "output_type": "execute_result"
    }
   ],
   "source": [
    "X_train_new.head()"
   ]
  },
  {
   "cell_type": "code",
   "execution_count": 270,
   "metadata": {},
   "outputs": [],
   "source": [
    "X_test_num = X_test[['OBSERVED_DURATION_MINUTES', 'STOP_DURATION_MINUTES', 'SUSPECT_HEIGHT', 'SUSPECT_WEIGHT']]\n",
    "X_test_cat = X_test.drop(['OBSERVED_DURATION_MINUTES', 'STOP_DURATION_MINUTES', 'SUSPECT_HEIGHT', 'SUSPECT_WEIGHT'], axis = 1)"
   ]
  },
  {
   "cell_type": "code",
   "execution_count": 271,
   "metadata": {},
   "outputs": [],
   "source": [
    "X_test_enc = enc.transform(X_test_cat).toarray()\n",
    "X_test_scale = scaler.transform(X_test_num)"
   ]
  },
  {
   "cell_type": "code",
   "execution_count": 272,
   "metadata": {},
   "outputs": [],
   "source": [
    "X_test_enc_df = pd.DataFrame(X_test_enc, columns = names)\n",
    "X_test_scale_df = pd.DataFrame(X_test_scale, columns = X_test_num.columns)"
   ]
  },
  {
   "cell_type": "code",
   "execution_count": 273,
   "metadata": {},
   "outputs": [],
   "source": [
    "X_test_new = pd.concat([X_test_enc_df, X_test_scale_df], axis = 1)"
   ]
  },
  {
   "cell_type": "code",
   "execution_count": 274,
   "metadata": {},
   "outputs": [
    {
     "data": {
      "text/html": [
       "<div>\n",
       "<style scoped>\n",
       "    .dataframe tbody tr th:only-of-type {\n",
       "        vertical-align: middle;\n",
       "    }\n",
       "\n",
       "    .dataframe tbody tr th {\n",
       "        vertical-align: top;\n",
       "    }\n",
       "\n",
       "    .dataframe thead th {\n",
       "        text-align: right;\n",
       "    }\n",
       "</style>\n",
       "<table border=\"1\" class=\"dataframe\">\n",
       "  <thead>\n",
       "    <tr style=\"text-align: right;\">\n",
       "      <th></th>\n",
       "      <th>MONTH2_April</th>\n",
       "      <th>MONTH2_August</th>\n",
       "      <th>MONTH2_December</th>\n",
       "      <th>MONTH2_February</th>\n",
       "      <th>MONTH2_January</th>\n",
       "      <th>MONTH2_July</th>\n",
       "      <th>MONTH2_June</th>\n",
       "      <th>MONTH2_March</th>\n",
       "      <th>MONTH2_May</th>\n",
       "      <th>MONTH2_November</th>\n",
       "      <th>...</th>\n",
       "      <th>STOP_LOCATION_BORO_NAME_QUEENS</th>\n",
       "      <th>STOP_LOCATION_BORO_NAME_STATEN ISLAND</th>\n",
       "      <th>age_bin_0_17</th>\n",
       "      <th>age_bin_18_30</th>\n",
       "      <th>age_bin_over_30</th>\n",
       "      <th>age_bin_unknown</th>\n",
       "      <th>OBSERVED_DURATION_MINUTES</th>\n",
       "      <th>STOP_DURATION_MINUTES</th>\n",
       "      <th>SUSPECT_HEIGHT</th>\n",
       "      <th>SUSPECT_WEIGHT</th>\n",
       "    </tr>\n",
       "  </thead>\n",
       "  <tbody>\n",
       "    <tr>\n",
       "      <td>0</td>\n",
       "      <td>0.0</td>\n",
       "      <td>0.0</td>\n",
       "      <td>1.0</td>\n",
       "      <td>0.0</td>\n",
       "      <td>0.0</td>\n",
       "      <td>0.0</td>\n",
       "      <td>0.0</td>\n",
       "      <td>0.0</td>\n",
       "      <td>0.0</td>\n",
       "      <td>0.0</td>\n",
       "      <td>...</td>\n",
       "      <td>0.0</td>\n",
       "      <td>0.0</td>\n",
       "      <td>0.0</td>\n",
       "      <td>1.0</td>\n",
       "      <td>0.0</td>\n",
       "      <td>0.0</td>\n",
       "      <td>-0.020987</td>\n",
       "      <td>-0.493202</td>\n",
       "      <td>0.672441</td>\n",
       "      <td>-0.257299</td>\n",
       "    </tr>\n",
       "    <tr>\n",
       "      <td>1</td>\n",
       "      <td>1.0</td>\n",
       "      <td>0.0</td>\n",
       "      <td>0.0</td>\n",
       "      <td>0.0</td>\n",
       "      <td>0.0</td>\n",
       "      <td>0.0</td>\n",
       "      <td>0.0</td>\n",
       "      <td>0.0</td>\n",
       "      <td>0.0</td>\n",
       "      <td>0.0</td>\n",
       "      <td>...</td>\n",
       "      <td>0.0</td>\n",
       "      <td>0.0</td>\n",
       "      <td>0.0</td>\n",
       "      <td>0.0</td>\n",
       "      <td>1.0</td>\n",
       "      <td>0.0</td>\n",
       "      <td>-0.017451</td>\n",
       "      <td>-0.338955</td>\n",
       "      <td>-0.103770</td>\n",
       "      <td>0.337508</td>\n",
       "    </tr>\n",
       "    <tr>\n",
       "      <td>2</td>\n",
       "      <td>0.0</td>\n",
       "      <td>0.0</td>\n",
       "      <td>0.0</td>\n",
       "      <td>0.0</td>\n",
       "      <td>0.0</td>\n",
       "      <td>1.0</td>\n",
       "      <td>0.0</td>\n",
       "      <td>0.0</td>\n",
       "      <td>0.0</td>\n",
       "      <td>0.0</td>\n",
       "      <td>...</td>\n",
       "      <td>0.0</td>\n",
       "      <td>0.0</td>\n",
       "      <td>0.0</td>\n",
       "      <td>0.0</td>\n",
       "      <td>1.0</td>\n",
       "      <td>0.0</td>\n",
       "      <td>-0.017451</td>\n",
       "      <td>-0.081876</td>\n",
       "      <td>0.154967</td>\n",
       "      <td>0.040105</td>\n",
       "    </tr>\n",
       "    <tr>\n",
       "      <td>3</td>\n",
       "      <td>0.0</td>\n",
       "      <td>0.0</td>\n",
       "      <td>0.0</td>\n",
       "      <td>0.0</td>\n",
       "      <td>0.0</td>\n",
       "      <td>0.0</td>\n",
       "      <td>0.0</td>\n",
       "      <td>0.0</td>\n",
       "      <td>1.0</td>\n",
       "      <td>0.0</td>\n",
       "      <td>...</td>\n",
       "      <td>0.0</td>\n",
       "      <td>0.0</td>\n",
       "      <td>0.0</td>\n",
       "      <td>1.0</td>\n",
       "      <td>0.0</td>\n",
       "      <td>0.0</td>\n",
       "      <td>-0.019219</td>\n",
       "      <td>-0.081876</td>\n",
       "      <td>0.931178</td>\n",
       "      <td>0.932315</td>\n",
       "    </tr>\n",
       "    <tr>\n",
       "      <td>4</td>\n",
       "      <td>0.0</td>\n",
       "      <td>0.0</td>\n",
       "      <td>0.0</td>\n",
       "      <td>1.0</td>\n",
       "      <td>0.0</td>\n",
       "      <td>0.0</td>\n",
       "      <td>0.0</td>\n",
       "      <td>0.0</td>\n",
       "      <td>0.0</td>\n",
       "      <td>0.0</td>\n",
       "      <td>...</td>\n",
       "      <td>0.0</td>\n",
       "      <td>0.0</td>\n",
       "      <td>1.0</td>\n",
       "      <td>0.0</td>\n",
       "      <td>0.0</td>\n",
       "      <td>0.0</td>\n",
       "      <td>-0.020987</td>\n",
       "      <td>-0.184708</td>\n",
       "      <td>-0.103770</td>\n",
       "      <td>-0.852106</td>\n",
       "    </tr>\n",
       "  </tbody>\n",
       "</table>\n",
       "<p>5 rows × 305 columns</p>\n",
       "</div>"
      ],
      "text/plain": [
       "   MONTH2_April  MONTH2_August  MONTH2_December  MONTH2_February  \\\n",
       "0           0.0            0.0              1.0              0.0   \n",
       "1           1.0            0.0              0.0              0.0   \n",
       "2           0.0            0.0              0.0              0.0   \n",
       "3           0.0            0.0              0.0              0.0   \n",
       "4           0.0            0.0              0.0              1.0   \n",
       "\n",
       "   MONTH2_January  MONTH2_July  MONTH2_June  MONTH2_March  MONTH2_May  \\\n",
       "0             0.0          0.0          0.0           0.0         0.0   \n",
       "1             0.0          0.0          0.0           0.0         0.0   \n",
       "2             0.0          1.0          0.0           0.0         0.0   \n",
       "3             0.0          0.0          0.0           0.0         1.0   \n",
       "4             0.0          0.0          0.0           0.0         0.0   \n",
       "\n",
       "   MONTH2_November  ...  STOP_LOCATION_BORO_NAME_QUEENS  \\\n",
       "0              0.0  ...                             0.0   \n",
       "1              0.0  ...                             0.0   \n",
       "2              0.0  ...                             0.0   \n",
       "3              0.0  ...                             0.0   \n",
       "4              0.0  ...                             0.0   \n",
       "\n",
       "   STOP_LOCATION_BORO_NAME_STATEN ISLAND  age_bin_0_17  age_bin_18_30  \\\n",
       "0                                    0.0           0.0            1.0   \n",
       "1                                    0.0           0.0            0.0   \n",
       "2                                    0.0           0.0            0.0   \n",
       "3                                    0.0           0.0            1.0   \n",
       "4                                    0.0           1.0            0.0   \n",
       "\n",
       "   age_bin_over_30  age_bin_unknown  OBSERVED_DURATION_MINUTES  \\\n",
       "0              0.0              0.0                  -0.020987   \n",
       "1              1.0              0.0                  -0.017451   \n",
       "2              1.0              0.0                  -0.017451   \n",
       "3              0.0              0.0                  -0.019219   \n",
       "4              0.0              0.0                  -0.020987   \n",
       "\n",
       "   STOP_DURATION_MINUTES  SUSPECT_HEIGHT  SUSPECT_WEIGHT  \n",
       "0              -0.493202        0.672441       -0.257299  \n",
       "1              -0.338955       -0.103770        0.337508  \n",
       "2              -0.081876        0.154967        0.040105  \n",
       "3              -0.081876        0.931178        0.932315  \n",
       "4              -0.184708       -0.103770       -0.852106  \n",
       "\n",
       "[5 rows x 305 columns]"
      ]
     },
     "execution_count": 274,
     "metadata": {},
     "output_type": "execute_result"
    }
   ],
   "source": [
    "X_test_new.head()"
   ]
  },
  {
   "cell_type": "markdown",
   "metadata": {},
   "source": [
    "## Random Forest "
   ]
  },
  {
   "cell_type": "code",
   "execution_count": 275,
   "metadata": {},
   "outputs": [],
   "source": [
    "rf_clf = RandomForestClassifier()\n",
    "rf_param_grid = {'n_estimators': [10, 30, 70, 100],\n",
    "                'criterion': ['gini', 'entropy'],\n",
    "                'max_depth': [1, 5, 10],\n",
    "                'min_samples_split': [3, 10, 15],\n",
    "                'min_samples_leaf': [3, 10, 15]}"
   ]
  },
  {
   "cell_type": "code",
   "execution_count": 276,
   "metadata": {},
   "outputs": [
    {
     "data": {
      "text/plain": [
       "GridSearchCV(cv=5, error_score='raise-deprecating',\n",
       "             estimator=RandomForestClassifier(bootstrap=True, class_weight=None,\n",
       "                                              criterion='gini', max_depth=None,\n",
       "                                              max_features='auto',\n",
       "                                              max_leaf_nodes=None,\n",
       "                                              min_impurity_decrease=0.0,\n",
       "                                              min_impurity_split=None,\n",
       "                                              min_samples_leaf=1,\n",
       "                                              min_samples_split=2,\n",
       "                                              min_weight_fraction_leaf=0.0,\n",
       "                                              n_estimators='warn', n_jobs=None,\n",
       "                                              oob_score=False,\n",
       "                                              random_state=None, verbose=0,\n",
       "                                              warm_start=False),\n",
       "             iid='warn', n_jobs=None,\n",
       "             param_grid={'criterion': ['gini', 'entropy'],\n",
       "                         'max_depth': [1, 5, 10],\n",
       "                         'min_samples_leaf': [3, 10, 15],\n",
       "                         'min_samples_split': [3, 10, 15],\n",
       "                         'n_estimators': [10, 30, 70, 100]},\n",
       "             pre_dispatch='2*n_jobs', refit=True, return_train_score=False,\n",
       "             scoring=None, verbose=0)"
      ]
     },
     "execution_count": 276,
     "metadata": {},
     "output_type": "execute_result"
    }
   ],
   "source": [
    "rf_grid_search = GridSearchCV(rf_clf, rf_param_grid, cv = 5)\n",
    "rf_grid_search.fit(X_train_new.values, y_train)"
   ]
  },
  {
   "cell_type": "code",
   "execution_count": 277,
   "metadata": {},
   "outputs": [
    {
     "data": {
      "text/plain": [
       "{'criterion': 'gini',\n",
       " 'max_depth': 10,\n",
       " 'min_samples_leaf': 3,\n",
       " 'min_samples_split': 3,\n",
       " 'n_estimators': 100}"
      ]
     },
     "execution_count": 277,
     "metadata": {},
     "output_type": "execute_result"
    }
   ],
   "source": [
    "rf_grid_search.best_params_"
   ]
  },
  {
   "cell_type": "code",
   "execution_count": 278,
   "metadata": {},
   "outputs": [],
   "source": [
    "rf_param_grid_2 = {'n_estimators': [100, 120, 140],\n",
    "                'criterion': ['gini'],\n",
    "                'max_depth': [10, 15, 20],\n",
    "                'min_samples_split': [2, 3, 4],\n",
    "                'min_samples_leaf': [2, 3, 4]}"
   ]
  },
  {
   "cell_type": "code",
   "execution_count": 279,
   "metadata": {},
   "outputs": [
    {
     "data": {
      "text/plain": [
       "GridSearchCV(cv=5, error_score='raise-deprecating',\n",
       "             estimator=RandomForestClassifier(bootstrap=True, class_weight=None,\n",
       "                                              criterion='gini', max_depth=None,\n",
       "                                              max_features='auto',\n",
       "                                              max_leaf_nodes=None,\n",
       "                                              min_impurity_decrease=0.0,\n",
       "                                              min_impurity_split=None,\n",
       "                                              min_samples_leaf=1,\n",
       "                                              min_samples_split=2,\n",
       "                                              min_weight_fraction_leaf=0.0,\n",
       "                                              n_estimators='warn', n_jobs=None,\n",
       "                                              oob_score=False,\n",
       "                                              random_state=None, verbose=0,\n",
       "                                              warm_start=False),\n",
       "             iid='warn', n_jobs=None,\n",
       "             param_grid={'criterion': ['gini'], 'max_depth': [10, 15, 20],\n",
       "                         'min_samples_leaf': [2, 3, 4],\n",
       "                         'min_samples_split': [2, 3, 4],\n",
       "                         'n_estimators': [100, 120, 140]},\n",
       "             pre_dispatch='2*n_jobs', refit=True, return_train_score=False,\n",
       "             scoring=None, verbose=0)"
      ]
     },
     "execution_count": 279,
     "metadata": {},
     "output_type": "execute_result"
    }
   ],
   "source": [
    "rf_grid_search = GridSearchCV(rf_clf, rf_param_grid_2, cv = 5)\n",
    "rf_grid_search.fit(X_train_new.values, y_train)"
   ]
  },
  {
   "cell_type": "code",
   "execution_count": 280,
   "metadata": {},
   "outputs": [
    {
     "data": {
      "text/plain": [
       "{'criterion': 'gini',\n",
       " 'max_depth': 20,\n",
       " 'min_samples_leaf': 2,\n",
       " 'min_samples_split': 4,\n",
       " 'n_estimators': 120}"
      ]
     },
     "execution_count": 280,
     "metadata": {},
     "output_type": "execute_result"
    }
   ],
   "source": [
    "rf_grid_search.best_params_"
   ]
  },
  {
   "cell_type": "code",
   "execution_count": 281,
   "metadata": {},
   "outputs": [],
   "source": [
    "rf_param_grid_3 = {'n_estimators': [115, 120, 125],\n",
    "                'criterion': ['gini'],\n",
    "                'max_depth': [19, 20, 21],\n",
    "                'min_samples_split': [4, 5, 6, 7],\n",
    "                'min_samples_leaf': [2]}"
   ]
  },
  {
   "cell_type": "code",
   "execution_count": 282,
   "metadata": {},
   "outputs": [
    {
     "data": {
      "text/plain": [
       "GridSearchCV(cv=5, error_score='raise-deprecating',\n",
       "             estimator=RandomForestClassifier(bootstrap=True, class_weight=None,\n",
       "                                              criterion='gini', max_depth=None,\n",
       "                                              max_features='auto',\n",
       "                                              max_leaf_nodes=None,\n",
       "                                              min_impurity_decrease=0.0,\n",
       "                                              min_impurity_split=None,\n",
       "                                              min_samples_leaf=1,\n",
       "                                              min_samples_split=2,\n",
       "                                              min_weight_fraction_leaf=0.0,\n",
       "                                              n_estimators='warn', n_jobs=None,\n",
       "                                              oob_score=False,\n",
       "                                              random_state=None, verbose=0,\n",
       "                                              warm_start=False),\n",
       "             iid='warn', n_jobs=None,\n",
       "             param_grid={'criterion': ['gini'], 'max_depth': [19, 20, 21],\n",
       "                         'min_samples_leaf': [2],\n",
       "                         'min_samples_split': [4, 5, 6, 7],\n",
       "                         'n_estimators': [115, 120, 125]},\n",
       "             pre_dispatch='2*n_jobs', refit=True, return_train_score=False,\n",
       "             scoring=None, verbose=0)"
      ]
     },
     "execution_count": 282,
     "metadata": {},
     "output_type": "execute_result"
    }
   ],
   "source": [
    "rf_grid_search = GridSearchCV(rf_clf, rf_param_grid_3, cv = 5)\n",
    "rf_grid_search.fit(X_train_new.values, y_train)"
   ]
  },
  {
   "cell_type": "code",
   "execution_count": 283,
   "metadata": {},
   "outputs": [
    {
     "data": {
      "text/plain": [
       "{'criterion': 'gini',\n",
       " 'max_depth': 21,\n",
       " 'min_samples_leaf': 2,\n",
       " 'min_samples_split': 4,\n",
       " 'n_estimators': 115}"
      ]
     },
     "execution_count": 283,
     "metadata": {},
     "output_type": "execute_result"
    }
   ],
   "source": [
    "rf_grid_search.best_params_"
   ]
  },
  {
   "cell_type": "code",
   "execution_count": 284,
   "metadata": {},
   "outputs": [],
   "source": [
    "rf_param_grid_4 = {'n_estimators': [113, 114, 115, 116, 117],\n",
    "                'criterion': ['gini'],\n",
    "                'max_depth': [21, 22, 23, 24, 25],\n",
    "                'min_samples_split': [4],\n",
    "                'min_samples_leaf': [2]}"
   ]
  },
  {
   "cell_type": "code",
   "execution_count": 285,
   "metadata": {},
   "outputs": [
    {
     "data": {
      "text/plain": [
       "GridSearchCV(cv=5, error_score='raise-deprecating',\n",
       "             estimator=RandomForestClassifier(bootstrap=True, class_weight=None,\n",
       "                                              criterion='gini', max_depth=None,\n",
       "                                              max_features='auto',\n",
       "                                              max_leaf_nodes=None,\n",
       "                                              min_impurity_decrease=0.0,\n",
       "                                              min_impurity_split=None,\n",
       "                                              min_samples_leaf=1,\n",
       "                                              min_samples_split=2,\n",
       "                                              min_weight_fraction_leaf=0.0,\n",
       "                                              n_estimators='warn', n_jobs=None,\n",
       "                                              oob_score=False,\n",
       "                                              random_state=None, verbose=0,\n",
       "                                              warm_start=False),\n",
       "             iid='warn', n_jobs=None,\n",
       "             param_grid={'criterion': ['gini'],\n",
       "                         'max_depth': [21, 22, 23, 24, 25],\n",
       "                         'min_samples_leaf': [2], 'min_samples_split': [4],\n",
       "                         'n_estimators': [113, 114, 115, 116, 117]},\n",
       "             pre_dispatch='2*n_jobs', refit=True, return_train_score=False,\n",
       "             scoring=None, verbose=0)"
      ]
     },
     "execution_count": 285,
     "metadata": {},
     "output_type": "execute_result"
    }
   ],
   "source": [
    "rf_grid_search = GridSearchCV(rf_clf, rf_param_grid_4, cv = 5)\n",
    "rf_grid_search.fit(X_train_new.values, y_train)"
   ]
  },
  {
   "cell_type": "code",
   "execution_count": 286,
   "metadata": {},
   "outputs": [
    {
     "data": {
      "text/plain": [
       "{'criterion': 'gini',\n",
       " 'max_depth': 25,\n",
       " 'min_samples_leaf': 2,\n",
       " 'min_samples_split': 4,\n",
       " 'n_estimators': 115}"
      ]
     },
     "execution_count": 286,
     "metadata": {},
     "output_type": "execute_result"
    }
   ],
   "source": [
    "rf_grid_search.best_params_"
   ]
  },
  {
   "cell_type": "code",
   "execution_count": 287,
   "metadata": {},
   "outputs": [],
   "source": [
    "rf_param_grid_5 = {'n_estimators': [115],\n",
    "                'criterion': ['gini'],\n",
    "                'max_depth': [25, 26, 27, 28, 29],\n",
    "                'min_samples_split': [4],\n",
    "                'min_samples_leaf': [2]}"
   ]
  },
  {
   "cell_type": "code",
   "execution_count": 288,
   "metadata": {},
   "outputs": [
    {
     "data": {
      "text/plain": [
       "GridSearchCV(cv=5, error_score='raise-deprecating',\n",
       "             estimator=RandomForestClassifier(bootstrap=True, class_weight=None,\n",
       "                                              criterion='gini', max_depth=None,\n",
       "                                              max_features='auto',\n",
       "                                              max_leaf_nodes=None,\n",
       "                                              min_impurity_decrease=0.0,\n",
       "                                              min_impurity_split=None,\n",
       "                                              min_samples_leaf=1,\n",
       "                                              min_samples_split=2,\n",
       "                                              min_weight_fraction_leaf=0.0,\n",
       "                                              n_estimators='warn', n_jobs=None,\n",
       "                                              oob_score=False,\n",
       "                                              random_state=None, verbose=0,\n",
       "                                              warm_start=False),\n",
       "             iid='warn', n_jobs=None,\n",
       "             param_grid={'criterion': ['gini'],\n",
       "                         'max_depth': [25, 26, 27, 28, 29],\n",
       "                         'min_samples_leaf': [2], 'min_samples_split': [4],\n",
       "                         'n_estimators': [115]},\n",
       "             pre_dispatch='2*n_jobs', refit=True, return_train_score=False,\n",
       "             scoring=None, verbose=0)"
      ]
     },
     "execution_count": 288,
     "metadata": {},
     "output_type": "execute_result"
    }
   ],
   "source": [
    "rf_grid_search = GridSearchCV(rf_clf, rf_param_grid_5, cv = 5)\n",
    "rf_grid_search.fit(X_train_new.values, y_train)"
   ]
  },
  {
   "cell_type": "code",
   "execution_count": 289,
   "metadata": {},
   "outputs": [
    {
     "data": {
      "text/plain": [
       "{'criterion': 'gini',\n",
       " 'max_depth': 25,\n",
       " 'min_samples_leaf': 2,\n",
       " 'min_samples_split': 4,\n",
       " 'n_estimators': 115}"
      ]
     },
     "execution_count": 289,
     "metadata": {},
     "output_type": "execute_result"
    }
   ],
   "source": [
    "rf_grid_search.best_params_"
   ]
  },
  {
   "cell_type": "code",
   "execution_count": null,
   "metadata": {},
   "outputs": [],
   "source": []
  },
  {
   "cell_type": "code",
   "execution_count": 209,
   "metadata": {},
   "outputs": [],
   "source": [
    "# rf_param_grid_6 = {'n_estimators': [104, 105, 106, 107, 108, 109],\n",
    "#                 'criterion': ['gini'],\n",
    "#                 'max_depth': [15],\n",
    "#                 'min_samples_split': [2],\n",
    "#                 'min_samples_leaf': [2]}"
   ]
  },
  {
   "cell_type": "code",
   "execution_count": 290,
   "metadata": {},
   "outputs": [],
   "source": [
    "# rf_grid_search = GridSearchCV(rf_clf, rf_param_grid_6, cv = 5)\n",
    "# rf_grid_search.fit(X_train_new.values, y_train)"
   ]
  },
  {
   "cell_type": "code",
   "execution_count": 211,
   "metadata": {},
   "outputs": [
    {
     "data": {
      "text/plain": [
       "{'criterion': 'gini',\n",
       " 'max_depth': 15,\n",
       " 'min_samples_leaf': 2,\n",
       " 'min_samples_split': 2,\n",
       " 'n_estimators': 108}"
      ]
     },
     "execution_count": 211,
     "metadata": {},
     "output_type": "execute_result"
    }
   ],
   "source": [
    "# rf_grid_search.best_params_"
   ]
  },
  {
   "cell_type": "code",
   "execution_count": 291,
   "metadata": {},
   "outputs": [],
   "source": [
    "final_rf = RandomForestClassifier(criterion = 'gini', max_depth = 25, min_samples_leaf = 2, \n",
    "                                  min_samples_split = 4, n_estimators = 115)"
   ]
  },
  {
   "cell_type": "code",
   "execution_count": 292,
   "metadata": {
    "scrolled": true
   },
   "outputs": [
    {
     "data": {
      "text/plain": [
       "RandomForestClassifier(bootstrap=True, class_weight=None, criterion='gini',\n",
       "                       max_depth=25, max_features='auto', max_leaf_nodes=None,\n",
       "                       min_impurity_decrease=0.0, min_impurity_split=None,\n",
       "                       min_samples_leaf=2, min_samples_split=4,\n",
       "                       min_weight_fraction_leaf=0.0, n_estimators=115,\n",
       "                       n_jobs=None, oob_score=False, random_state=None,\n",
       "                       verbose=0, warm_start=False)"
      ]
     },
     "execution_count": 292,
     "metadata": {},
     "output_type": "execute_result"
    }
   ],
   "source": [
    "final_rf.fit(X_train_new, y_train)"
   ]
  },
  {
   "cell_type": "code",
   "execution_count": 301,
   "metadata": {},
   "outputs": [
    {
     "name": "stdout",
     "output_type": "stream",
     "text": [
      "[[5873   72]\n",
      " [ 440 1994]]\n",
      "              precision    recall  f1-score   support\n",
      "\n",
      "           N       0.93      0.99      0.96      5945\n",
      "           Y       0.97      0.82      0.89      2434\n",
      "\n",
      "    accuracy                           0.94      8379\n",
      "   macro avg       0.95      0.90      0.92      8379\n",
      "weighted avg       0.94      0.94      0.94      8379\n",
      "\n"
     ]
    }
   ],
   "source": [
    "pred_train = final_rf.predict(X_train_new)\n",
    "print(confusion_matrix(y_train, pred_train))\n",
    "print(classification_report(y_train, pred_train))"
   ]
  },
  {
   "cell_type": "code",
   "execution_count": 293,
   "metadata": {},
   "outputs": [],
   "source": [
    "pred = final_rf.predict(X_test_new)"
   ]
  },
  {
   "cell_type": "code",
   "execution_count": 337,
   "metadata": {},
   "outputs": [
    {
     "name": "stdout",
     "output_type": "stream",
     "text": [
      "[[1455   49]\n",
      " [ 190  401]]\n",
      "              precision    recall  f1-score   support\n",
      "\n",
      "           N       0.88      0.97      0.92      1504\n",
      "           Y       0.89      0.68      0.77       591\n",
      "\n",
      "    accuracy                           0.89      2095\n",
      "   macro avg       0.89      0.82      0.85      2095\n",
      "weighted avg       0.89      0.89      0.88      2095\n",
      "\n"
     ]
    }
   ],
   "source": [
    "print(confusion_matrix(y_test, pred))\n",
    "print((classification_report(y_test, pred)))\n",
    "# print(accuracy_score(y_test, pred))"
   ]
  },
  {
   "cell_type": "code",
   "execution_count": null,
   "metadata": {},
   "outputs": [],
   "source": []
  },
  {
   "cell_type": "markdown",
   "metadata": {},
   "source": [
    "## Where there were problems (before fixing them)"
   ]
  },
  {
   "cell_type": "code",
   "execution_count": 259,
   "metadata": {},
   "outputs": [],
   "source": [
    "pd.DataFrame([X_train_new.columns, final_rf.feature_importances_])\n",
    "tup = list(zip(X_train_new.columns, final_rf.feature_importances_))"
   ]
  },
  {
   "cell_type": "code",
   "execution_count": 260,
   "metadata": {},
   "outputs": [
    {
     "data": {
      "text/plain": [
       "[('SUSPECT_ARREST_OFFENSE_(null)', 0.3415588609258147),\n",
       " ('SEARCH_BASIS_INCIDENTAL_TO_ARREST_FLAG_Y', 0.13969766628754968),\n",
       " ('SEARCH_BASIS_INCIDENTAL_TO_ARREST_FLAG_(null)', 0.07583738578343616),\n",
       " ('SEARCHED_FLAG_Y', 0.05826291879799349),\n",
       " ('SEARCHED_FLAG_N', 0.05583826476289579),\n",
       " ('SUSPECT_ARREST_OFFENSE_ROBBERY', 0.03518327550907764),\n",
       " ('SUSPECT_ARREST_OFFENSE_CPW', 0.03095686654373609),\n",
       " ('SUSPECT_ARREST_OFFENSE_ASSAULT', 0.023827616897578462),\n",
       " ('SUSPECT_ARREST_OFFENSE_PETIT LARCENY', 0.02181017793653937),\n",
       " ('OTHER_CONTRABAND_FLAG_Y', 0.01537912366354247),\n",
       " ('SUSPECT_ARREST_OFFENSE_OTHER', 0.0143391483008295),\n",
       " ('SUSPECT_ARREST_OFFENSE_CRIMINAL TRESPASS', 0.013800837396248943),\n",
       " ('OTHER_CONTRABAND_FLAG_N', 0.011589431304800543),\n",
       " ('WEAPON_FOUND_FLAG_N', 0.011126038541071711),\n",
       " ('WEAPON_FOUND_FLAG_Y', 0.008200073197293422),\n",
       " ('FIREARM_FLAG_(null)', 0.007467821570562883),\n",
       " ('SUSPECT_ARREST_OFFENSE_BURGLARY', 0.006542519782790947),\n",
       " ('SUSPECT_ARREST_OFFENSE_GRAND LARCENY', 0.005753825508104472),\n",
       " ('SUSPECT_ARREST_OFFENSE_CRIMINAL POSSESSION OF CONTROLLED SUBSTANCE',\n",
       "  0.0055178917653293585),\n",
       " ('KNIFE_CUTTER_FLAG_(null)', 0.005359870360018177),\n",
       " ('SUSPECT_ARREST_OFFENSE_CRIMINAL MISCHIEF', 0.005150621761491824),\n",
       " ('FIREARM_FLAG_Y', 0.004871633557411491),\n",
       " ('SEARCH_BASIS_CONSENT_FLAG_Y', 0.004718392947659005),\n",
       " ('KNIFE_CUTTER_FLAG_Y', 0.004101768976549036),\n",
       " ('SEARCH_BASIS_CONSENT_FLAG_(null)', 0.0039809653229125955),\n",
       " ('SUMMONS_ISSUED_FLAG_Y', 0.0032390149537789657),\n",
       " ('STOP_DURATION_MINUTES', 0.0029447931896046807),\n",
       " ('SEARCH_BASIS_HARD_OBJECT_FLAG_Y', 0.0028034038790294446),\n",
       " ('SUMMONS_ISSUED_FLAG_N', 0.00260895440071093),\n",
       " ('SUSPECT_ARREST_OFFENSE_MENACING', 0.0024604180062915895),\n",
       " ('SUSPECTED_CRIME_DESCRIPTION_CPW', 0.002365925867649617),\n",
       " ('SEARCH_BASIS_OTHER_FLAG_(null)', 0.002135844128657994),\n",
       " ('SEARCH_BASIS_OTHER_FLAG_Y', 0.001941982898312698),\n",
       " ('SUSPECT_HEIGHT', 0.0018739896619556296),\n",
       " ('SUSPECT_WEIGHT', 0.00165123152863761),\n",
       " ('SUSPECT_ARREST_OFFENSE_UNAUTHORIZED USE OF A VEHICLE',\n",
       "  0.0014443347310053019),\n",
       " ('SUSPECTED_CRIME_DESCRIPTION_CRIMINAL TRESPASS', 0.0014386115744266534),\n",
       " ('OBSERVED_DURATION_MINUTES', 0.0013733532953792984),\n",
       " ('FRISKED_FLAG_N', 0.0012955934626313298),\n",
       " ('PHYSICAL_FORCE_HANDCUFF_SUSPECT_FLAG_Y', 0.001276455009281077),\n",
       " ('PHYSICAL_FORCE_HANDCUFF_SUSPECT_FLAG_(null)', 0.0012234240521836405),\n",
       " ('SUSPECT_ARREST_OFFENSE_CRIMINAL POSSESSION OF MARIHUANA',\n",
       "  0.0012082967242217847),\n",
       " ('SUSPECTS_ACTIONS_DECRIPTION_FLAG_(null)', 0.0010488429021774297),\n",
       " ('SEARCH_BASIS_HARD_OBJECT_FLAG_(null)', 0.0010292740372631092),\n",
       " ('FRISKED_FLAG_Y', 0.0010231622437084594),\n",
       " ('SUSPECTS_ACTIONS_DECRIPTION_FLAG_Y', 0.0010022013490958877),\n",
       " ('SUSPECTED_CRIME_DESCRIPTION_ASSAULT', 0.000984235061122491),\n",
       " ('SEARCH_BASIS_ADMISSION_FLAG_Y', 0.000963920401057878),\n",
       " ('SUSPECTED_CRIME_DESCRIPTION_PETIT LARCENY', 0.0009226114514134384),\n",
       " ('SUSPECTED_CRIME_DESCRIPTION_ROBBERY', 0.0008245707567520558),\n",
       " ('SEARCH_BASIS_ADMISSION_FLAG_(null)', 0.000808021834487091),\n",
       " ('age_bin_unknown', 0.0007852189803830211),\n",
       " ('SUSPECTS_ACTIONS_CONCEALED_POSSESSION_WEAPON_FLAG_Y',\n",
       "  0.0007487588049079056),\n",
       " ('STOP_WAS_INITIATED_Based on Radio Run', 0.0007428681950484454),\n",
       " ('SUSPECTS_ACTIONS_CONCEALED_POSSESSION_WEAPON_FLAG_(null)',\n",
       "  0.0007337295728360242),\n",
       " ('age_bin_over_30', 0.0006749289785928841),\n",
       " ('SHIELD_IDENTIFIES_OFFICER_FLAG_(null)', 0.0006727274965934787),\n",
       " ('SUSPECT_ARREST_OFFENSE_CPSP', 0.0006436251504998576),\n",
       " ('STOP_WAS_INITIATED_Based on Self Initiated', 0.0006237547803059572),\n",
       " ('OTHER_PERSON_STOPPED_FLAG_Y', 0.0005955287753777147),\n",
       " ('JURISDICTION_DESCRIPTION_Housing', 0.0005938570480980405),\n",
       " ('SUSPECTS_ACTIONS_PROXIMITY_TO_SCENE_FLAG_Y', 0.0005876652783638688),\n",
       " ('OFFICER_IN_UNIFORM_FLAG_N', 0.0005662766801134979),\n",
       " ('PHYSICAL_FORCE_VERBAL_INSTRUCTION_FLAG_Y', 0.0005614497777923415),\n",
       " ('STOP_WAS_INITIATED_Based on C/W on Scene', 0.0005531853817522364),\n",
       " ('SUSPECT_BODY_BUILD_TYPE_THN', 0.0005416852138356676),\n",
       " ('BACKROUND_CIRCUMSTANCES_VIOLENT_CRIME_FLAG_(null)', 0.0005380762828674016),\n",
       " ('VERBAL_IDENTIFIES_OFFICER_FLAG_(null)', 0.0005355633096269655),\n",
       " ('SUSPECT_RACE_DESCRIPTION_BLACK', 0.0005247049446053218),\n",
       " ('BACKROUND_CIRCUMSTANCES_VIOLENT_CRIME_FLAG_Y', 0.0005101143417319844),\n",
       " ('VERBAL_IDENTIFIES_OFFICER_FLAG_V', 0.0005074501449212379),\n",
       " ('OTHER_PERSON_STOPPED_FLAG_N', 0.0005036207829773886),\n",
       " ('JURISDICTION_DESCRIPTION_PSB', 0.0004987022160995349),\n",
       " ('STOP_LOCATION_SECTOR_CODE_C', 0.0004939958136820136),\n",
       " ('OFFICER_EXPLAINED_STOP_FLAG_N', 0.0004724309340883787),\n",
       " ('JURISDICTION_DESCRIPTION_(null)', 0.00047212435852974103),\n",
       " ('SUSPECT_RACE_DESCRIPTION_WHITE HISPANIC', 0.0004701799646336677),\n",
       " ('SUSPECTS_ACTIONS_OTHER_FLAG_(null)', 0.00046648958142696826),\n",
       " ('PHYSICAL_FORCE_VERBAL_INSTRUCTION_FLAG_(null)', 0.00046597327011248225),\n",
       " ('SUSPECTS_ACTIONS_OTHER_FLAG_Y', 0.0004555785716154014),\n",
       " ('age_bin_18_30', 0.0004466543245146563),\n",
       " ('STOP_LOCATION_BORO_NAME_MANHATTAN', 0.00043960193477143335),\n",
       " ('SHIELD_IDENTIFIES_OFFICER_FLAG_S', 0.00043951431001315047),\n",
       " ('SUSPECTS_ACTIONS_PROXIMITY_TO_SCENE_FLAG_(null)', 0.000428731028462782),\n",
       " ('STOP_LOCATION_BORO_NAME_BRONX', 0.0004141299707782692),\n",
       " ('SUPERVISING_OFFICER_RANK_SGT', 0.0004114281201529529),\n",
       " ('STOP_LOCATION_SECTOR_CODE_B', 0.0004057147719169388),\n",
       " ('STOP_LOCATION_PATROL_BORO_NAME_PBMN', 0.0004055266689456612),\n",
       " ('age_bin_0_17', 0.0004031475289480511),\n",
       " ('STOP_LOCATION_BORO_NAME_BROOKLYN', 0.0004030418785961083),\n",
       " ('SUSPECT_ARREST_OFFENSE_CRIMINAL SALE OF CONTROLLED SUBSTANCE',\n",
       "  0.0003930482374591446),\n",
       " ('SUSPECT_BODY_BUILD_TYPE_MED', 0.0003918148936001838),\n",
       " ('STOP_LOCATION_PATROL_BORO_NAME_PBBS', 0.0003824213888703916),\n",
       " ('DAY2_Friday', 0.0003805561755931272),\n",
       " ('DAY2_Wednesday', 0.00037516692567214047),\n",
       " ('DAY2_Tuesday', 0.0003610081687888626),\n",
       " ('PHYSICAL_FORCE_RESTRAINT_USED_FLAG_(null)', 0.0003587974466489847),\n",
       " ('SUSPECT_HAIR_COLOR_BLK', 0.00035413347128980034),\n",
       " ('STOP_LOCATION_SECTOR_CODE_A', 0.00035192817700243945),\n",
       " ('STOP_LOCATION_PATROL_BORO_NAME_PBBX', 0.0003514524495965644),\n",
       " ('PHYSICAL_FORCE_RESTRAINT_USED_FLAG_Y', 0.0003477946305176419),\n",
       " ('SUSPECT_HAIR_COLOR_BRO', 0.00034532828279444135),\n",
       " ('STOP_LOCATION_PRECINCT_19', 0.0003423835537577325),\n",
       " ('SUSPECT_RACE_DESCRIPTION_WHITE', 0.00034093073008338484),\n",
       " ('ISSUING_OFFICER_RANK_POM', 0.0003275787730062784),\n",
       " ('SUSPECTED_CRIME_DESCRIPTION_OTHER', 0.000323367128998204),\n",
       " ('MONTH2_December', 0.0003180183580457945),\n",
       " ('DAY2_Saturday', 0.00031574706422954785),\n",
       " ('OTHER_WEAPON_FLAG_Y', 0.00031046042139064214),\n",
       " ('OFFICER_EXPLAINED_STOP_FLAG_Y', 0.0003053277937802635),\n",
       " ('MONTH2_January', 0.0002959884073656231),\n",
       " ('SUSPECT_EYE_COLOR_BRO', 0.0002908919822077759),\n",
       " ('SUSPECT_EYE_COLOR_BLK', 0.0002863428119601525),\n",
       " ('DAY2_Thursday', 0.0002861028187497254),\n",
       " ('STOP_LOCATION_PRECINCT_114', 0.00028538159861617185),\n",
       " ('MONTH2_April', 0.0002839293513074412),\n",
       " ('OFFICER_IN_UNIFORM_FLAG_Y', 0.00028302076368088154),\n",
       " ('STOP_LOCATION_BORO_NAME_QUEENS', 0.00028044195849069126),\n",
       " ('STOP_LOCATION_PATROL_BORO_NAME_PBMS', 0.00027870971989924577),\n",
       " ('SUSPECT_ARREST_OFFENSE_MAKING GRAFFITI', 0.00027689064951937943),\n",
       " ('MONTH2_February', 0.0002686852722580477),\n",
       " ('SUPERVISING_OFFICER_RANK_LT', 0.0002647864563643522),\n",
       " ('MONTH2_July', 0.000259481326513218),\n",
       " ('SUSPECT_ARREST_OFFENSE_GRAND LARCENY AUTO', 0.0002590599165538171),\n",
       " ('SUSPECTED_CRIME_DESCRIPTION_CRIMINAL POSSESSION OF MARIHUANA',\n",
       "  0.00025678340253442),\n",
       " ('SUSPECT_ARREST_OFFENSE_CRIMINAL POSSESSION OF FORGED INSTRUMENT',\n",
       "  0.00025456290787200187),\n",
       " ('STOP_LOCATION_SECTOR_CODE_D', 0.0002541977034372174),\n",
       " ('SUSPECT_EYE_COLOR_ZZZ', 0.00024842652488666847),\n",
       " ('DAY2_Monday', 0.0002471926579835487),\n",
       " ('OTHER_WEAPON_FLAG_(null)', 0.00024702427487323993),\n",
       " ('STOP_LOCATION_PATROL_BORO_NAME_PBBN', 0.0002395183455787552),\n",
       " ('SUSPECT_BODY_BUILD_TYPE_HEA', 0.00023601618322518093),\n",
       " ('STOP_LOCATION_PRECINCT_20', 0.00023588694892947375),\n",
       " ('STOP_LOCATION_PRECINCT_109', 0.00023091884231485956),\n",
       " ('ISSUING_OFFICER_RANK_POF', 0.00022951769220953236),\n",
       " ('STOP_LOCATION_PRECINCT_107', 0.00022869221889872996),\n",
       " ('MONTH2_September', 0.0002249363267579924),\n",
       " ('STOP_LOCATION_PRECINCT_72', 0.0002189126868659994),\n",
       " ('STOP_LOCATION_PATROL_BORO_NAME_PBQN', 0.00021137392338514035),\n",
       " ('MONTH2_October', 0.00021082856580368836),\n",
       " ('STOP_LOCATION_PATROL_BORO_NAME_PBQS', 0.0002074897028692575),\n",
       " ('MONTH2_May', 0.00020398740527671056),\n",
       " ('MONTH2_June', 0.00020237780715099324),\n",
       " ('SUPERVISING_ACTION_CORRESPONDING_ACTIVITY_LOG_ENTRY_REVIEWED_Y',\n",
       "  0.00019825128624721987),\n",
       " ('STOP_LOCATION_PRECINCT_43', 0.000197186235114407),\n",
       " ('SUSPECTS_ACTIONS_CASING_FLAG_(null)', 0.00019613043918000127),\n",
       " ('SUSPECT_SEX_MALE', 0.00019466286741107),\n",
       " ('SUSPECT_RACE_DESCRIPTION_BLACK HISPANIC', 0.00019458171011016543),\n",
       " ('SEARCH_BASIS_OUTLINE_FLAG_Y', 0.00019330588935891578),\n",
       " ('MONTH2_March', 0.0001922521279924859),\n",
       " ('BACKROUND_CIRCUMSTANCES_SUSPECT_KNOWN_TO_CARRY_WEAPON_FLAG_Y',\n",
       "  0.00019035654327829646),\n",
       " ('DAY2_Sunday', 0.00018873144136933554),\n",
       " ('STOP_LOCATION_SECTOR_CODE_E', 0.00018254336294392265),\n",
       " ('SEARCH_BASIS_OUTLINE_FLAG_(null)', 0.00017961148981896069),\n",
       " ('SUSPECTED_CRIME_DESCRIPTION_CRIMINAL MISCHIEF', 0.00017206171866584308),\n",
       " ('MONTH2_November', 0.00017181864003989222),\n",
       " ('MONTH2_August', 0.00016716683202410982),\n",
       " ('STOP_LOCATION_PRECINCT_110', 0.00016172054964867905),\n",
       " ('SUSPECT_RACE_DESCRIPTION_ASIAN / PACIFIC ISLANDER', 0.00016127701486779515),\n",
       " ('SUSPECT_SEX_FEMALE', 0.00016085882908542705),\n",
       " ('SUPERVISING_ACTION_CORRESPONDING_ACTIVITY_LOG_ENTRY_REVIEWED_N',\n",
       "  0.00015588861907522294),\n",
       " ('STOP_LOCATION_PRECINCT_61', 0.00014942207232257338),\n",
       " ('STOP_LOCATION_PRECINCT_67', 0.00014814908351893654),\n",
       " ('STOP_LOCATION_PRECINCT_52', 0.00014478569034264373),\n",
       " ('SUSPECT_ARREST_OFFENSE_RECKLESS ENDANGERMENT', 0.00014184084382264558),\n",
       " ('STOP_LOCATION_PRECINCT_10', 0.00013789919356013765),\n",
       " ('SUSPECTED_CRIME_DESCRIPTION_UNAUTHORIZED USE OF A VEHICLE',\n",
       "  0.0001361109724988468),\n",
       " ('SUSPECTS_ACTIONS_IDENTIFY_CRIME_PATTERN_FLAG_Y', 0.00013299315480630434),\n",
       " ('STOP_LOCATION_PRECINCT_83', 0.00012945873049922363),\n",
       " ('STOP_LOCATION_PRECINCT_13', 0.0001278488362745089),\n",
       " ('STOP_LOCATION_PRECINCT_75', 0.00012558666957293793),\n",
       " ('STOP_LOCATION_PRECINCT_44', 0.0001247160360518499),\n",
       " ('SUSPECT_HAIR_COLOR_GRY', 0.00012168679162380759),\n",
       " ('ID_CARD_IDENTIFIES_OFFICER_FLAG_(null)', 0.00012053336737213878),\n",
       " ('STOP_LOCATION_PRECINCT_73', 0.0001154971058465672),\n",
       " ('STOP_LOCATION_PRECINCT_105', 0.00011475086100285939),\n",
       " ('SUSPECT_HAIR_COLOR_BLN', 0.0001092277132842041),\n",
       " ('JURISDICTION_DESCRIPTION_Transit', 0.00010528372145987081),\n",
       " ('JURISDICTION_DESCRIPTION_Trespass Affifavit Program',\n",
       "  0.00010525914232095846),\n",
       " ('STOP_LOCATION_PRECINCT_26', 0.00010461055383167544),\n",
       " ('STOP_LOCATION_BORO_NAME_STATEN ISLAND', 0.00010294714628976168),\n",
       " ('SUSPECTED_CRIME_DESCRIPTION_GRAND LARCENY', 0.00010140936805230076),\n",
       " ('STOP_LOCATION_PRECINCT_69', 0.00010084432218605877),\n",
       " ('SUSPECTS_ACTIONS_CASING_FLAG_Y', 0.00010043525377091456),\n",
       " ('PHYSICAL_FORCE_DRAW_POINT_FIREARM_FLAG_(null)', 9.959253724581118e-05),\n",
       " ('STOP_LOCATION_PRECINCT_40', 9.887970410977852e-05),\n",
       " ('ID_CARD_IDENTIFIES_OFFICER_FLAG_I', 9.775826472963617e-05),\n",
       " ('STOP_LOCATION_PRECINCT_112', 9.613500545539276e-05),\n",
       " ('STOP_LOCATION_PRECINCT_24', 9.595423342323092e-05),\n",
       " ('SUSPECT_BODY_BUILD_TYPE_U', 9.575868584980081e-05),\n",
       " ('SUSPECTS_ACTIONS_DRUG_TRANSACTIONS_FLAG_(null)', 9.520991812970748e-05),\n",
       " ('STOP_LOCATION_PRECINCT_42', 9.431348005649625e-05),\n",
       " ('STOP_LOCATION_PRECINCT_23', 9.31981084127646e-05),\n",
       " ('STOP_LOCATION_PRECINCT_49', 9.202240440710163e-05),\n",
       " ('STOP_LOCATION_PRECINCT_63', 9.161350737450964e-05),\n",
       " ('BACKROUND_CIRCUMSTANCES_SUSPECT_KNOWN_TO_CARRY_WEAPON_FLAG_(null)',\n",
       "  9.117973699178204e-05),\n",
       " ('SUSPECTED_CRIME_DESCRIPTION_MAKING GRAFFITI', 9.086334820770159e-05),\n",
       " ('SUSPECT_HAIR_COLOR_XXX', 8.821606096987517e-05),\n",
       " ('SUSPECT_EYE_COLOR_BLU', 8.690077231049751e-05),\n",
       " ('SUSPECTED_CRIME_DESCRIPTION_BURGLARY', 8.599642769695776e-05),\n",
       " ('STOP_LOCATION_PRECINCT_102', 8.29958861894911e-05),\n",
       " ('STOP_LOCATION_PRECINCT_6', 8.08548393013229e-05),\n",
       " ('ISSUING_OFFICER_RANK_DTS', 8.057169773772148e-05),\n",
       " ('PHYSICAL_FORCE_OTHER_FLAG_(null)', 7.888361385609357e-05),\n",
       " ('STOP_LOCATION_PRECINCT_25', 7.397819417888074e-05),\n",
       " ('PHYSICAL_FORCE_DRAW_POINT_FIREARM_FLAG_Y', 7.385674488075032e-05),\n",
       " ('SUSPECTED_CRIME_DESCRIPTION_CRIMINAL SALE OF CONTROLLED SUBSTANCE',\n",
       "  7.380716722144308e-05),\n",
       " ('SUSPECTS_ACTIONS_DRUG_TRANSACTIONS_FLAG_Y', 7.339313616866168e-05),\n",
       " ('STOP_LOCATION_PRECINCT_76', 7.134014373738832e-05),\n",
       " ('STOP_LOCATION_PRECINCT_108', 7.078880143318943e-05),\n",
       " ('SUSPECTS_ACTIONS_IDENTIFY_CRIME_PATTERN_FLAG_(null)',\n",
       "  7.066258069144826e-05),\n",
       " ('STOP_LOCATION_PATROL_BORO_NAME_PBSI', 6.889825742426829e-05),\n",
       " ('SUSPECTED_CRIME_DESCRIPTION_CPSP', 6.710209801853239e-05),\n",
       " ('ISSUING_OFFICER_RANK_SGT', 6.543560782564889e-05),\n",
       " ('STOP_LOCATION_PRECINCT_46', 6.404641892579387e-05),\n",
       " ('SUPERVISING_OFFICER_RANK_POM', 6.210267824119581e-05),\n",
       " ('SUSPECTED_CRIME_DESCRIPTION_MENACING', 6.207378347603939e-05),\n",
       " ('SUSPECTED_CRIME_DESCRIPTION_RECKLESS ENDANGERMENT', 6.011973421313784e-05),\n",
       " ('STOP_LOCATION_PRECINCT_103', 5.9062498048971136e-05),\n",
       " ('STOP_LOCATION_PRECINCT_113', 5.894529694290797e-05),\n",
       " ('STOP_LOCATION_PRECINCT_30', 5.777432579461207e-05),\n",
       " ('SUSPECTED_CRIME_DESCRIPTION_GRAND LARCENY AUTO', 5.7246239156673354e-05),\n",
       " ('STOP_LOCATION_PRECINCT_18', 5.724520555116403e-05),\n",
       " ('SUSPECTED_CRIME_DESCRIPTION_THEFT OF SERVICES', 5.6584505799749556e-05),\n",
       " ('STOP_LOCATION_PRECINCT_115', 5.352783023434046e-05),\n",
       " ('STOP_LOCATION_PRECINCT_28', 5.260196215043333e-05),\n",
       " ('STOP_LOCATION_PRECINCT_90', 5.148801363359057e-05),\n",
       " ('STOP_LOCATION_PRECINCT_70', 5.14114250755537e-05),\n",
       " ('SUPERVISING_OFFICER_RANK_SDS', 4.9893661144567856e-05),\n",
       " ('SUSPECTS_ACTIONS_LOOKOUT_FLAG_(null)', 4.866703231408311e-05),\n",
       " ('ISSUING_OFFICER_RANK_LT', 4.801365909088397e-05),\n",
       " ('SUSPECT_EYE_COLOR_HAZ', 4.800465454737362e-05),\n",
       " ('STOP_LOCATION_PRECINCT_48', 4.7879817047235905e-05),\n",
       " ('SUSPECT_HAIR_COLOR_ZZZ', 4.744619169983722e-05),\n",
       " ('SUSPECT_HAIR_COLOR_BLD', 4.6486888447571096e-05),\n",
       " ('STOP_LOCATION_PRECINCT_84', 4.646633896928318e-05),\n",
       " ('STOP_LOCATION_PRECINCT_33', 4.4481272771825204e-05),\n",
       " ('ISSUING_OFFICER_RANK_DT3', 4.433682164880073e-05),\n",
       " ('STOP_LOCATION_PRECINCT_121', 4.309777629243343e-05),\n",
       " ('STOP_LOCATION_PRECINCT_100', 4.2951367582453505e-05),\n",
       " ('SUSPECT_EYE_COLOR_MUL', 4.241742342777408e-05),\n",
       " ('PHYSICAL_FORCE_OTHER_FLAG_Y', 4.2068701967290994e-05),\n",
       " ('STOP_LOCATION_PRECINCT_106', 4.0771456831163115e-05),\n",
       " ('STOP_LOCATION_PRECINCT_122', 4.0684155981652276e-05),\n",
       " ('STOP_LOCATION_PRECINCT_41', 3.932062969580198e-05),\n",
       " ('STOP_LOCATION_PRECINCT_104', 3.906689819614993e-05),\n",
       " ('STOP_LOCATION_PRECINCT_32', 3.902080899738313e-05),\n",
       " ('SUSPECT_HAIR_COLOR_RED', 3.8072480888035756e-05),\n",
       " ('STOP_LOCATION_PRECINCT_34', 3.6137890968104704e-05),\n",
       " ('SUSPECTS_ACTIONS_LOOKOUT_FLAG_Y', 3.596036748030353e-05),\n",
       " ('STOP_LOCATION_PRECINCT_120', 3.2041250527892526e-05),\n",
       " ('STOP_LOCATION_PRECINCT_81', 3.1957065314183314e-05),\n",
       " ('SUSPECT_ARREST_OFFENSE_FORCIBLE TOUCHING', 3.179738090833001e-05),\n",
       " ('STOP_LOCATION_SECTOR_CODE_G', 3.032580364425251e-05),\n",
       " ('SUPERVISING_OFFICER_RANK_LSA', 2.9794099664758634e-05),\n",
       " ('STOP_LOCATION_PRECINCT_78', 2.96693198026181e-05),\n",
       " ('PHYSICAL_FORCE_CEW_FLAG_Y', 2.886712526271409e-05),\n",
       " ('SUSPECT_BODY_BUILD_TYPE_(null)', 2.8739386393960333e-05),\n",
       " ('SUPERVISING_OFFICER_RANK_CPT', 2.844190753156307e-05),\n",
       " ('SUSPECT_EYE_COLOR_GRN', 2.8307271156165218e-05),\n",
       " ('SUSPECT_RACE_DESCRIPTION_(null)', 2.8219496763448694e-05),\n",
       " ('SUSPECT_EYE_COLOR_(null)', 2.8152029167425786e-05),\n",
       " ('SUSPECT_SEX_(null)', 2.8014854936489902e-05),\n",
       " ('STOP_LOCATION_PRECINCT_62', 2.668267928605853e-05),\n",
       " ('STOP_LOCATION_SECTOR_CODE_N', 2.533409992609621e-05),\n",
       " ('STOP_LOCATION_PRECINCT_47', 2.5279801762343114e-05),\n",
       " ('SUSPECTED_CRIME_DESCRIPTION_RAPE', 2.4638547809113918e-05),\n",
       " ('STOP_LOCATION_PRECINCT_60', 2.427887563145731e-05),\n",
       " ('SUSPECTED_CRIME_DESCRIPTION_CRIMINAL POSSESSION OF CONTROLLED SUBSTANCE',\n",
       "  2.3425274183986523e-05),\n",
       " ('SUSPECT_ARREST_OFFENSE_MURDER', 2.3400948836136623e-05),\n",
       " ('SUSPECT_HAIR_COLOR_(null)', 2.2979122886097506e-05),\n",
       " ('STOP_LOCATION_PRECINCT_79', 2.2847421181309003e-05),\n",
       " ('SUSPECT_HAIR_COLOR_WHI', 2.0864844934107854e-05),\n",
       " ('STOP_LOCATION_PRECINCT_9', 2.0399868023787037e-05),\n",
       " ('ISSUING_OFFICER_RANK_DT2', 1.9034142613677647e-05),\n",
       " ('SUPERVISING_OFFICER_RANK_SSA', 1.825219494718814e-05),\n",
       " ('STOP_LOCATION_SECTOR_CODE_H', 1.7030985826909856e-05),\n",
       " ('STOP_LOCATION_SECTOR_CODE_M', 1.6797093944732207e-05),\n",
       " ('STOP_LOCATION_PRECINCT_71', 1.6475303194812824e-05),\n",
       " ('STOP_LOCATION_PRECINCT_17', 1.583081485800703e-05),\n",
       " ('STOP_LOCATION_PRECINCT_101', 1.541605607387392e-05),\n",
       " ('STOP_LOCATION_SECTOR_CODE_(null)', 1.3955302832518257e-05),\n",
       " ('STOP_LOCATION_SECTOR_CODE_F', 1.2896624417219343e-05),\n",
       " ('STOP_LOCATION_PRECINCT_7', 1.2874829026659683e-05),\n",
       " ('STOP_LOCATION_PRECINCT_77', 1.2242865772363571e-05),\n",
       " ('STOP_LOCATION_PRECINCT_45', 9.753137539898166e-06),\n",
       " ('STOP_LOCATION_SECTOR_CODE_I', 9.649585533158154e-06),\n",
       " ('STOP_LOCATION_PRECINCT_22', 7.318445456169557e-06),\n",
       " ('STOP_LOCATION_PRECINCT_14', 6.692844767625573e-06),\n",
       " ('STOP_LOCATION_PRECINCT_88', 6.420230722861303e-06),\n",
       " ('STOP_LOCATION_PRECINCT_94', 5.8512763129544145e-06),\n",
       " ('STOP_LOCATION_PRECINCT_1', 5.48048380665119e-06),\n",
       " ('SUSPECTED_CRIME_DESCRIPTION_FORCIBLE TOUCHING', 4.5044505466611725e-06),\n",
       " ('STOP_LOCATION_PRECINCT_111', 4.156449720194835e-06),\n",
       " ('SUSPECTED_CRIME_DESCRIPTION_CRIMINAL POSSESSION OF FORGED INSTRUMENT',\n",
       "  4.067643386158865e-06),\n",
       " ('SUSPECT_ARREST_OFFENSE_PROSTITUTION', 3.648929324816786e-06),\n",
       " ('ISSUING_OFFICER_RANK_SSA', 2.7269872939038014e-06),\n",
       " ('STOP_LOCATION_PRECINCT_5', 2.1886090735493736e-06),\n",
       " ('STOP_LOCATION_SECTOR_CODE_J', 1.3339153218566648e-06),\n",
       " ('SUSPECTED_CRIME_DESCRIPTION_AUTO STRIPPIG', 7.617222790573489e-07),\n",
       " ('ISSUING_OFFICER_RANK_DI', 0.0),\n",
       " ('ISSUING_OFFICER_RANK_DT1', 0.0),\n",
       " ('ISSUING_OFFICER_RANK_LSA', 0.0),\n",
       " ('SUPERVISING_OFFICER_RANK_DI', 0.0),\n",
       " ('SUPERVISING_OFFICER_RANK_LCD', 0.0),\n",
       " ('SUPERVISING_OFFICER_RANK_POF', 0.0),\n",
       " ('SUSPECTED_CRIME_DESCRIPTION_CRIMINAL SALE OF MARIHUANA', 0.0),\n",
       " ('SUSPECTED_CRIME_DESCRIPTION_MURDER', 0.0),\n",
       " ('SUSPECTED_CRIME_DESCRIPTION_PROSTITUTION', 0.0),\n",
       " ('SUSPECTED_CRIME_DESCRIPTION_TERRORISM', 0.0),\n",
       " ('SUSPECT_ARREST_OFFENSE_AUTO STRIPPIG', 0.0),\n",
       " ('SUSPECT_ARREST_OFFENSE_CRIMINAL SALE OF MARIHUANA', 0.0),\n",
       " ('SUSPECT_ARREST_OFFENSE_RAPE', 0.0),\n",
       " ('SUSPECT_ARREST_OFFENSE_TERRORISM', 0.0),\n",
       " ('SUSPECT_ARREST_OFFENSE_THEFT OF SERVICES', 0.0),\n",
       " ('PHYSICAL_FORCE_CEW_FLAG_(null)', 0.0),\n",
       " ('PHYSICAL_FORCE_OC_SPRAY_USED_FLAG_(null)', 0.0),\n",
       " ('PHYSICAL_FORCE_OC_SPRAY_USED_FLAG_Y', 0.0),\n",
       " ('PHYSICAL_FORCE_WEAPON_IMPACT_FLAG_(null)', 0.0),\n",
       " ('PHYSICAL_FORCE_WEAPON_IMPACT_FLAG_Y', 0.0),\n",
       " ('SUSPECT_RACE_DESCRIPTION_AMERICAN INDIAN/ALASKAN NATIVE', 0.0),\n",
       " ('SUSPECT_BODY_BUILD_TYPE_XXX', 0.0),\n",
       " ('SUSPECT_EYE_COLOR_GRY', 0.0),\n",
       " ('SUSPECT_EYE_COLOR_OTH', 0.0),\n",
       " ('SUSPECT_HAIR_COLOR_GRN', 0.0),\n",
       " ('SUSPECT_HAIR_COLOR_ORG', 0.0),\n",
       " ('SUSPECT_HAIR_COLOR_PLE', 0.0),\n",
       " ('SUSPECT_HAIR_COLOR_PNK', 0.0),\n",
       " ('SUSPECT_HAIR_COLOR_SDY', 0.0),\n",
       " ('STOP_LOCATION_PRECINCT_50', 0.0),\n",
       " ('STOP_LOCATION_PRECINCT_66', 0.0),\n",
       " ('STOP_LOCATION_PRECINCT_68', 0.0),\n",
       " ('STOP_LOCATION_PRECINCT_123', 0.0),\n",
       " ('STOP_LOCATION_SECTOR_CODE_1', 0.0),\n",
       " ('STOP_LOCATION_SECTOR_CODE_K', 0.0)]"
      ]
     },
     "execution_count": 260,
     "metadata": {},
     "output_type": "execute_result"
    }
   ],
   "source": [
    "sorted(tup, key=lambda x: x[1], reverse=True)"
   ]
  },
  {
   "cell_type": "markdown",
   "metadata": {},
   "source": [
    "## XGBoost "
   ]
  },
  {
   "cell_type": "code",
   "execution_count": 329,
   "metadata": {},
   "outputs": [],
   "source": [
    "xgb_clf = XGBClassifier()\n",
    "param_grid = {'learning_rate': [0.01],\n",
    "             'max_depth': [2, 5, 10],\n",
    "             'min_child_weight': [1, 5, 10],\n",
    "             'subsample': [0.5, 0.7],\n",
    "             'n_estimators': [10, 50, 100]}"
   ]
  },
  {
   "cell_type": "code",
   "execution_count": 330,
   "metadata": {},
   "outputs": [
    {
     "data": {
      "text/plain": [
       "GridSearchCV(cv=5, error_score='raise-deprecating',\n",
       "             estimator=XGBClassifier(base_score=0.5, booster='gbtree',\n",
       "                                     colsample_bylevel=1, colsample_bynode=1,\n",
       "                                     colsample_bytree=1, gamma=0,\n",
       "                                     learning_rate=0.1, max_delta_step=0,\n",
       "                                     max_depth=3, min_child_weight=1,\n",
       "                                     missing=None, n_estimators=100, n_jobs=1,\n",
       "                                     nthread=None, objective='binary:logistic',\n",
       "                                     random_state=0, reg_alpha=0, reg_lambda=1,\n",
       "                                     scale_pos_weight=1, seed=None, silent=None,\n",
       "                                     subsample=1, verbosity=1),\n",
       "             iid='warn', n_jobs=None,\n",
       "             param_grid={'learning_rate': [0.01], 'max_depth': [2, 5, 10],\n",
       "                         'min_child_weight': [1, 5, 10],\n",
       "                         'n_estimators': [10, 50, 100],\n",
       "                         'subsample': [0.5, 0.7]},\n",
       "             pre_dispatch='2*n_jobs', refit=True, return_train_score=False,\n",
       "             scoring=None, verbose=0)"
      ]
     },
     "execution_count": 330,
     "metadata": {},
     "output_type": "execute_result"
    }
   ],
   "source": [
    "grid_clf = GridSearchCV(xgb_clf, param_grid, cv = 5)\n",
    "grid_clf.fit(X_train_new, y_train)"
   ]
  },
  {
   "cell_type": "code",
   "execution_count": 331,
   "metadata": {},
   "outputs": [
    {
     "data": {
      "text/plain": [
       "{'learning_rate': 0.01,\n",
       " 'max_depth': 10,\n",
       " 'min_child_weight': 1,\n",
       " 'n_estimators': 50,\n",
       " 'subsample': 0.7}"
      ]
     },
     "execution_count": 331,
     "metadata": {},
     "output_type": "execute_result"
    }
   ],
   "source": [
    "grid_clf.best_params_"
   ]
  },
  {
   "cell_type": "code",
   "execution_count": 333,
   "metadata": {},
   "outputs": [
    {
     "data": {
      "text/plain": [
       "XGBClassifier(base_score=0.5, booster='gbtree', colsample_bylevel=1,\n",
       "              colsample_bynode=1, colsample_bytree=1, gamma=0,\n",
       "              learning_rate=0.01, max_delta_step=0, max_depth=10,\n",
       "              min_child_weight=1, missing=None, n_estimators=50, n_jobs=1,\n",
       "              nthread=None, objective='binary:logistic', random_state=0,\n",
       "              reg_alpha=0, reg_lambda=1, scale_pos_weight=1, seed=None,\n",
       "              silent=None, subsample=0.7, verbosity=1)"
      ]
     },
     "execution_count": 333,
     "metadata": {},
     "output_type": "execute_result"
    }
   ],
   "source": [
    "final_xgb = XGBClassifier(learning_rate = 0.01, max_depth = 10, min_child_weight = 1, n_estimators = 50, subsample = 0.7)\n",
    "final_xgb.fit(X_train_new, y_train)"
   ]
  },
  {
   "cell_type": "code",
   "execution_count": 334,
   "metadata": {},
   "outputs": [
    {
     "name": "stdout",
     "output_type": "stream",
     "text": [
      "[[5797  148]\n",
      " [ 575 1859]]\n",
      "              precision    recall  f1-score   support\n",
      "\n",
      "           N       0.91      0.98      0.94      5945\n",
      "           Y       0.93      0.76      0.84      2434\n",
      "\n",
      "    accuracy                           0.91      8379\n",
      "   macro avg       0.92      0.87      0.89      8379\n",
      "weighted avg       0.91      0.91      0.91      8379\n",
      "\n"
     ]
    }
   ],
   "source": [
    "xgb_train_pred = final_xgb.predict(X_train_new)\n",
    "print(confusion_matrix(y_train, xgb_train_pred))\n",
    "print(classification_report(y_train, xgb_train_pred))"
   ]
  },
  {
   "cell_type": "markdown",
   "metadata": {},
   "source": [
    "## Support Vector Machine"
   ]
  },
  {
   "cell_type": "code",
   "execution_count": 303,
   "metadata": {},
   "outputs": [
    {
     "name": "stderr",
     "output_type": "stream",
     "text": [
      "/opt/anaconda3/envs/learn-env/lib/python3.6/site-packages/sklearn/model_selection/_split.py:1978: FutureWarning: The default value of cv will change from 3 to 5 in version 0.22. Specify it explicitly to silence this warning.\n",
      "  warnings.warn(CV_WARNING, FutureWarning)\n"
     ]
    },
    {
     "data": {
      "text/plain": [
       "GridSearchCV(cv='warn', error_score='raise-deprecating',\n",
       "             estimator=SVC(C=1.0, cache_size=200, class_weight=None, coef0=0.0,\n",
       "                           decision_function_shape='ovr', degree=3,\n",
       "                           gamma='auto', kernel='rbf', max_iter=10000,\n",
       "                           probability=False, random_state=None, shrinking=True,\n",
       "                           tol=0.001, verbose=False),\n",
       "             iid='warn', n_jobs=None, param_grid={'C': [0.01, 0.05, 0.1, 0.15]},\n",
       "             pre_dispatch='2*n_jobs', refit=True, return_train_score=False,\n",
       "             scoring=None, verbose=0)"
      ]
     },
     "execution_count": 303,
     "metadata": {},
     "output_type": "execute_result"
    }
   ],
   "source": [
    "svc = SVC(kernel = 'rbf', gamma = 'auto', max_iter = 10000)\n",
    "param_grid = {'C': [0.01, 0.05, 0.1, 0.15]}\n",
    "svc_grid = GridSearchCV(estimator = svc, param_grid = param_grid)\n",
    "svc_grid.fit(X_train_new, y_train)"
   ]
  },
  {
   "cell_type": "code",
   "execution_count": 305,
   "metadata": {},
   "outputs": [
    {
     "data": {
      "text/plain": [
       "{'C': 0.15}"
      ]
     },
     "execution_count": 305,
     "metadata": {},
     "output_type": "execute_result"
    }
   ],
   "source": [
    "svc_grid.best_params_"
   ]
  },
  {
   "cell_type": "code",
   "execution_count": 306,
   "metadata": {},
   "outputs": [
    {
     "name": "stderr",
     "output_type": "stream",
     "text": [
      "/opt/anaconda3/envs/learn-env/lib/python3.6/site-packages/sklearn/model_selection/_split.py:1978: FutureWarning: The default value of cv will change from 3 to 5 in version 0.22. Specify it explicitly to silence this warning.\n",
      "  warnings.warn(CV_WARNING, FutureWarning)\n"
     ]
    },
    {
     "data": {
      "text/plain": [
       "GridSearchCV(cv='warn', error_score='raise-deprecating',\n",
       "             estimator=SVC(C=1.0, cache_size=200, class_weight=None, coef0=0.0,\n",
       "                           decision_function_shape='ovr', degree=3,\n",
       "                           gamma='auto', kernel='rbf', max_iter=10000,\n",
       "                           probability=False, random_state=None, shrinking=True,\n",
       "                           tol=0.001, verbose=False),\n",
       "             iid='warn', n_jobs=None, param_grid={'C': [0.15, 0.4, 0.7, 1]},\n",
       "             pre_dispatch='2*n_jobs', refit=True, return_train_score=False,\n",
       "             scoring=None, verbose=0)"
      ]
     },
     "execution_count": 306,
     "metadata": {},
     "output_type": "execute_result"
    }
   ],
   "source": [
    "param_grid_2 = {'C': [0.15, .4, .7, 1]}\n",
    "svc_grid = GridSearchCV(estimator = svc, param_grid = param_grid_2)\n",
    "svc_grid.fit(X_train_new, y_train)"
   ]
  },
  {
   "cell_type": "code",
   "execution_count": 307,
   "metadata": {},
   "outputs": [
    {
     "data": {
      "text/plain": [
       "{'C': 1}"
      ]
     },
     "execution_count": 307,
     "metadata": {},
     "output_type": "execute_result"
    }
   ],
   "source": [
    "svc_grid.best_params_"
   ]
  },
  {
   "cell_type": "code",
   "execution_count": 308,
   "metadata": {},
   "outputs": [
    {
     "name": "stderr",
     "output_type": "stream",
     "text": [
      "/opt/anaconda3/envs/learn-env/lib/python3.6/site-packages/sklearn/model_selection/_split.py:1978: FutureWarning: The default value of cv will change from 3 to 5 in version 0.22. Specify it explicitly to silence this warning.\n",
      "  warnings.warn(CV_WARNING, FutureWarning)\n"
     ]
    },
    {
     "data": {
      "text/plain": [
       "GridSearchCV(cv='warn', error_score='raise-deprecating',\n",
       "             estimator=SVC(C=1.0, cache_size=200, class_weight=None, coef0=0.0,\n",
       "                           decision_function_shape='ovr', degree=3,\n",
       "                           gamma='auto', kernel='rbf', max_iter=10000,\n",
       "                           probability=False, random_state=None, shrinking=True,\n",
       "                           tol=0.001, verbose=False),\n",
       "             iid='warn', n_jobs=None, param_grid={'C': [0.15, 0.4, 0.7, 1]},\n",
       "             pre_dispatch='2*n_jobs', refit=True, return_train_score=False,\n",
       "             scoring=None, verbose=0)"
      ]
     },
     "execution_count": 308,
     "metadata": {},
     "output_type": "execute_result"
    }
   ],
   "source": [
    "param_grid_3 = {'C': [1, 5, 10, 15]}\n",
    "svc_grid = GridSearchCV(estimator = svc, param_grid = param_grid_2)\n",
    "svc_grid.fit(X_train_new, y_train)"
   ]
  },
  {
   "cell_type": "code",
   "execution_count": 309,
   "metadata": {},
   "outputs": [
    {
     "data": {
      "text/plain": [
       "{'C': 1}"
      ]
     },
     "execution_count": 309,
     "metadata": {},
     "output_type": "execute_result"
    }
   ],
   "source": [
    "svc_grid.best_params_"
   ]
  },
  {
   "cell_type": "code",
   "execution_count": 310,
   "metadata": {},
   "outputs": [
    {
     "name": "stderr",
     "output_type": "stream",
     "text": [
      "/opt/anaconda3/envs/learn-env/lib/python3.6/site-packages/sklearn/model_selection/_split.py:1978: FutureWarning: The default value of cv will change from 3 to 5 in version 0.22. Specify it explicitly to silence this warning.\n",
      "  warnings.warn(CV_WARNING, FutureWarning)\n"
     ]
    },
    {
     "data": {
      "text/plain": [
       "GridSearchCV(cv='warn', error_score='raise-deprecating',\n",
       "             estimator=SVC(C=1.0, cache_size=200, class_weight=None, coef0=0.0,\n",
       "                           decision_function_shape='ovr', degree=3,\n",
       "                           gamma='auto', kernel='rbf', max_iter=10000,\n",
       "                           probability=False, random_state=None, shrinking=True,\n",
       "                           tol=0.001, verbose=False),\n",
       "             iid='warn', n_jobs=None, param_grid={'C': [0.8, 0.9, 1, 1.1, 1.2]},\n",
       "             pre_dispatch='2*n_jobs', refit=True, return_train_score=False,\n",
       "             scoring=None, verbose=0)"
      ]
     },
     "execution_count": 310,
     "metadata": {},
     "output_type": "execute_result"
    }
   ],
   "source": [
    "param_grid_4 = {'C': [.8, .9, 1, 1.1, 1.2]}\n",
    "svc_grid = GridSearchCV(estimator = svc, param_grid = param_grid_4)\n",
    "svc_grid.fit(X_train_new, y_train)"
   ]
  },
  {
   "cell_type": "code",
   "execution_count": 311,
   "metadata": {},
   "outputs": [
    {
     "data": {
      "text/plain": [
       "{'C': 1.2}"
      ]
     },
     "execution_count": 311,
     "metadata": {},
     "output_type": "execute_result"
    }
   ],
   "source": [
    "svc_grid.best_params_"
   ]
  },
  {
   "cell_type": "code",
   "execution_count": 312,
   "metadata": {},
   "outputs": [
    {
     "name": "stderr",
     "output_type": "stream",
     "text": [
      "/opt/anaconda3/envs/learn-env/lib/python3.6/site-packages/sklearn/model_selection/_split.py:1978: FutureWarning: The default value of cv will change from 3 to 5 in version 0.22. Specify it explicitly to silence this warning.\n",
      "  warnings.warn(CV_WARNING, FutureWarning)\n"
     ]
    },
    {
     "data": {
      "text/plain": [
       "GridSearchCV(cv='warn', error_score='raise-deprecating',\n",
       "             estimator=SVC(C=1.0, cache_size=200, class_weight=None, coef0=0.0,\n",
       "                           decision_function_shape='ovr', degree=3,\n",
       "                           gamma='auto', kernel='rbf', max_iter=10000,\n",
       "                           probability=False, random_state=None, shrinking=True,\n",
       "                           tol=0.001, verbose=False),\n",
       "             iid='warn', n_jobs=None, param_grid={'C': [1.9, 1.2, 1.3, 1.4]},\n",
       "             pre_dispatch='2*n_jobs', refit=True, return_train_score=False,\n",
       "             scoring=None, verbose=0)"
      ]
     },
     "execution_count": 312,
     "metadata": {},
     "output_type": "execute_result"
    }
   ],
   "source": [
    "param_grid_5 = {'C': [1.9, 1.2, 1.3, 1.4]}\n",
    "svc_grid = GridSearchCV(estimator = svc, param_grid = param_grid_5)\n",
    "svc_grid.fit(X_train_new, y_train)"
   ]
  },
  {
   "cell_type": "code",
   "execution_count": 313,
   "metadata": {},
   "outputs": [
    {
     "data": {
      "text/plain": [
       "{'C': 1.9}"
      ]
     },
     "execution_count": 313,
     "metadata": {},
     "output_type": "execute_result"
    }
   ],
   "source": [
    "svc_grid.best_params_"
   ]
  },
  {
   "cell_type": "code",
   "execution_count": 314,
   "metadata": {},
   "outputs": [
    {
     "name": "stderr",
     "output_type": "stream",
     "text": [
      "/opt/anaconda3/envs/learn-env/lib/python3.6/site-packages/sklearn/model_selection/_split.py:1978: FutureWarning: The default value of cv will change from 3 to 5 in version 0.22. Specify it explicitly to silence this warning.\n",
      "  warnings.warn(CV_WARNING, FutureWarning)\n"
     ]
    },
    {
     "data": {
      "text/plain": [
       "GridSearchCV(cv='warn', error_score='raise-deprecating',\n",
       "             estimator=SVC(C=1.0, cache_size=200, class_weight=None, coef0=0.0,\n",
       "                           decision_function_shape='ovr', degree=3,\n",
       "                           gamma='auto', kernel='rbf', max_iter=10000,\n",
       "                           probability=False, random_state=None, shrinking=True,\n",
       "                           tol=0.001, verbose=False),\n",
       "             iid='warn', n_jobs=None, param_grid={'C': [1.7, 1.8, 1.9, 2, 2.5]},\n",
       "             pre_dispatch='2*n_jobs', refit=True, return_train_score=False,\n",
       "             scoring=None, verbose=0)"
      ]
     },
     "execution_count": 314,
     "metadata": {},
     "output_type": "execute_result"
    }
   ],
   "source": [
    "param_grid_6 = {'C': [1.7, 1.8, 1.9, 2, 2.5]}\n",
    "svc_grid = GridSearchCV(estimator = svc, param_grid = param_grid_6)\n",
    "svc_grid.fit(X_train_new, y_train)"
   ]
  },
  {
   "cell_type": "code",
   "execution_count": 315,
   "metadata": {},
   "outputs": [
    {
     "data": {
      "text/plain": [
       "{'C': 2.5}"
      ]
     },
     "execution_count": 315,
     "metadata": {},
     "output_type": "execute_result"
    }
   ],
   "source": [
    "svc_grid.best_params_"
   ]
  },
  {
   "cell_type": "code",
   "execution_count": 316,
   "metadata": {},
   "outputs": [
    {
     "name": "stderr",
     "output_type": "stream",
     "text": [
      "/opt/anaconda3/envs/learn-env/lib/python3.6/site-packages/sklearn/model_selection/_split.py:1978: FutureWarning: The default value of cv will change from 3 to 5 in version 0.22. Specify it explicitly to silence this warning.\n",
      "  warnings.warn(CV_WARNING, FutureWarning)\n"
     ]
    },
    {
     "data": {
      "text/plain": [
       "GridSearchCV(cv='warn', error_score='raise-deprecating',\n",
       "             estimator=SVC(C=1.0, cache_size=200, class_weight=None, coef0=0.0,\n",
       "                           decision_function_shape='ovr', degree=3,\n",
       "                           gamma='auto', kernel='rbf', max_iter=10000,\n",
       "                           probability=False, random_state=None, shrinking=True,\n",
       "                           tol=0.001, verbose=False),\n",
       "             iid='warn', n_jobs=None, param_grid={'C': [2.4, 2.5, 2.6, 2.7]},\n",
       "             pre_dispatch='2*n_jobs', refit=True, return_train_score=False,\n",
       "             scoring=None, verbose=0)"
      ]
     },
     "execution_count": 316,
     "metadata": {},
     "output_type": "execute_result"
    }
   ],
   "source": [
    "param_grid_7 = {'C': [2.4, 2.5, 2.6, 2.7]}\n",
    "svc_grid = GridSearchCV(estimator = svc, param_grid = param_grid_7)\n",
    "svc_grid.fit(X_train_new, y_train)"
   ]
  },
  {
   "cell_type": "code",
   "execution_count": 317,
   "metadata": {},
   "outputs": [
    {
     "data": {
      "text/plain": [
       "{'C': 2.7}"
      ]
     },
     "execution_count": 317,
     "metadata": {},
     "output_type": "execute_result"
    }
   ],
   "source": [
    "svc_grid.best_params_"
   ]
  },
  {
   "cell_type": "code",
   "execution_count": 318,
   "metadata": {},
   "outputs": [
    {
     "name": "stderr",
     "output_type": "stream",
     "text": [
      "/opt/anaconda3/envs/learn-env/lib/python3.6/site-packages/sklearn/model_selection/_split.py:1978: FutureWarning: The default value of cv will change from 3 to 5 in version 0.22. Specify it explicitly to silence this warning.\n",
      "  warnings.warn(CV_WARNING, FutureWarning)\n"
     ]
    },
    {
     "data": {
      "text/plain": [
       "GridSearchCV(cv='warn', error_score='raise-deprecating',\n",
       "             estimator=SVC(C=1.0, cache_size=200, class_weight=None, coef0=0.0,\n",
       "                           decision_function_shape='ovr', degree=3,\n",
       "                           gamma='auto', kernel='rbf', max_iter=10000,\n",
       "                           probability=False, random_state=None, shrinking=True,\n",
       "                           tol=0.001, verbose=False),\n",
       "             iid='warn', n_jobs=None, param_grid={'C': [2.7, 2.8, 2.9, 3]},\n",
       "             pre_dispatch='2*n_jobs', refit=True, return_train_score=False,\n",
       "             scoring=None, verbose=0)"
      ]
     },
     "execution_count": 318,
     "metadata": {},
     "output_type": "execute_result"
    }
   ],
   "source": [
    "param_grid_8 = {'C': [2.7, 2.8, 2.9, 3]}\n",
    "svc_grid = GridSearchCV(estimator = svc, param_grid = param_grid_8)\n",
    "svc_grid.fit(X_train_new, y_train)"
   ]
  },
  {
   "cell_type": "code",
   "execution_count": 319,
   "metadata": {},
   "outputs": [
    {
     "data": {
      "text/plain": [
       "{'C': 3}"
      ]
     },
     "execution_count": 319,
     "metadata": {},
     "output_type": "execute_result"
    }
   ],
   "source": [
    "svc_grid.best_params_"
   ]
  },
  {
   "cell_type": "code",
   "execution_count": 320,
   "metadata": {},
   "outputs": [
    {
     "name": "stderr",
     "output_type": "stream",
     "text": [
      "/opt/anaconda3/envs/learn-env/lib/python3.6/site-packages/sklearn/model_selection/_split.py:1978: FutureWarning: The default value of cv will change from 3 to 5 in version 0.22. Specify it explicitly to silence this warning.\n",
      "  warnings.warn(CV_WARNING, FutureWarning)\n"
     ]
    },
    {
     "data": {
      "text/plain": [
       "GridSearchCV(cv='warn', error_score='raise-deprecating',\n",
       "             estimator=SVC(C=1.0, cache_size=200, class_weight=None, coef0=0.0,\n",
       "                           decision_function_shape='ovr', degree=3,\n",
       "                           gamma='auto', kernel='rbf', max_iter=10000,\n",
       "                           probability=False, random_state=None, shrinking=True,\n",
       "                           tol=0.001, verbose=False),\n",
       "             iid='warn', n_jobs=None, param_grid={'C': [3, 3.2, 3.5, 4]},\n",
       "             pre_dispatch='2*n_jobs', refit=True, return_train_score=False,\n",
       "             scoring=None, verbose=0)"
      ]
     },
     "execution_count": 320,
     "metadata": {},
     "output_type": "execute_result"
    }
   ],
   "source": [
    "param_grid_9 = {'C': [3, 3.2, 3.5, 4]}\n",
    "svc_grid = GridSearchCV(estimator = svc, param_grid = param_grid_9)\n",
    "svc_grid.fit(X_train_new, y_train)"
   ]
  },
  {
   "cell_type": "code",
   "execution_count": 321,
   "metadata": {},
   "outputs": [
    {
     "data": {
      "text/plain": [
       "{'C': 4}"
      ]
     },
     "execution_count": 321,
     "metadata": {},
     "output_type": "execute_result"
    }
   ],
   "source": [
    "svc_grid.best_params_"
   ]
  },
  {
   "cell_type": "code",
   "execution_count": 322,
   "metadata": {},
   "outputs": [
    {
     "name": "stderr",
     "output_type": "stream",
     "text": [
      "/opt/anaconda3/envs/learn-env/lib/python3.6/site-packages/sklearn/model_selection/_split.py:1978: FutureWarning: The default value of cv will change from 3 to 5 in version 0.22. Specify it explicitly to silence this warning.\n",
      "  warnings.warn(CV_WARNING, FutureWarning)\n"
     ]
    },
    {
     "data": {
      "text/plain": [
       "GridSearchCV(cv='warn', error_score='raise-deprecating',\n",
       "             estimator=SVC(C=1.0, cache_size=200, class_weight=None, coef0=0.0,\n",
       "                           decision_function_shape='ovr', degree=3,\n",
       "                           gamma='auto', kernel='rbf', max_iter=10000,\n",
       "                           probability=False, random_state=None, shrinking=True,\n",
       "                           tol=0.001, verbose=False),\n",
       "             iid='warn', n_jobs=None,\n",
       "             param_grid={'C': [3.6, 3.7, 3.8, 3.9, 4, 4.1, 4.2]},\n",
       "             pre_dispatch='2*n_jobs', refit=True, return_train_score=False,\n",
       "             scoring=None, verbose=0)"
      ]
     },
     "execution_count": 322,
     "metadata": {},
     "output_type": "execute_result"
    }
   ],
   "source": [
    "param_grid_10 = {'C': [3.6, 3.7, 3.8, 3.9, 4, 4.1, 4.2]}\n",
    "svc_grid = GridSearchCV(estimator = svc, param_grid = param_grid_10)\n",
    "svc_grid.fit(X_train_new, y_train)"
   ]
  },
  {
   "cell_type": "code",
   "execution_count": 323,
   "metadata": {},
   "outputs": [
    {
     "data": {
      "text/plain": [
       "{'C': 4.2}"
      ]
     },
     "execution_count": 323,
     "metadata": {},
     "output_type": "execute_result"
    }
   ],
   "source": [
    "svc_grid.best_params_"
   ]
  },
  {
   "cell_type": "code",
   "execution_count": 324,
   "metadata": {},
   "outputs": [
    {
     "name": "stderr",
     "output_type": "stream",
     "text": [
      "/opt/anaconda3/envs/learn-env/lib/python3.6/site-packages/sklearn/model_selection/_split.py:1978: FutureWarning: The default value of cv will change from 3 to 5 in version 0.22. Specify it explicitly to silence this warning.\n",
      "  warnings.warn(CV_WARNING, FutureWarning)\n",
      "/opt/anaconda3/envs/learn-env/lib/python3.6/site-packages/sklearn/svm/base.py:241: ConvergenceWarning: Solver terminated early (max_iter=10000).  Consider pre-processing your data with StandardScaler or MinMaxScaler.\n",
      "  % self.max_iter, ConvergenceWarning)\n"
     ]
    },
    {
     "data": {
      "text/plain": [
       "GridSearchCV(cv='warn', error_score='raise-deprecating',\n",
       "             estimator=SVC(C=1.0, cache_size=200, class_weight=None, coef0=0.0,\n",
       "                           decision_function_shape='ovr', degree=3,\n",
       "                           gamma='auto', kernel='rbf', max_iter=10000,\n",
       "                           probability=False, random_state=None, shrinking=True,\n",
       "                           tol=0.001, verbose=False),\n",
       "             iid='warn', n_jobs=None,\n",
       "             param_grid={'C': [4.2, 4.3, 4.4, 4.5, 4.6, 4.7, 4.8, 4.9, 5]},\n",
       "             pre_dispatch='2*n_jobs', refit=True, return_train_score=False,\n",
       "             scoring=None, verbose=0)"
      ]
     },
     "execution_count": 324,
     "metadata": {},
     "output_type": "execute_result"
    }
   ],
   "source": [
    "param_grid_11 = {'C': [4.2, 4.3, 4.4, 4.5, 4.6, 4.7, 4.8, 4.9, 5]}\n",
    "svc_grid = GridSearchCV(estimator = svc, param_grid = param_grid_11)\n",
    "svc_grid.fit(X_train_new, y_train)"
   ]
  },
  {
   "cell_type": "code",
   "execution_count": 325,
   "metadata": {},
   "outputs": [
    {
     "data": {
      "text/plain": [
       "{'C': 4.5}"
      ]
     },
     "execution_count": 325,
     "metadata": {},
     "output_type": "execute_result"
    }
   ],
   "source": [
    "svc_grid.best_params_"
   ]
  },
  {
   "cell_type": "code",
   "execution_count": 326,
   "metadata": {},
   "outputs": [
    {
     "name": "stderr",
     "output_type": "stream",
     "text": [
      "/opt/anaconda3/envs/learn-env/lib/python3.6/site-packages/sklearn/svm/base.py:241: ConvergenceWarning: Solver terminated early (max_iter=10000).  Consider pre-processing your data with StandardScaler or MinMaxScaler.\n",
      "  % self.max_iter, ConvergenceWarning)\n"
     ]
    }
   ],
   "source": [
    "final_svc = SVC(C = 4.5, kernel = 'rbf', gamma = 'auto', max_iter = 10000)\n",
    "final_svc.fit(X_train_new, y_train)\n",
    "predict_train = final_svc.predict(X_train_new)\n",
    "pred = final_svc.predict(X_test_new)"
   ]
  },
  {
   "cell_type": "code",
   "execution_count": 327,
   "metadata": {},
   "outputs": [
    {
     "name": "stdout",
     "output_type": "stream",
     "text": [
      "[[5746  199]\n",
      " [ 741 1693]]\n",
      "              precision    recall  f1-score   support\n",
      "\n",
      "           N       0.89      0.97      0.92      5945\n",
      "           Y       0.89      0.70      0.78      2434\n",
      "\n",
      "    accuracy                           0.89      8379\n",
      "   macro avg       0.89      0.83      0.85      8379\n",
      "weighted avg       0.89      0.89      0.88      8379\n",
      "\n"
     ]
    }
   ],
   "source": [
    "print(confusion_matrix(y_train, predict_train))\n",
    "print(classification_report(y_train, predict_train))"
   ]
  },
  {
   "cell_type": "code",
   "execution_count": 328,
   "metadata": {},
   "outputs": [
    {
     "name": "stdout",
     "output_type": "stream",
     "text": [
      "[[1455   49]\n",
      " [ 190  401]]\n",
      "              precision    recall  f1-score   support\n",
      "\n",
      "           N       0.88      0.97      0.92      1504\n",
      "           Y       0.89      0.68      0.77       591\n",
      "\n",
      "    accuracy                           0.89      2095\n",
      "   macro avg       0.89      0.82      0.85      2095\n",
      "weighted avg       0.89      0.89      0.88      2095\n",
      "\n"
     ]
    }
   ],
   "source": [
    "print(confusion_matrix(y_test, pred))\n",
    "print(classification_report(y_test, pred))"
   ]
  },
  {
   "cell_type": "code",
   "execution_count": null,
   "metadata": {},
   "outputs": [],
   "source": []
  }
 ],
 "metadata": {
  "kernelspec": {
   "display_name": "Python 3",
   "language": "python",
   "name": "python3"
  },
  "language_info": {
   "codemirror_mode": {
    "name": "ipython",
    "version": 3
   },
   "file_extension": ".py",
   "mimetype": "text/x-python",
   "name": "python",
   "nbconvert_exporter": "python",
   "pygments_lexer": "ipython3",
   "version": "3.6.9"
  }
 },
 "nbformat": 4,
 "nbformat_minor": 2
}

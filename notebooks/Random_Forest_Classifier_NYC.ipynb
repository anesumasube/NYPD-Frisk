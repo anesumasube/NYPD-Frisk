{
  "nbformat": 4,
  "nbformat_minor": 0,
  "metadata": {
    "colab": {
      "name": "Random Forest Classifier NYC.ipynb",
      "provenance": [],
      "authorship_tag": "ABX9TyNeaF2wF15ITKqa5MZiqQzh",
      "include_colab_link": true
    },
    "kernelspec": {
      "name": "python3",
      "display_name": "Python 3"
    }
  },
  "cells": [
    {
      "cell_type": "markdown",
      "metadata": {
        "id": "view-in-github",
        "colab_type": "text"
      },
      "source": [
        "<a href=\"https://colab.research.google.com/github/smw150430/NYPD-Frisk/blob/master/Random_Forest_Classifier_NYC.ipynb\" target=\"_parent\"><img src=\"https://colab.research.google.com/assets/colab-badge.svg\" alt=\"Open In Colab\"/></a>"
      ]
    },
    {
      "cell_type": "code",
      "metadata": {
        "id": "MPUQOTYM1HaY",
        "colab_type": "code",
        "colab": {}
      },
      "source": [
        "import pandas as pd\n",
        "import seaborn as sns\n",
        "import numpy as np\n",
        "import matplotlib.pyplot as plt\n",
        "from sklearn.model_selection import train_test_split\n",
        "from sklearn"
      ],
      "execution_count": 0,
      "outputs": []
    },
    {
      "cell_type": "code",
      "metadata": {
        "id": "lVXyaLg2zW65",
        "colab_type": "code",
        "colab": {}
      },
      "source": [
        "https://drive.google.com/drive/u/0/my-drive"
      ],
      "execution_count": 0,
      "outputs": []
    },
    {
      "cell_type": "code",
      "metadata": {
        "id": "tHsTg0x51z5m",
        "colab_type": "code",
        "colab": {
          "base_uri": "https://localhost:8080/",
          "height": 122
        },
        "outputId": "e42bc240-fb0d-4c25-fc67-0a86a13d4e5f"
      },
      "source": [
        "#Mounting Google Drive\n",
        "from google.colab import drive\n",
        "drive.mount('/content/drive')"
      ],
      "execution_count": 3,
      "outputs": [
        {
          "output_type": "stream",
          "text": [
            "Go to this URL in a browser: https://accounts.google.com/o/oauth2/auth?client_id=947318989803-6bn6qk8qdgf4n4g3pfee6491hc0brc4i.apps.googleusercontent.com&redirect_uri=urn%3aietf%3awg%3aoauth%3a2.0%3aoob&response_type=code&scope=email%20https%3a%2f%2fwww.googleapis.com%2fauth%2fdocs.test%20https%3a%2f%2fwww.googleapis.com%2fauth%2fdrive%20https%3a%2f%2fwww.googleapis.com%2fauth%2fdrive.photos.readonly%20https%3a%2f%2fwww.googleapis.com%2fauth%2fpeopleapi.readonly\n",
            "\n",
            "Enter your authorization code:\n",
            "··········\n",
            "Mounted at /content/drive\n"
          ],
          "name": "stdout"
        }
      ]
    },
    {
      "cell_type": "code",
      "metadata": {
        "id": "pzy_632R2a2k",
        "colab_type": "code",
        "colab": {}
      },
      "source": [
        ""
      ],
      "execution_count": 0,
      "outputs": []
    },
    {
      "cell_type": "code",
      "metadata": {
        "id": "2I2ZIPb83HQx",
        "colab_type": "code",
        "colab": {
          "base_uri": "https://localhost:8080/",
          "height": 54
        },
        "outputId": "39bda4c3-2e8c-4193-c49c-5276669052e1"
      },
      "source": [
        "from google.colab import drive\n",
        "drive.mount('/content/drive')"
      ],
      "execution_count": 6,
      "outputs": [
        {
          "output_type": "stream",
          "text": [
            "Drive already mounted at /content/drive; to attempt to forcibly remount, call drive.mount(\"/content/drive\", force_remount=True).\n"
          ],
          "name": "stdout"
        }
      ]
    },
    {
      "cell_type": "code",
      "metadata": {
        "id": "iIKVY_Ar3Jmv",
        "colab_type": "code",
        "colab": {
          "base_uri": "https://localhost:8080/",
          "height": 1000
        },
        "outputId": "ff619c7d-e65b-4e09-9f5d-9c8816715c45"
      },
      "source": [
        "path = \"/content/drive/My Drive/sqf-2018.xlsx\"\n",
        "unclean_df = pd.read_excel(path)\n",
        "unclean_df.info()"
      ],
      "execution_count": 7,
      "outputs": [
        {
          "output_type": "stream",
          "text": [
            "<class 'pandas.core.frame.DataFrame'>\n",
            "RangeIndex: 11008 entries, 0 to 11007\n",
            "Data columns (total 83 columns):\n",
            "STOP_FRISK_ID                                                   11008 non-null int64\n",
            "STOP_FRISK_DATE                                                 11008 non-null datetime64[ns]\n",
            "Stop Frisk Time                                                 11006 non-null object\n",
            "YEAR2                                                           11008 non-null int64\n",
            "MONTH2                                                          11008 non-null object\n",
            "DAY2                                                            11008 non-null object\n",
            "STOP_WAS_INITIATED                                              11008 non-null object\n",
            "RECORD_STATUS_CODE                                              11008 non-null object\n",
            "ISSUING_OFFICER_RANK                                            11008 non-null object\n",
            "ISSUING_OFFICER_COMMAND_CODE                                    11008 non-null int64\n",
            "SUPERVISING_OFFICER_RANK                                        11008 non-null object\n",
            "SUPERVISING_OFFICER_COMMAND_CODE                                11008 non-null int64\n",
            "SUPERVISING_ACTION_CORRESPONDING_ACTIVITY_LOG_ENTRY_REVIEWED    11008 non-null object\n",
            "LOCATION_IN_OUT_CODE                                            11008 non-null object\n",
            "JURISDICTION_CODE                                               11008 non-null object\n",
            "JURISDICTION_DESCRIPTION                                        11008 non-null object\n",
            "OBSERVED_DURATION_MINUTES                                       11008 non-null int64\n",
            "SUSPECTED_CRIME_DESCRIPTION                                     11008 non-null object\n",
            "STOP_DURATION_MINUTES                                           11008 non-null int64\n",
            "OFFICER_EXPLAINED_STOP_FLAG                                     11008 non-null object\n",
            "OFFICER_NOT_EXPLAINED_STOP_DESCRIPTION                          11007 non-null object\n",
            "OTHER_PERSON_STOPPED_FLAG                                       11008 non-null object\n",
            "SUSPECT_ARRESTED_FLAG                                           11008 non-null object\n",
            "SUSPECT_ARREST_OFFENSE                                          11008 non-null object\n",
            "SUMMONS_ISSUED_FLAG                                             11008 non-null object\n",
            "SUMMONS_OFFENSE_DESCRIPTION                                     11008 non-null object\n",
            "OFFICER_IN_UNIFORM_FLAG                                         11008 non-null object\n",
            "ID_CARD_IDENTIFIES_OFFICER_FLAG                                 11008 non-null object\n",
            "SHIELD_IDENTIFIES_OFFICER_FLAG                                  11008 non-null object\n",
            "VERBAL_IDENTIFIES_OFFICER_FLAG                                  11008 non-null object\n",
            "FRISKED_FLAG                                                    11008 non-null object\n",
            "SEARCHED_FLAG                                                   11008 non-null object\n",
            "OTHER_CONTRABAND_FLAG                                           11008 non-null object\n",
            "FIREARM_FLAG                                                    11008 non-null object\n",
            "KNIFE_CUTTER_FLAG                                               11008 non-null object\n",
            "OTHER_WEAPON_FLAG                                               11008 non-null object\n",
            "WEAPON_FOUND_FLAG                                               11008 non-null object\n",
            "PHYSICAL_FORCE_CEW_FLAG                                         11008 non-null object\n",
            "PHYSICAL_FORCE_DRAW_POINT_FIREARM_FLAG                          11008 non-null object\n",
            "PHYSICAL_FORCE_HANDCUFF_SUSPECT_FLAG                            11008 non-null object\n",
            "PHYSICAL_FORCE_OC_SPRAY_USED_FLAG                               11008 non-null object\n",
            "PHYSICAL_FORCE_OTHER_FLAG                                       11008 non-null object\n",
            "PHYSICAL_FORCE_RESTRAINT_USED_FLAG                              11008 non-null object\n",
            "PHYSICAL_FORCE_VERBAL_INSTRUCTION_FLAG                          11008 non-null object\n",
            "PHYSICAL_FORCE_WEAPON_IMPACT_FLAG                               11008 non-null object\n",
            "BACKROUND_CIRCUMSTANCES_VIOLENT_CRIME_FLAG                      11008 non-null object\n",
            "BACKROUND_CIRCUMSTANCES_SUSPECT_KNOWN_TO_CARRY_WEAPON_FLAG      11008 non-null object\n",
            "SUSPECTS_ACTIONS_CASING_FLAG                                    11008 non-null object\n",
            "SUSPECTS_ACTIONS_CONCEALED_POSSESSION_WEAPON_FLAG               11008 non-null object\n",
            "SUSPECTS_ACTIONS_DECRIPTION_FLAG                                11008 non-null object\n",
            "SUSPECTS_ACTIONS_DRUG_TRANSACTIONS_FLAG                         11008 non-null object\n",
            "SUSPECTS_ACTIONS_IDENTIFY_CRIME_PATTERN_FLAG                    11008 non-null object\n",
            "SUSPECTS_ACTIONS_LOOKOUT_FLAG                                   11008 non-null object\n",
            "SUSPECTS_ACTIONS_OTHER_FLAG                                     11008 non-null object\n",
            "SUSPECTS_ACTIONS_PROXIMITY_TO_SCENE_FLAG                        11008 non-null object\n",
            "SEARCH_BASIS_ADMISSION_FLAG                                     11008 non-null object\n",
            "SEARCH_BASIS_CONSENT_FLAG                                       11008 non-null object\n",
            "SEARCH_BASIS_HARD_OBJECT_FLAG                                   11008 non-null object\n",
            "SEARCH_BASIS_INCIDENTAL_TO_ARREST_FLAG                          11008 non-null object\n",
            "SEARCH_BASIS_OTHER_FLAG                                         11008 non-null object\n",
            "SEARCH_BASIS_OUTLINE_FLAG                                       11008 non-null object\n",
            "DEMEANOR_CODE                                                   9942 non-null object\n",
            "DEMEANOR_OF_PERSON_STOPPED                                      9896 non-null object\n",
            "SUSPECT_REPORTED_AGE                                            11008 non-null object\n",
            "SUSPECT_SEX                                                     11008 non-null object\n",
            "SUSPECT_RACE_DESCRIPTION                                        11008 non-null object\n",
            "SUSPECT_HEIGHT                                                  11008 non-null object\n",
            "SUSPECT_WEIGHT                                                  11008 non-null object\n",
            "SUSPECT_BODY_BUILD_TYPE                                         11008 non-null object\n",
            "SUSPECT_EYE_COLOR                                               11008 non-null object\n",
            "SUSPECT_HAIR_COLOR                                              11008 non-null object\n",
            "SUSPECT_OTHER_DESCRIPTION                                       10136 non-null object\n",
            "STOP_LOCATION_PRECINCT                                          11008 non-null int64\n",
            "STOP_LOCATION_SECTOR_CODE                                       11008 non-null object\n",
            "STOP_LOCATION_APARTMENT                                         10981 non-null object\n",
            "STOP_LOCATION_FULL_ADDRESS                                      11008 non-null object\n",
            "STOP_LOCATION_PREMISES_NAME                                     11008 non-null object\n",
            "STOP_LOCATION_STREET_NAME                                       11008 non-null object\n",
            "STOP_LOCATION_X                                                 11008 non-null int64\n",
            "STOP_LOCATION_Y                                                 11008 non-null int64\n",
            "STOP_LOCATION_ZIP_CODE                                          11008 non-null object\n",
            "STOP_LOCATION_PATROL_BORO_NAME                                  11008 non-null object\n",
            "STOP_LOCATION_BORO_NAME                                         11008 non-null object\n",
            "dtypes: datetime64[ns](1), int64(9), object(73)\n",
            "memory usage: 7.0+ MB\n"
          ],
          "name": "stdout"
        }
      ]
    },
    {
      "cell_type": "code",
      "metadata": {
        "id": "1ZdTN9A23dk1",
        "colab_type": "code",
        "colab": {
          "base_uri": "https://localhost:8080/",
          "height": 1000
        },
        "outputId": "2d10c926-3e81-47eb-a9ab-a759d335a4eb"
      },
      "source": [
        "path = \"/content/drive/My Drive/cleaned_df.csv\"\n",
        "cleaned_df = pd.read_csv(path)\n",
        "cleaned_df.info()"
      ],
      "execution_count": 9,
      "outputs": [
        {
          "output_type": "stream",
          "text": [
            "<class 'pandas.core.frame.DataFrame'>\n",
            "RangeIndex: 10474 entries, 0 to 10473\n",
            "Data columns (total 64 columns):\n",
            "Unnamed: 0                                                      10474 non-null int64\n",
            "MONTH2                                                          10474 non-null object\n",
            "DAY2                                                            10474 non-null object\n",
            "STOP_WAS_INITIATED                                              10474 non-null object\n",
            "ISSUING_OFFICER_RANK                                            10474 non-null object\n",
            "SUPERVISING_OFFICER_RANK                                        10474 non-null object\n",
            "SUPERVISING_ACTION_CORRESPONDING_ACTIVITY_LOG_ENTRY_REVIEWED    10474 non-null object\n",
            "JURISDICTION_DESCRIPTION                                        10474 non-null object\n",
            "OBSERVED_DURATION_MINUTES                                       10474 non-null int64\n",
            "SUSPECTED_CRIME_DESCRIPTION                                     10474 non-null object\n",
            "STOP_DURATION_MINUTES                                           10474 non-null int64\n",
            "OFFICER_EXPLAINED_STOP_FLAG                                     10474 non-null object\n",
            "OTHER_PERSON_STOPPED_FLAG                                       10474 non-null object\n",
            "SUSPECT_ARRESTED_FLAG                                           10474 non-null object\n",
            "SUSPECT_ARREST_OFFENSE                                          10474 non-null object\n",
            "SUMMONS_ISSUED_FLAG                                             10474 non-null object\n",
            "OFFICER_IN_UNIFORM_FLAG                                         10474 non-null object\n",
            "ID_CARD_IDENTIFIES_OFFICER_FLAG                                 10474 non-null object\n",
            "SHIELD_IDENTIFIES_OFFICER_FLAG                                  10474 non-null object\n",
            "VERBAL_IDENTIFIES_OFFICER_FLAG                                  10474 non-null object\n",
            "FRISKED_FLAG                                                    10474 non-null object\n",
            "SEARCHED_FLAG                                                   10474 non-null object\n",
            "OTHER_CONTRABAND_FLAG                                           10474 non-null object\n",
            "FIREARM_FLAG                                                    10474 non-null object\n",
            "KNIFE_CUTTER_FLAG                                               10474 non-null object\n",
            "OTHER_WEAPON_FLAG                                               10474 non-null object\n",
            "WEAPON_FOUND_FLAG                                               10474 non-null object\n",
            "PHYSICAL_FORCE_CEW_FLAG                                         10474 non-null object\n",
            "PHYSICAL_FORCE_DRAW_POINT_FIREARM_FLAG                          10474 non-null object\n",
            "PHYSICAL_FORCE_HANDCUFF_SUSPECT_FLAG                            10474 non-null object\n",
            "PHYSICAL_FORCE_OC_SPRAY_USED_FLAG                               10474 non-null object\n",
            "PHYSICAL_FORCE_OTHER_FLAG                                       10474 non-null object\n",
            "PHYSICAL_FORCE_RESTRAINT_USED_FLAG                              10474 non-null object\n",
            "PHYSICAL_FORCE_VERBAL_INSTRUCTION_FLAG                          10474 non-null object\n",
            "PHYSICAL_FORCE_WEAPON_IMPACT_FLAG                               10474 non-null object\n",
            "BACKROUND_CIRCUMSTANCES_VIOLENT_CRIME_FLAG                      10474 non-null object\n",
            "BACKROUND_CIRCUMSTANCES_SUSPECT_KNOWN_TO_CARRY_WEAPON_FLAG      10474 non-null object\n",
            "SUSPECTS_ACTIONS_CASING_FLAG                                    10474 non-null object\n",
            "SUSPECTS_ACTIONS_CONCEALED_POSSESSION_WEAPON_FLAG               10474 non-null object\n",
            "SUSPECTS_ACTIONS_DECRIPTION_FLAG                                10474 non-null object\n",
            "SUSPECTS_ACTIONS_DRUG_TRANSACTIONS_FLAG                         10474 non-null object\n",
            "SUSPECTS_ACTIONS_IDENTIFY_CRIME_PATTERN_FLAG                    10474 non-null object\n",
            "SUSPECTS_ACTIONS_LOOKOUT_FLAG                                   10474 non-null object\n",
            "SUSPECTS_ACTIONS_OTHER_FLAG                                     10474 non-null object\n",
            "SUSPECTS_ACTIONS_PROXIMITY_TO_SCENE_FLAG                        10474 non-null object\n",
            "SEARCH_BASIS_ADMISSION_FLAG                                     10474 non-null object\n",
            "SEARCH_BASIS_CONSENT_FLAG                                       10474 non-null object\n",
            "SEARCH_BASIS_HARD_OBJECT_FLAG                                   10474 non-null object\n",
            "SEARCH_BASIS_INCIDENTAL_TO_ARREST_FLAG                          10474 non-null object\n",
            "SEARCH_BASIS_OTHER_FLAG                                         10474 non-null object\n",
            "SEARCH_BASIS_OUTLINE_FLAG                                       10474 non-null object\n",
            "DEMEANOR_CODE                                                   9531 non-null object\n",
            "SUSPECT_SEX                                                     10474 non-null object\n",
            "SUSPECT_RACE_DESCRIPTION                                        10474 non-null object\n",
            "SUSPECT_HEIGHT                                                  10474 non-null float64\n",
            "SUSPECT_WEIGHT                                                  10474 non-null float64\n",
            "SUSPECT_BODY_BUILD_TYPE                                         10474 non-null object\n",
            "SUSPECT_EYE_COLOR                                               10474 non-null object\n",
            "SUSPECT_HAIR_COLOR                                              10474 non-null object\n",
            "STOP_LOCATION_PRECINCT                                          10474 non-null int64\n",
            "STOP_LOCATION_SECTOR_CODE                                       10474 non-null object\n",
            "STOP_LOCATION_PATROL_BORO_NAME                                  10474 non-null object\n",
            "STOP_LOCATION_BORO_NAME                                         10474 non-null object\n",
            "age_bin                                                         10474 non-null object\n",
            "dtypes: float64(2), int64(4), object(58)\n",
            "memory usage: 5.1+ MB\n"
          ],
          "name": "stdout"
        }
      ]
    },
    {
      "cell_type": "code",
      "metadata": {
        "id": "FltjUi9l854y",
        "colab_type": "code",
        "colab": {
          "base_uri": "https://localhost:8080/",
          "height": 1000
        },
        "outputId": "1966804b-936d-4f95-fdec-0eb8b7044f78"
      },
      "source": [
        "cleaned_df = cleaned_df.drop(columns='DEMEANOR_CODE')\n",
        "cleaned_df.info()"
      ],
      "execution_count": 14,
      "outputs": [
        {
          "output_type": "stream",
          "text": [
            "<class 'pandas.core.frame.DataFrame'>\n",
            "RangeIndex: 10474 entries, 0 to 10473\n",
            "Data columns (total 63 columns):\n",
            "Unnamed: 0                                                      10474 non-null int64\n",
            "MONTH2                                                          10474 non-null object\n",
            "DAY2                                                            10474 non-null object\n",
            "STOP_WAS_INITIATED                                              10474 non-null object\n",
            "ISSUING_OFFICER_RANK                                            10474 non-null object\n",
            "SUPERVISING_OFFICER_RANK                                        10474 non-null object\n",
            "SUPERVISING_ACTION_CORRESPONDING_ACTIVITY_LOG_ENTRY_REVIEWED    10474 non-null object\n",
            "JURISDICTION_DESCRIPTION                                        10474 non-null object\n",
            "OBSERVED_DURATION_MINUTES                                       10474 non-null int64\n",
            "SUSPECTED_CRIME_DESCRIPTION                                     10474 non-null object\n",
            "STOP_DURATION_MINUTES                                           10474 non-null int64\n",
            "OFFICER_EXPLAINED_STOP_FLAG                                     10474 non-null object\n",
            "OTHER_PERSON_STOPPED_FLAG                                       10474 non-null object\n",
            "SUSPECT_ARRESTED_FLAG                                           10474 non-null object\n",
            "SUSPECT_ARREST_OFFENSE                                          10474 non-null object\n",
            "SUMMONS_ISSUED_FLAG                                             10474 non-null object\n",
            "OFFICER_IN_UNIFORM_FLAG                                         10474 non-null object\n",
            "ID_CARD_IDENTIFIES_OFFICER_FLAG                                 10474 non-null object\n",
            "SHIELD_IDENTIFIES_OFFICER_FLAG                                  10474 non-null object\n",
            "VERBAL_IDENTIFIES_OFFICER_FLAG                                  10474 non-null object\n",
            "FRISKED_FLAG                                                    10474 non-null object\n",
            "SEARCHED_FLAG                                                   10474 non-null object\n",
            "OTHER_CONTRABAND_FLAG                                           10474 non-null object\n",
            "FIREARM_FLAG                                                    10474 non-null object\n",
            "KNIFE_CUTTER_FLAG                                               10474 non-null object\n",
            "OTHER_WEAPON_FLAG                                               10474 non-null object\n",
            "WEAPON_FOUND_FLAG                                               10474 non-null object\n",
            "PHYSICAL_FORCE_CEW_FLAG                                         10474 non-null object\n",
            "PHYSICAL_FORCE_DRAW_POINT_FIREARM_FLAG                          10474 non-null object\n",
            "PHYSICAL_FORCE_HANDCUFF_SUSPECT_FLAG                            10474 non-null object\n",
            "PHYSICAL_FORCE_OC_SPRAY_USED_FLAG                               10474 non-null object\n",
            "PHYSICAL_FORCE_OTHER_FLAG                                       10474 non-null object\n",
            "PHYSICAL_FORCE_RESTRAINT_USED_FLAG                              10474 non-null object\n",
            "PHYSICAL_FORCE_VERBAL_INSTRUCTION_FLAG                          10474 non-null object\n",
            "PHYSICAL_FORCE_WEAPON_IMPACT_FLAG                               10474 non-null object\n",
            "BACKROUND_CIRCUMSTANCES_VIOLENT_CRIME_FLAG                      10474 non-null object\n",
            "BACKROUND_CIRCUMSTANCES_SUSPECT_KNOWN_TO_CARRY_WEAPON_FLAG      10474 non-null object\n",
            "SUSPECTS_ACTIONS_CASING_FLAG                                    10474 non-null object\n",
            "SUSPECTS_ACTIONS_CONCEALED_POSSESSION_WEAPON_FLAG               10474 non-null object\n",
            "SUSPECTS_ACTIONS_DECRIPTION_FLAG                                10474 non-null object\n",
            "SUSPECTS_ACTIONS_DRUG_TRANSACTIONS_FLAG                         10474 non-null object\n",
            "SUSPECTS_ACTIONS_IDENTIFY_CRIME_PATTERN_FLAG                    10474 non-null object\n",
            "SUSPECTS_ACTIONS_LOOKOUT_FLAG                                   10474 non-null object\n",
            "SUSPECTS_ACTIONS_OTHER_FLAG                                     10474 non-null object\n",
            "SUSPECTS_ACTIONS_PROXIMITY_TO_SCENE_FLAG                        10474 non-null object\n",
            "SEARCH_BASIS_ADMISSION_FLAG                                     10474 non-null object\n",
            "SEARCH_BASIS_CONSENT_FLAG                                       10474 non-null object\n",
            "SEARCH_BASIS_HARD_OBJECT_FLAG                                   10474 non-null object\n",
            "SEARCH_BASIS_INCIDENTAL_TO_ARREST_FLAG                          10474 non-null object\n",
            "SEARCH_BASIS_OTHER_FLAG                                         10474 non-null object\n",
            "SEARCH_BASIS_OUTLINE_FLAG                                       10474 non-null object\n",
            "SUSPECT_SEX                                                     10474 non-null object\n",
            "SUSPECT_RACE_DESCRIPTION                                        10474 non-null object\n",
            "SUSPECT_HEIGHT                                                  10474 non-null float64\n",
            "SUSPECT_WEIGHT                                                  10474 non-null float64\n",
            "SUSPECT_BODY_BUILD_TYPE                                         10474 non-null object\n",
            "SUSPECT_EYE_COLOR                                               10474 non-null object\n",
            "SUSPECT_HAIR_COLOR                                              10474 non-null object\n",
            "STOP_LOCATION_PRECINCT                                          10474 non-null int64\n",
            "STOP_LOCATION_SECTOR_CODE                                       10474 non-null object\n",
            "STOP_LOCATION_PATROL_BORO_NAME                                  10474 non-null object\n",
            "STOP_LOCATION_BORO_NAME                                         10474 non-null object\n",
            "age_bin                                                         10474 non-null object\n",
            "dtypes: float64(2), int64(4), object(57)\n",
            "memory usage: 5.0+ MB\n"
          ],
          "name": "stdout"
        }
      ]
    },
    {
      "cell_type": "code",
      "metadata": {
        "id": "Wau94xvrGC3-",
        "colab_type": "code",
        "colab": {
          "base_uri": "https://localhost:8080/",
          "height": 1000
        },
        "outputId": "8740793b-ce11-4ca0-c8a3-93862498db3e"
      },
      "source": [
        "cleaned_df = cleaned_df.drop(columns='STOP_LOCATION_PRECINCT')\n",
        "cleaned_df.info()"
      ],
      "execution_count": 17,
      "outputs": [
        {
          "output_type": "stream",
          "text": [
            "<class 'pandas.core.frame.DataFrame'>\n",
            "RangeIndex: 10474 entries, 0 to 10473\n",
            "Data columns (total 62 columns):\n",
            "Unnamed: 0                                                      10474 non-null int64\n",
            "MONTH2                                                          10474 non-null object\n",
            "DAY2                                                            10474 non-null object\n",
            "STOP_WAS_INITIATED                                              10474 non-null object\n",
            "ISSUING_OFFICER_RANK                                            10474 non-null object\n",
            "SUPERVISING_OFFICER_RANK                                        10474 non-null object\n",
            "SUPERVISING_ACTION_CORRESPONDING_ACTIVITY_LOG_ENTRY_REVIEWED    10474 non-null object\n",
            "JURISDICTION_DESCRIPTION                                        10474 non-null object\n",
            "OBSERVED_DURATION_MINUTES                                       10474 non-null int64\n",
            "SUSPECTED_CRIME_DESCRIPTION                                     10474 non-null object\n",
            "STOP_DURATION_MINUTES                                           10474 non-null int64\n",
            "OFFICER_EXPLAINED_STOP_FLAG                                     10474 non-null object\n",
            "OTHER_PERSON_STOPPED_FLAG                                       10474 non-null object\n",
            "SUSPECT_ARRESTED_FLAG                                           10474 non-null object\n",
            "SUSPECT_ARREST_OFFENSE                                          10474 non-null object\n",
            "SUMMONS_ISSUED_FLAG                                             10474 non-null object\n",
            "OFFICER_IN_UNIFORM_FLAG                                         10474 non-null object\n",
            "ID_CARD_IDENTIFIES_OFFICER_FLAG                                 10474 non-null object\n",
            "SHIELD_IDENTIFIES_OFFICER_FLAG                                  10474 non-null object\n",
            "VERBAL_IDENTIFIES_OFFICER_FLAG                                  10474 non-null object\n",
            "FRISKED_FLAG                                                    10474 non-null object\n",
            "SEARCHED_FLAG                                                   10474 non-null object\n",
            "OTHER_CONTRABAND_FLAG                                           10474 non-null object\n",
            "FIREARM_FLAG                                                    10474 non-null object\n",
            "KNIFE_CUTTER_FLAG                                               10474 non-null object\n",
            "OTHER_WEAPON_FLAG                                               10474 non-null object\n",
            "WEAPON_FOUND_FLAG                                               10474 non-null object\n",
            "PHYSICAL_FORCE_CEW_FLAG                                         10474 non-null object\n",
            "PHYSICAL_FORCE_DRAW_POINT_FIREARM_FLAG                          10474 non-null object\n",
            "PHYSICAL_FORCE_HANDCUFF_SUSPECT_FLAG                            10474 non-null object\n",
            "PHYSICAL_FORCE_OC_SPRAY_USED_FLAG                               10474 non-null object\n",
            "PHYSICAL_FORCE_OTHER_FLAG                                       10474 non-null object\n",
            "PHYSICAL_FORCE_RESTRAINT_USED_FLAG                              10474 non-null object\n",
            "PHYSICAL_FORCE_VERBAL_INSTRUCTION_FLAG                          10474 non-null object\n",
            "PHYSICAL_FORCE_WEAPON_IMPACT_FLAG                               10474 non-null object\n",
            "BACKROUND_CIRCUMSTANCES_VIOLENT_CRIME_FLAG                      10474 non-null object\n",
            "BACKROUND_CIRCUMSTANCES_SUSPECT_KNOWN_TO_CARRY_WEAPON_FLAG      10474 non-null object\n",
            "SUSPECTS_ACTIONS_CASING_FLAG                                    10474 non-null object\n",
            "SUSPECTS_ACTIONS_CONCEALED_POSSESSION_WEAPON_FLAG               10474 non-null object\n",
            "SUSPECTS_ACTIONS_DECRIPTION_FLAG                                10474 non-null object\n",
            "SUSPECTS_ACTIONS_DRUG_TRANSACTIONS_FLAG                         10474 non-null object\n",
            "SUSPECTS_ACTIONS_IDENTIFY_CRIME_PATTERN_FLAG                    10474 non-null object\n",
            "SUSPECTS_ACTIONS_LOOKOUT_FLAG                                   10474 non-null object\n",
            "SUSPECTS_ACTIONS_OTHER_FLAG                                     10474 non-null object\n",
            "SUSPECTS_ACTIONS_PROXIMITY_TO_SCENE_FLAG                        10474 non-null object\n",
            "SEARCH_BASIS_ADMISSION_FLAG                                     10474 non-null object\n",
            "SEARCH_BASIS_CONSENT_FLAG                                       10474 non-null object\n",
            "SEARCH_BASIS_HARD_OBJECT_FLAG                                   10474 non-null object\n",
            "SEARCH_BASIS_INCIDENTAL_TO_ARREST_FLAG                          10474 non-null object\n",
            "SEARCH_BASIS_OTHER_FLAG                                         10474 non-null object\n",
            "SEARCH_BASIS_OUTLINE_FLAG                                       10474 non-null object\n",
            "SUSPECT_SEX                                                     10474 non-null object\n",
            "SUSPECT_RACE_DESCRIPTION                                        10474 non-null object\n",
            "SUSPECT_HEIGHT                                                  10474 non-null float64\n",
            "SUSPECT_WEIGHT                                                  10474 non-null float64\n",
            "SUSPECT_BODY_BUILD_TYPE                                         10474 non-null object\n",
            "SUSPECT_EYE_COLOR                                               10474 non-null object\n",
            "SUSPECT_HAIR_COLOR                                              10474 non-null object\n",
            "STOP_LOCATION_SECTOR_CODE                                       10474 non-null object\n",
            "STOP_LOCATION_PATROL_BORO_NAME                                  10474 non-null object\n",
            "STOP_LOCATION_BORO_NAME                                         10474 non-null object\n",
            "age_bin                                                         10474 non-null object\n",
            "dtypes: float64(2), int64(3), object(57)\n",
            "memory usage: 5.0+ MB\n"
          ],
          "name": "stdout"
        }
      ]
    },
    {
      "cell_type": "code",
      "metadata": {
        "id": "FJtKII7V9Qpy",
        "colab_type": "code",
        "colab": {}
      },
      "source": [
        "X = cleaned_df.drop('SUSPECT_ARRESTED_FLAG', axis = 1)\n",
        "y = cleaned_df.SUSPECT_ARRESTED_FLAG"
      ],
      "execution_count": 0,
      "outputs": []
    },
    {
      "cell_type": "code",
      "metadata": {
        "id": "iLaJLIGO-oJG",
        "colab_type": "code",
        "colab": {}
      },
      "source": [
        "from sklearn.preprocessing import OneHotEncoder\n",
        "from sklearn.ensemble import RandomForestClassifier\n",
        "from sklearn.impute import SimpleImputer\n",
        "from sklearn.model_selection import train_test_split\n",
        "from sklearn.pipeline import Pipeline\n",
        "from sklearn.inspection import permutation_importance\n",
        "from sklearn.compose import ColumnTransformer\n",
        "from sklearn.preprocessing import StandardScaler"
      ],
      "execution_count": 0,
      "outputs": []
    },
    {
      "cell_type": "code",
      "metadata": {
        "id": "omgcMyRpBEeW",
        "colab_type": "code",
        "colab": {}
      },
      "source": [
        "X_train, X_test, y_train, y_test = train_test_split(\n",
        "  X, y, test_size= 0.2, stratify=y, random_state=345)\n",
        "\n",
        "\n"
      ],
      "execution_count": 0,
      "outputs": []
    },
    {
      "cell_type": "code",
      "metadata": {
        "id": "WNaCdeq4JYVE",
        "colab_type": "code",
        "colab": {}
      },
      "source": [
        "\n",
        "X_train_num = [\"OBSERVED_DURATION_MINUTES\", \"STOP_DURATION_MINUTES\", \"SUSPECT_HEIGHT\", \"SUSPECT_WEIGHT\"]\n",
        "X_train_cat = [\"OBSERVED_DURATION_MINUTES\", \"STOP_DURATION_MINUTES\", \"SUSPECT_HEIGHT\", \"SUSPECT_WEIGHT\"]\n",
        "\n",
        "#X = X[categorical_columns + numerical_columns]"
      ],
      "execution_count": 0,
      "outputs": []
    },
    {
      "cell_type": "code",
      "metadata": {
        "id": "wc96hgoJFOjE",
        "colab_type": "code",
        "colab": {
          "base_uri": "https://localhost:8080/",
          "height": 510
        },
        "outputId": "727f974b-d2ba-499e-be8e-ccfc1b806b51"
      },
      "source": [
        "\n",
        "\n",
        "\n",
        "\n",
        "X_train, X_test, y_train, y_test = train_test_split(\n",
        "    X, y, stratify=y, random_state=42)\n",
        "\n",
        "categorical_pipe = Pipeline([\n",
        "    ('imputer', SimpleImputer(strategy='constant' )),\n",
        "    ('onehot', OneHotEncoder(handle_unknown='ignore'))\n",
        "])\n",
        "numerical_pipe = Pipeline([\n",
        "    ('scale', StandardScaler())\n",
        " ])\n",
        "\n",
        "preprocessing = ColumnTransformer(\n",
        "    [('cat', categorical_pipe, X_train_cat),\n",
        "     ('num', numerical_pipe, X_train_num)])\n",
        "\n",
        "rf = Pipeline([\n",
        "    ('preprocess', preprocessing),\n",
        "    ('classifier', RandomForestClassifier(random_state=42))\n",
        "])\n",
        "rf.fit(X_train, y_train)"
      ],
      "execution_count": 43,
      "outputs": [
        {
          "output_type": "execute_result",
          "data": {
            "text/plain": [
              "Pipeline(memory=None,\n",
              "         steps=[('preprocess',\n",
              "                 ColumnTransformer(n_jobs=None, remainder='drop',\n",
              "                                   sparse_threshold=0.3,\n",
              "                                   transformer_weights=None,\n",
              "                                   transformers=[('cat',\n",
              "                                                  Pipeline(memory=None,\n",
              "                                                           steps=[('imputer',\n",
              "                                                                   SimpleImputer(add_indicator=False,\n",
              "                                                                                 copy=True,\n",
              "                                                                                 fill_value=None,\n",
              "                                                                                 missing_values=nan,\n",
              "                                                                                 strategy='constant',\n",
              "                                                                                 verbose=0)),\n",
              "                                                                  ('onehot',\n",
              "                                                                   OneHotEncoder(categories='auto',\n",
              "                                                                                 dr...\n",
              "                 RandomForestClassifier(bootstrap=True, ccp_alpha=0.0,\n",
              "                                        class_weight=None, criterion='gini',\n",
              "                                        max_depth=None, max_features='auto',\n",
              "                                        max_leaf_nodes=None, max_samples=None,\n",
              "                                        min_impurity_decrease=0.0,\n",
              "                                        min_impurity_split=None,\n",
              "                                        min_samples_leaf=1, min_samples_split=2,\n",
              "                                        min_weight_fraction_leaf=0.0,\n",
              "                                        n_estimators=100, n_jobs=None,\n",
              "                                        oob_score=False, random_state=42,\n",
              "                                        verbose=0, warm_start=False))],\n",
              "         verbose=False)"
            ]
          },
          "metadata": {
            "tags": []
          },
          "execution_count": 43
        }
      ]
    },
    {
      "cell_type": "code",
      "metadata": {
        "id": "NvSggEUUIagz",
        "colab_type": "code",
        "colab": {
          "base_uri": "https://localhost:8080/",
          "height": 51
        },
        "outputId": "627b6904-9586-4932-b6fc-ed67636214d9"
      },
      "source": [
        "print(\"RF train accuracy: %0.3f\" % rf.score(X_train, y_train))\n",
        "print(\"RF test accuracy: %0.3f\" % rf.score(X_test, y_test))"
      ],
      "execution_count": 44,
      "outputs": [
        {
          "output_type": "stream",
          "text": [
            "RF train accuracy: 0.886\n",
            "RF test accuracy: 0.670\n"
          ],
          "name": "stdout"
        }
      ]
    },
    {
      "cell_type": "code",
      "metadata": {
        "id": "PsIYhBMjLTFT",
        "colab_type": "code",
        "colab": {}
      },
      "source": [
        ""
      ],
      "execution_count": 0,
      "outputs": []
    }
  ]
}
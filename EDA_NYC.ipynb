{
  "nbformat": 4,
  "nbformat_minor": 0,
  "metadata": {
    "colab": {
      "name": "EDA NYC.ipynb",
      "provenance": [],
      "authorship_tag": "ABX9TyN8HxNIQTWEKmuIyeIFdWcv",
      "include_colab_link": true
    },
    "kernelspec": {
      "name": "python3",
      "display_name": "Python 3"
    }
  },
  "cells": [
    {
      "cell_type": "markdown",
      "metadata": {
        "id": "view-in-github",
        "colab_type": "text"
      },
      "source": [
        "<a href=\"https://colab.research.google.com/github/smw150430/NYPD-Frisk/blob/anesu/EDA_NYC.ipynb\" target=\"_parent\"><img src=\"https://colab.research.google.com/assets/colab-badge.svg\" alt=\"Open In Colab\"/></a>"
      ]
    },
    {
      "cell_type": "code",
      "metadata": {
        "id": "MPUQOTYM1HaY",
        "colab_type": "code",
        "colab": {}
      },
      "source": [
        "import pandas as pd\n",
        "import seaborn as sns\n",
        "import numpy as np\n",
        "import matplotlib.pyplot as plt"
      ],
      "execution_count": 0,
      "outputs": []
    },
    {
      "cell_type": "code",
      "metadata": {
        "id": "lVXyaLg2zW65",
        "colab_type": "code",
        "colab": {}
      },
      "source": [
        "https://drive.google.com/drive/u/0/my-drive"
      ],
      "execution_count": 0,
      "outputs": []
    },
    {
      "cell_type": "code",
      "metadata": {
        "id": "tHsTg0x51z5m",
        "colab_type": "code",
        "colab": {
          "base_uri": "https://localhost:8080/",
          "height": 122
        },
        "outputId": "e42bc240-fb0d-4c25-fc67-0a86a13d4e5f"
      },
      "source": [
        "#Mounting Google Drive\n",
        "from google.colab import drive\n",
        "drive.mount('/content/drive')"
      ],
      "execution_count": 3,
      "outputs": [
        {
          "output_type": "stream",
          "text": [
            "Go to this URL in a browser: https://accounts.google.com/o/oauth2/auth?client_id=947318989803-6bn6qk8qdgf4n4g3pfee6491hc0brc4i.apps.googleusercontent.com&redirect_uri=urn%3aietf%3awg%3aoauth%3a2.0%3aoob&response_type=code&scope=email%20https%3a%2f%2fwww.googleapis.com%2fauth%2fdocs.test%20https%3a%2f%2fwww.googleapis.com%2fauth%2fdrive%20https%3a%2f%2fwww.googleapis.com%2fauth%2fdrive.photos.readonly%20https%3a%2f%2fwww.googleapis.com%2fauth%2fpeopleapi.readonly\n",
            "\n",
            "Enter your authorization code:\n",
            "··········\n",
            "Mounted at /content/drive\n"
          ],
          "name": "stdout"
        }
      ]
    },
    {
      "cell_type": "code",
      "metadata": {
        "id": "pzy_632R2a2k",
        "colab_type": "code",
        "colab": {}
      },
      "source": [
        ""
      ],
      "execution_count": 0,
      "outputs": []
    },
    {
      "cell_type": "code",
      "metadata": {
        "id": "2I2ZIPb83HQx",
        "colab_type": "code",
        "colab": {
          "base_uri": "https://localhost:8080/",
          "height": 54
        },
        "outputId": "39bda4c3-2e8c-4193-c49c-5276669052e1"
      },
      "source": [
        "from google.colab import drive\n",
        "drive.mount('/content/drive')"
      ],
      "execution_count": 6,
      "outputs": [
        {
          "output_type": "stream",
          "text": [
            "Drive already mounted at /content/drive; to attempt to forcibly remount, call drive.mount(\"/content/drive\", force_remount=True).\n"
          ],
          "name": "stdout"
        }
      ]
    },
    {
      "cell_type": "code",
      "metadata": {
        "id": "iIKVY_Ar3Jmv",
        "colab_type": "code",
        "colab": {
          "base_uri": "https://localhost:8080/",
          "height": 1000
        },
        "outputId": "ff619c7d-e65b-4e09-9f5d-9c8816715c45"
      },
      "source": [
        "path = \"/content/drive/My Drive/sqf-2018.xlsx\"\n",
        "unclean_df = pd.read_excel(path)\n",
        "unclean_df.info()"
      ],
      "execution_count": 7,
      "outputs": [
        {
          "output_type": "stream",
          "text": [
            "<class 'pandas.core.frame.DataFrame'>\n",
            "RangeIndex: 11008 entries, 0 to 11007\n",
            "Data columns (total 83 columns):\n",
            "STOP_FRISK_ID                                                   11008 non-null int64\n",
            "STOP_FRISK_DATE                                                 11008 non-null datetime64[ns]\n",
            "Stop Frisk Time                                                 11006 non-null object\n",
            "YEAR2                                                           11008 non-null int64\n",
            "MONTH2                                                          11008 non-null object\n",
            "DAY2                                                            11008 non-null object\n",
            "STOP_WAS_INITIATED                                              11008 non-null object\n",
            "RECORD_STATUS_CODE                                              11008 non-null object\n",
            "ISSUING_OFFICER_RANK                                            11008 non-null object\n",
            "ISSUING_OFFICER_COMMAND_CODE                                    11008 non-null int64\n",
            "SUPERVISING_OFFICER_RANK                                        11008 non-null object\n",
            "SUPERVISING_OFFICER_COMMAND_CODE                                11008 non-null int64\n",
            "SUPERVISING_ACTION_CORRESPONDING_ACTIVITY_LOG_ENTRY_REVIEWED    11008 non-null object\n",
            "LOCATION_IN_OUT_CODE                                            11008 non-null object\n",
            "JURISDICTION_CODE                                               11008 non-null object\n",
            "JURISDICTION_DESCRIPTION                                        11008 non-null object\n",
            "OBSERVED_DURATION_MINUTES                                       11008 non-null int64\n",
            "SUSPECTED_CRIME_DESCRIPTION                                     11008 non-null object\n",
            "STOP_DURATION_MINUTES                                           11008 non-null int64\n",
            "OFFICER_EXPLAINED_STOP_FLAG                                     11008 non-null object\n",
            "OFFICER_NOT_EXPLAINED_STOP_DESCRIPTION                          11007 non-null object\n",
            "OTHER_PERSON_STOPPED_FLAG                                       11008 non-null object\n",
            "SUSPECT_ARRESTED_FLAG                                           11008 non-null object\n",
            "SUSPECT_ARREST_OFFENSE                                          11008 non-null object\n",
            "SUMMONS_ISSUED_FLAG                                             11008 non-null object\n",
            "SUMMONS_OFFENSE_DESCRIPTION                                     11008 non-null object\n",
            "OFFICER_IN_UNIFORM_FLAG                                         11008 non-null object\n",
            "ID_CARD_IDENTIFIES_OFFICER_FLAG                                 11008 non-null object\n",
            "SHIELD_IDENTIFIES_OFFICER_FLAG                                  11008 non-null object\n",
            "VERBAL_IDENTIFIES_OFFICER_FLAG                                  11008 non-null object\n",
            "FRISKED_FLAG                                                    11008 non-null object\n",
            "SEARCHED_FLAG                                                   11008 non-null object\n",
            "OTHER_CONTRABAND_FLAG                                           11008 non-null object\n",
            "FIREARM_FLAG                                                    11008 non-null object\n",
            "KNIFE_CUTTER_FLAG                                               11008 non-null object\n",
            "OTHER_WEAPON_FLAG                                               11008 non-null object\n",
            "WEAPON_FOUND_FLAG                                               11008 non-null object\n",
            "PHYSICAL_FORCE_CEW_FLAG                                         11008 non-null object\n",
            "PHYSICAL_FORCE_DRAW_POINT_FIREARM_FLAG                          11008 non-null object\n",
            "PHYSICAL_FORCE_HANDCUFF_SUSPECT_FLAG                            11008 non-null object\n",
            "PHYSICAL_FORCE_OC_SPRAY_USED_FLAG                               11008 non-null object\n",
            "PHYSICAL_FORCE_OTHER_FLAG                                       11008 non-null object\n",
            "PHYSICAL_FORCE_RESTRAINT_USED_FLAG                              11008 non-null object\n",
            "PHYSICAL_FORCE_VERBAL_INSTRUCTION_FLAG                          11008 non-null object\n",
            "PHYSICAL_FORCE_WEAPON_IMPACT_FLAG                               11008 non-null object\n",
            "BACKROUND_CIRCUMSTANCES_VIOLENT_CRIME_FLAG                      11008 non-null object\n",
            "BACKROUND_CIRCUMSTANCES_SUSPECT_KNOWN_TO_CARRY_WEAPON_FLAG      11008 non-null object\n",
            "SUSPECTS_ACTIONS_CASING_FLAG                                    11008 non-null object\n",
            "SUSPECTS_ACTIONS_CONCEALED_POSSESSION_WEAPON_FLAG               11008 non-null object\n",
            "SUSPECTS_ACTIONS_DECRIPTION_FLAG                                11008 non-null object\n",
            "SUSPECTS_ACTIONS_DRUG_TRANSACTIONS_FLAG                         11008 non-null object\n",
            "SUSPECTS_ACTIONS_IDENTIFY_CRIME_PATTERN_FLAG                    11008 non-null object\n",
            "SUSPECTS_ACTIONS_LOOKOUT_FLAG                                   11008 non-null object\n",
            "SUSPECTS_ACTIONS_OTHER_FLAG                                     11008 non-null object\n",
            "SUSPECTS_ACTIONS_PROXIMITY_TO_SCENE_FLAG                        11008 non-null object\n",
            "SEARCH_BASIS_ADMISSION_FLAG                                     11008 non-null object\n",
            "SEARCH_BASIS_CONSENT_FLAG                                       11008 non-null object\n",
            "SEARCH_BASIS_HARD_OBJECT_FLAG                                   11008 non-null object\n",
            "SEARCH_BASIS_INCIDENTAL_TO_ARREST_FLAG                          11008 non-null object\n",
            "SEARCH_BASIS_OTHER_FLAG                                         11008 non-null object\n",
            "SEARCH_BASIS_OUTLINE_FLAG                                       11008 non-null object\n",
            "DEMEANOR_CODE                                                   9942 non-null object\n",
            "DEMEANOR_OF_PERSON_STOPPED                                      9896 non-null object\n",
            "SUSPECT_REPORTED_AGE                                            11008 non-null object\n",
            "SUSPECT_SEX                                                     11008 non-null object\n",
            "SUSPECT_RACE_DESCRIPTION                                        11008 non-null object\n",
            "SUSPECT_HEIGHT                                                  11008 non-null object\n",
            "SUSPECT_WEIGHT                                                  11008 non-null object\n",
            "SUSPECT_BODY_BUILD_TYPE                                         11008 non-null object\n",
            "SUSPECT_EYE_COLOR                                               11008 non-null object\n",
            "SUSPECT_HAIR_COLOR                                              11008 non-null object\n",
            "SUSPECT_OTHER_DESCRIPTION                                       10136 non-null object\n",
            "STOP_LOCATION_PRECINCT                                          11008 non-null int64\n",
            "STOP_LOCATION_SECTOR_CODE                                       11008 non-null object\n",
            "STOP_LOCATION_APARTMENT                                         10981 non-null object\n",
            "STOP_LOCATION_FULL_ADDRESS                                      11008 non-null object\n",
            "STOP_LOCATION_PREMISES_NAME                                     11008 non-null object\n",
            "STOP_LOCATION_STREET_NAME                                       11008 non-null object\n",
            "STOP_LOCATION_X                                                 11008 non-null int64\n",
            "STOP_LOCATION_Y                                                 11008 non-null int64\n",
            "STOP_LOCATION_ZIP_CODE                                          11008 non-null object\n",
            "STOP_LOCATION_PATROL_BORO_NAME                                  11008 non-null object\n",
            "STOP_LOCATION_BORO_NAME                                         11008 non-null object\n",
            "dtypes: datetime64[ns](1), int64(9), object(73)\n",
            "memory usage: 7.0+ MB\n"
          ],
          "name": "stdout"
        }
      ]
    },
    {
      "cell_type": "code",
      "metadata": {
        "id": "1ZdTN9A23dk1",
        "colab_type": "code",
        "colab": {}
      },
      "source": [
        ""
      ],
      "execution_count": 0,
      "outputs": []
    }
  ]
}
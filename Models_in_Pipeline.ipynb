{
 "cells": [
  {
   "cell_type": "markdown",
   "metadata": {
    "colab_type": "text",
    "id": "view-in-github"
   },
   "source": [
    "<a href=\"https://colab.research.google.com/github/smw150430/NYPD-Frisk/blob/master/Models_in_Pipeline.ipynb\" target=\"_parent\"><img src=\"https://colab.research.google.com/assets/colab-badge.svg\" alt=\"Open In Colab\"/></a>"
   ]
  },
  {
   "cell_type": "code",
   "execution_count": 0,
   "metadata": {
    "colab": {},
    "colab_type": "code",
    "id": "UENiu6fxd9_N"
   },
   "outputs": [],
   "source": [
    "import pandas as pd\n",
    "import seaborn as sns\n",
    "import numpy as np\n",
    "import matplotlib.pyplot as plt\n",
    "from sklearn.model_selection import train_test_split\n",
    "from sklearn.preprocessing import OneHotEncoder\n",
    "from sklearn.ensemble import RandomForestClassifier\n",
    "from sklearn.impute import SimpleImputer\n",
    "from sklearn.model_selection import train_test_split\n",
    "from sklearn.pipeline import Pipeline\n",
    "from sklearn.inspection import permutation_importance\n",
    "from sklearn.compose import ColumnTransformer\n",
    "from sklearn.preprocessing import StandardScaler\n"
   ]
  },
  {
   "cell_type": "code",
   "execution_count": 2,
   "metadata": {
    "colab": {
     "base_uri": "https://localhost:8080/",
     "height": 122
    },
    "colab_type": "code",
    "id": "TTE5S86reDuI",
    "outputId": "2b47e0f9-e0b4-4117-b434-d07cd5898bd5"
   },
   "outputs": [
    {
     "name": "stdout",
     "output_type": "stream",
     "text": [
      "Go to this URL in a browser: https://accounts.google.com/o/oauth2/auth?client_id=947318989803-6bn6qk8qdgf4n4g3pfee6491hc0brc4i.apps.googleusercontent.com&redirect_uri=urn%3aietf%3awg%3aoauth%3a2.0%3aoob&response_type=code&scope=email%20https%3a%2f%2fwww.googleapis.com%2fauth%2fdocs.test%20https%3a%2f%2fwww.googleapis.com%2fauth%2fdrive%20https%3a%2f%2fwww.googleapis.com%2fauth%2fdrive.photos.readonly%20https%3a%2f%2fwww.googleapis.com%2fauth%2fpeopleapi.readonly\n",
      "\n",
      "Enter your authorization code:\n",
      "··········\n",
      "Mounted at /content/drive\n"
     ]
    }
   ],
   "source": [
    "#Mounting Google Drive\n",
    "from google.colab import drive\n",
    "drive.mount('/content/drive')"
   ]
  },
  {
   "cell_type": "code",
   "execution_count": 4,
   "metadata": {
    "colab": {
     "base_uri": "https://localhost:8080/",
     "height": 122
    },
    "colab_type": "code",
    "id": "1TjP5d9eeP72",
    "outputId": "b75539f5-bf65-4ee3-bafe-51edd0c59611"
   },
   "outputs": [
    {
     "name": "stdout",
     "output_type": "stream",
     "text": [
      "Go to this URL in a browser: https://accounts.google.com/o/oauth2/auth?client_id=947318989803-6bn6qk8qdgf4n4g3pfee6491hc0brc4i.apps.googleusercontent.com&redirect_uri=urn%3aietf%3awg%3aoauth%3a2.0%3aoob&response_type=code&scope=email%20https%3a%2f%2fwww.googleapis.com%2fauth%2fdocs.test%20https%3a%2f%2fwww.googleapis.com%2fauth%2fdrive%20https%3a%2f%2fwww.googleapis.com%2fauth%2fdrive.photos.readonly%20https%3a%2f%2fwww.googleapis.com%2fauth%2fpeopleapi.readonly\n",
      "\n",
      "Enter your authorization code:\n",
      "··········\n",
      "Mounted at /content/drive\n"
     ]
    }
   ],
   "source": [
    "from google.colab import drive\n",
    "drive.mount('/content/drive')"
   ]
  },
  {
   "cell_type": "code",
   "execution_count": 5,
   "metadata": {
    "colab": {
     "base_uri": "https://localhost:8080/",
     "height": 1000
    },
    "colab_type": "code",
    "id": "04pPWNRmeRbT",
    "outputId": "e471fa06-62f0-41a7-8013-c922f56766a8"
   },
   "outputs": [
    {
     "name": "stdout",
     "output_type": "stream",
     "text": [
      "<class 'pandas.core.frame.DataFrame'>\n",
      "Int64Index: 10474 entries, 0 to 11007\n",
      "Data columns (total 63 columns):\n",
      "MONTH2                                                          10474 non-null object\n",
      "DAY2                                                            10474 non-null object\n",
      "STOP_WAS_INITIATED                                              10474 non-null object\n",
      "ISSUING_OFFICER_RANK                                            10474 non-null object\n",
      "SUPERVISING_OFFICER_RANK                                        10474 non-null object\n",
      "SUPERVISING_ACTION_CORRESPONDING_ACTIVITY_LOG_ENTRY_REVIEWED    10474 non-null object\n",
      "JURISDICTION_DESCRIPTION                                        10474 non-null object\n",
      "OBSERVED_DURATION_MINUTES                                       10474 non-null int64\n",
      "SUSPECTED_CRIME_DESCRIPTION                                     10474 non-null object\n",
      "STOP_DURATION_MINUTES                                           10474 non-null int64\n",
      "OFFICER_EXPLAINED_STOP_FLAG                                     10474 non-null object\n",
      "OTHER_PERSON_STOPPED_FLAG                                       10474 non-null object\n",
      "SUSPECT_ARRESTED_FLAG                                           10474 non-null object\n",
      "SUSPECT_ARREST_OFFENSE                                          10474 non-null object\n",
      "SUMMONS_ISSUED_FLAG                                             10474 non-null object\n",
      "OFFICER_IN_UNIFORM_FLAG                                         10474 non-null object\n",
      "ID_CARD_IDENTIFIES_OFFICER_FLAG                                 10474 non-null object\n",
      "SHIELD_IDENTIFIES_OFFICER_FLAG                                  10474 non-null object\n",
      "VERBAL_IDENTIFIES_OFFICER_FLAG                                  10474 non-null object\n",
      "FRISKED_FLAG                                                    10474 non-null object\n",
      "SEARCHED_FLAG                                                   10474 non-null object\n",
      "OTHER_CONTRABAND_FLAG                                           10474 non-null object\n",
      "FIREARM_FLAG                                                    10474 non-null object\n",
      "KNIFE_CUTTER_FLAG                                               10474 non-null object\n",
      "OTHER_WEAPON_FLAG                                               10474 non-null object\n",
      "WEAPON_FOUND_FLAG                                               10474 non-null object\n",
      "PHYSICAL_FORCE_CEW_FLAG                                         10474 non-null object\n",
      "PHYSICAL_FORCE_DRAW_POINT_FIREARM_FLAG                          10474 non-null object\n",
      "PHYSICAL_FORCE_HANDCUFF_SUSPECT_FLAG                            10474 non-null object\n",
      "PHYSICAL_FORCE_OC_SPRAY_USED_FLAG                               10474 non-null object\n",
      "PHYSICAL_FORCE_OTHER_FLAG                                       10474 non-null object\n",
      "PHYSICAL_FORCE_RESTRAINT_USED_FLAG                              10474 non-null object\n",
      "PHYSICAL_FORCE_VERBAL_INSTRUCTION_FLAG                          10474 non-null object\n",
      "PHYSICAL_FORCE_WEAPON_IMPACT_FLAG                               10474 non-null object\n",
      "BACKROUND_CIRCUMSTANCES_VIOLENT_CRIME_FLAG                      10474 non-null object\n",
      "BACKROUND_CIRCUMSTANCES_SUSPECT_KNOWN_TO_CARRY_WEAPON_FLAG      10474 non-null object\n",
      "SUSPECTS_ACTIONS_CASING_FLAG                                    10474 non-null object\n",
      "SUSPECTS_ACTIONS_CONCEALED_POSSESSION_WEAPON_FLAG               10474 non-null object\n",
      "SUSPECTS_ACTIONS_DECRIPTION_FLAG                                10474 non-null object\n",
      "SUSPECTS_ACTIONS_DRUG_TRANSACTIONS_FLAG                         10474 non-null object\n",
      "SUSPECTS_ACTIONS_IDENTIFY_CRIME_PATTERN_FLAG                    10474 non-null object\n",
      "SUSPECTS_ACTIONS_LOOKOUT_FLAG                                   10474 non-null object\n",
      "SUSPECTS_ACTIONS_OTHER_FLAG                                     10474 non-null object\n",
      "SUSPECTS_ACTIONS_PROXIMITY_TO_SCENE_FLAG                        10474 non-null object\n",
      "SEARCH_BASIS_ADMISSION_FLAG                                     10474 non-null object\n",
      "SEARCH_BASIS_CONSENT_FLAG                                       10474 non-null object\n",
      "SEARCH_BASIS_HARD_OBJECT_FLAG                                   10474 non-null object\n",
      "SEARCH_BASIS_INCIDENTAL_TO_ARREST_FLAG                          10474 non-null object\n",
      "SEARCH_BASIS_OTHER_FLAG                                         10474 non-null object\n",
      "SEARCH_BASIS_OUTLINE_FLAG                                       10474 non-null object\n",
      "DEMEANOR_CODE                                                   9531 non-null object\n",
      "SUSPECT_SEX                                                     10474 non-null object\n",
      "SUSPECT_RACE_DESCRIPTION                                        10474 non-null object\n",
      "SUSPECT_HEIGHT                                                  10474 non-null float64\n",
      "SUSPECT_WEIGHT                                                  10474 non-null float64\n",
      "SUSPECT_BODY_BUILD_TYPE                                         10474 non-null object\n",
      "SUSPECT_EYE_COLOR                                               10474 non-null object\n",
      "SUSPECT_HAIR_COLOR                                              10474 non-null object\n",
      "STOP_LOCATION_PRECINCT                                          10474 non-null int64\n",
      "STOP_LOCATION_SECTOR_CODE                                       10474 non-null object\n",
      "STOP_LOCATION_PATROL_BORO_NAME                                  10474 non-null object\n",
      "STOP_LOCATION_BORO_NAME                                         10474 non-null object\n",
      "age_bin                                                         10474 non-null object\n",
      "dtypes: float64(2), int64(3), object(58)\n",
      "memory usage: 5.1+ MB\n"
     ]
    }
   ],
   "source": [
    "path = \"/content/drive/My Drive/cleaned_df.csv\"\n",
    "df = pd.read_csv(path, index_col=0)\n",
    "df.info()"
   ]
  },
  {
   "cell_type": "code",
   "execution_count": 0,
   "metadata": {
    "colab": {},
    "colab_type": "code",
    "id": "hYoMtTSagd_j"
   },
   "outputs": [],
   "source": [
    "df = df.drop(columns='DEMEANOR_CODE')\n"
   ]
  },
  {
   "cell_type": "code",
   "execution_count": 0,
   "metadata": {
    "colab": {},
    "colab_type": "code",
    "id": "BcT_Vj_a_DCh"
   },
   "outputs": [],
   "source": [
    "df = df.drop(['SEARCH_BASIS_INCIDENTAL_TO_ARREST_FLAG', 'SUSPECT_ARREST_OFFENSE'], axis=1)"
   ]
  },
  {
   "cell_type": "code",
   "execution_count": 8,
   "metadata": {
    "colab": {
     "base_uri": "https://localhost:8080/",
     "height": 1000
    },
    "colab_type": "code",
    "id": "IxKjy6wL_mFz",
    "outputId": "4d8d10cf-4f9e-4228-fe69-57849180280f"
   },
   "outputs": [
    {
     "name": "stdout",
     "output_type": "stream",
     "text": [
      "<class 'pandas.core.frame.DataFrame'>\n",
      "Int64Index: 10474 entries, 0 to 11007\n",
      "Data columns (total 60 columns):\n",
      "MONTH2                                                          10474 non-null object\n",
      "DAY2                                                            10474 non-null object\n",
      "STOP_WAS_INITIATED                                              10474 non-null object\n",
      "ISSUING_OFFICER_RANK                                            10474 non-null object\n",
      "SUPERVISING_OFFICER_RANK                                        10474 non-null object\n",
      "SUPERVISING_ACTION_CORRESPONDING_ACTIVITY_LOG_ENTRY_REVIEWED    10474 non-null object\n",
      "JURISDICTION_DESCRIPTION                                        10474 non-null object\n",
      "OBSERVED_DURATION_MINUTES                                       10474 non-null int64\n",
      "SUSPECTED_CRIME_DESCRIPTION                                     10474 non-null object\n",
      "STOP_DURATION_MINUTES                                           10474 non-null int64\n",
      "OFFICER_EXPLAINED_STOP_FLAG                                     10474 non-null object\n",
      "OTHER_PERSON_STOPPED_FLAG                                       10474 non-null object\n",
      "SUSPECT_ARRESTED_FLAG                                           10474 non-null object\n",
      "SUMMONS_ISSUED_FLAG                                             10474 non-null object\n",
      "OFFICER_IN_UNIFORM_FLAG                                         10474 non-null object\n",
      "ID_CARD_IDENTIFIES_OFFICER_FLAG                                 10474 non-null object\n",
      "SHIELD_IDENTIFIES_OFFICER_FLAG                                  10474 non-null object\n",
      "VERBAL_IDENTIFIES_OFFICER_FLAG                                  10474 non-null object\n",
      "FRISKED_FLAG                                                    10474 non-null object\n",
      "SEARCHED_FLAG                                                   10474 non-null object\n",
      "OTHER_CONTRABAND_FLAG                                           10474 non-null object\n",
      "FIREARM_FLAG                                                    10474 non-null object\n",
      "KNIFE_CUTTER_FLAG                                               10474 non-null object\n",
      "OTHER_WEAPON_FLAG                                               10474 non-null object\n",
      "WEAPON_FOUND_FLAG                                               10474 non-null object\n",
      "PHYSICAL_FORCE_CEW_FLAG                                         10474 non-null object\n",
      "PHYSICAL_FORCE_DRAW_POINT_FIREARM_FLAG                          10474 non-null object\n",
      "PHYSICAL_FORCE_HANDCUFF_SUSPECT_FLAG                            10474 non-null object\n",
      "PHYSICAL_FORCE_OC_SPRAY_USED_FLAG                               10474 non-null object\n",
      "PHYSICAL_FORCE_OTHER_FLAG                                       10474 non-null object\n",
      "PHYSICAL_FORCE_RESTRAINT_USED_FLAG                              10474 non-null object\n",
      "PHYSICAL_FORCE_VERBAL_INSTRUCTION_FLAG                          10474 non-null object\n",
      "PHYSICAL_FORCE_WEAPON_IMPACT_FLAG                               10474 non-null object\n",
      "BACKROUND_CIRCUMSTANCES_VIOLENT_CRIME_FLAG                      10474 non-null object\n",
      "BACKROUND_CIRCUMSTANCES_SUSPECT_KNOWN_TO_CARRY_WEAPON_FLAG      10474 non-null object\n",
      "SUSPECTS_ACTIONS_CASING_FLAG                                    10474 non-null object\n",
      "SUSPECTS_ACTIONS_CONCEALED_POSSESSION_WEAPON_FLAG               10474 non-null object\n",
      "SUSPECTS_ACTIONS_DECRIPTION_FLAG                                10474 non-null object\n",
      "SUSPECTS_ACTIONS_DRUG_TRANSACTIONS_FLAG                         10474 non-null object\n",
      "SUSPECTS_ACTIONS_IDENTIFY_CRIME_PATTERN_FLAG                    10474 non-null object\n",
      "SUSPECTS_ACTIONS_LOOKOUT_FLAG                                   10474 non-null object\n",
      "SUSPECTS_ACTIONS_OTHER_FLAG                                     10474 non-null object\n",
      "SUSPECTS_ACTIONS_PROXIMITY_TO_SCENE_FLAG                        10474 non-null object\n",
      "SEARCH_BASIS_ADMISSION_FLAG                                     10474 non-null object\n",
      "SEARCH_BASIS_CONSENT_FLAG                                       10474 non-null object\n",
      "SEARCH_BASIS_HARD_OBJECT_FLAG                                   10474 non-null object\n",
      "SEARCH_BASIS_OTHER_FLAG                                         10474 non-null object\n",
      "SEARCH_BASIS_OUTLINE_FLAG                                       10474 non-null object\n",
      "SUSPECT_SEX                                                     10474 non-null object\n",
      "SUSPECT_RACE_DESCRIPTION                                        10474 non-null object\n",
      "SUSPECT_HEIGHT                                                  10474 non-null float64\n",
      "SUSPECT_WEIGHT                                                  10474 non-null float64\n",
      "SUSPECT_BODY_BUILD_TYPE                                         10474 non-null object\n",
      "SUSPECT_EYE_COLOR                                               10474 non-null object\n",
      "SUSPECT_HAIR_COLOR                                              10474 non-null object\n",
      "STOP_LOCATION_PRECINCT                                          10474 non-null int64\n",
      "STOP_LOCATION_SECTOR_CODE                                       10474 non-null object\n",
      "STOP_LOCATION_PATROL_BORO_NAME                                  10474 non-null object\n",
      "STOP_LOCATION_BORO_NAME                                         10474 non-null object\n",
      "age_bin                                                         10474 non-null object\n",
      "dtypes: float64(2), int64(3), object(55)\n",
      "memory usage: 4.9+ MB\n"
     ]
    }
   ],
   "source": [
    "df.info()"
   ]
  },
  {
   "cell_type": "code",
   "execution_count": 0,
   "metadata": {
    "colab": {},
    "colab_type": "code",
    "id": "BPR7odephAGI"
   },
   "outputs": [],
   "source": [
    "X = df.drop('SUSPECT_ARRESTED_FLAG', axis = 1)\n",
    "y = df.SUSPECT_ARRESTED_FLAG"
   ]
  },
  {
   "cell_type": "code",
   "execution_count": 0,
   "metadata": {
    "colab": {},
    "colab_type": "code",
    "id": "fRAjoR0jgUF7"
   },
   "outputs": [],
   "source": [
    "X_num_c = X[[\"OBSERVED_DURATION_MINUTES\", \"STOP_DURATION_MINUTES\", \"SUSPECT_HEIGHT\", \"SUSPECT_WEIGHT\"]].columns\n",
    "X_cat_c = X.drop([\"OBSERVED_DURATION_MINUTES\", \"STOP_DURATION_MINUTES\", \"SUSPECT_HEIGHT\", \"SUSPECT_WEIGHT\"], axis = 1).columns"
   ]
  },
  {
   "cell_type": "code",
   "execution_count": 0,
   "metadata": {
    "colab": {},
    "colab_type": "code",
    "id": "nNeUoheTo0PQ"
   },
   "outputs": [],
   "source": [
    "X_num = X[[\"OBSERVED_DURATION_MINUTES\", \"STOP_DURATION_MINUTES\", \"SUSPECT_HEIGHT\", \"SUSPECT_WEIGHT\"]]\n",
    "X_cat = X.drop([\"OBSERVED_DURATION_MINUTES\", \"STOP_DURATION_MINUTES\", \"SUSPECT_HEIGHT\", \"SUSPECT_WEIGHT\"], axis = 1)"
   ]
  },
  {
   "cell_type": "code",
   "execution_count": 13,
   "metadata": {
    "colab": {
     "base_uri": "https://localhost:8080/",
     "height": 258
    },
    "colab_type": "code",
    "id": "3PUE2KAbjIFE",
    "outputId": "7ff1d733-416c-40ba-bb3c-797229c8ee35"
   },
   "outputs": [
    {
     "data": {
      "text/html": [
       "<div>\n",
       "<style scoped>\n",
       "    .dataframe tbody tr th:only-of-type {\n",
       "        vertical-align: middle;\n",
       "    }\n",
       "\n",
       "    .dataframe tbody tr th {\n",
       "        vertical-align: top;\n",
       "    }\n",
       "\n",
       "    .dataframe thead th {\n",
       "        text-align: right;\n",
       "    }\n",
       "</style>\n",
       "<table border=\"1\" class=\"dataframe\">\n",
       "  <thead>\n",
       "    <tr style=\"text-align: right;\">\n",
       "      <th></th>\n",
       "      <th>MONTH2</th>\n",
       "      <th>DAY2</th>\n",
       "      <th>STOP_WAS_INITIATED</th>\n",
       "      <th>ISSUING_OFFICER_RANK</th>\n",
       "      <th>SUPERVISING_OFFICER_RANK</th>\n",
       "      <th>SUPERVISING_ACTION_CORRESPONDING_ACTIVITY_LOG_ENTRY_REVIEWED</th>\n",
       "      <th>JURISDICTION_DESCRIPTION</th>\n",
       "      <th>SUSPECTED_CRIME_DESCRIPTION</th>\n",
       "      <th>OFFICER_EXPLAINED_STOP_FLAG</th>\n",
       "      <th>OTHER_PERSON_STOPPED_FLAG</th>\n",
       "      <th>SUMMONS_ISSUED_FLAG</th>\n",
       "      <th>OFFICER_IN_UNIFORM_FLAG</th>\n",
       "      <th>ID_CARD_IDENTIFIES_OFFICER_FLAG</th>\n",
       "      <th>SHIELD_IDENTIFIES_OFFICER_FLAG</th>\n",
       "      <th>VERBAL_IDENTIFIES_OFFICER_FLAG</th>\n",
       "      <th>FRISKED_FLAG</th>\n",
       "      <th>SEARCHED_FLAG</th>\n",
       "      <th>OTHER_CONTRABAND_FLAG</th>\n",
       "      <th>FIREARM_FLAG</th>\n",
       "      <th>KNIFE_CUTTER_FLAG</th>\n",
       "      <th>OTHER_WEAPON_FLAG</th>\n",
       "      <th>WEAPON_FOUND_FLAG</th>\n",
       "      <th>PHYSICAL_FORCE_CEW_FLAG</th>\n",
       "      <th>PHYSICAL_FORCE_DRAW_POINT_FIREARM_FLAG</th>\n",
       "      <th>PHYSICAL_FORCE_HANDCUFF_SUSPECT_FLAG</th>\n",
       "      <th>PHYSICAL_FORCE_OC_SPRAY_USED_FLAG</th>\n",
       "      <th>PHYSICAL_FORCE_OTHER_FLAG</th>\n",
       "      <th>PHYSICAL_FORCE_RESTRAINT_USED_FLAG</th>\n",
       "      <th>PHYSICAL_FORCE_VERBAL_INSTRUCTION_FLAG</th>\n",
       "      <th>PHYSICAL_FORCE_WEAPON_IMPACT_FLAG</th>\n",
       "      <th>BACKROUND_CIRCUMSTANCES_VIOLENT_CRIME_FLAG</th>\n",
       "      <th>BACKROUND_CIRCUMSTANCES_SUSPECT_KNOWN_TO_CARRY_WEAPON_FLAG</th>\n",
       "      <th>SUSPECTS_ACTIONS_CASING_FLAG</th>\n",
       "      <th>SUSPECTS_ACTIONS_CONCEALED_POSSESSION_WEAPON_FLAG</th>\n",
       "      <th>SUSPECTS_ACTIONS_DECRIPTION_FLAG</th>\n",
       "      <th>SUSPECTS_ACTIONS_DRUG_TRANSACTIONS_FLAG</th>\n",
       "      <th>SUSPECTS_ACTIONS_IDENTIFY_CRIME_PATTERN_FLAG</th>\n",
       "      <th>SUSPECTS_ACTIONS_LOOKOUT_FLAG</th>\n",
       "      <th>SUSPECTS_ACTIONS_OTHER_FLAG</th>\n",
       "      <th>SUSPECTS_ACTIONS_PROXIMITY_TO_SCENE_FLAG</th>\n",
       "      <th>SEARCH_BASIS_ADMISSION_FLAG</th>\n",
       "      <th>SEARCH_BASIS_CONSENT_FLAG</th>\n",
       "      <th>SEARCH_BASIS_HARD_OBJECT_FLAG</th>\n",
       "      <th>SEARCH_BASIS_OTHER_FLAG</th>\n",
       "      <th>SEARCH_BASIS_OUTLINE_FLAG</th>\n",
       "      <th>SUSPECT_SEX</th>\n",
       "      <th>SUSPECT_RACE_DESCRIPTION</th>\n",
       "      <th>SUSPECT_BODY_BUILD_TYPE</th>\n",
       "      <th>SUSPECT_EYE_COLOR</th>\n",
       "      <th>SUSPECT_HAIR_COLOR</th>\n",
       "      <th>STOP_LOCATION_PRECINCT</th>\n",
       "      <th>STOP_LOCATION_SECTOR_CODE</th>\n",
       "      <th>STOP_LOCATION_PATROL_BORO_NAME</th>\n",
       "      <th>STOP_LOCATION_BORO_NAME</th>\n",
       "      <th>age_bin</th>\n",
       "    </tr>\n",
       "  </thead>\n",
       "  <tbody>\n",
       "    <tr>\n",
       "      <th>0</th>\n",
       "      <td>January</td>\n",
       "      <td>Monday</td>\n",
       "      <td>Based on C/W on Scene</td>\n",
       "      <td>POM</td>\n",
       "      <td>SGT</td>\n",
       "      <td>Y</td>\n",
       "      <td>PSB</td>\n",
       "      <td>MENACING</td>\n",
       "      <td>Y</td>\n",
       "      <td>Y</td>\n",
       "      <td>N</td>\n",
       "      <td>Y</td>\n",
       "      <td>(null)</td>\n",
       "      <td>(null)</td>\n",
       "      <td>(null)</td>\n",
       "      <td>Y</td>\n",
       "      <td>N</td>\n",
       "      <td>N</td>\n",
       "      <td>(null)</td>\n",
       "      <td>(null)</td>\n",
       "      <td>(null)</td>\n",
       "      <td>N</td>\n",
       "      <td>(null)</td>\n",
       "      <td>(null)</td>\n",
       "      <td>(null)</td>\n",
       "      <td>(null)</td>\n",
       "      <td>(null)</td>\n",
       "      <td>(null)</td>\n",
       "      <td>Y</td>\n",
       "      <td>(null)</td>\n",
       "      <td>(null)</td>\n",
       "      <td>(null)</td>\n",
       "      <td>(null)</td>\n",
       "      <td>Y</td>\n",
       "      <td>Y</td>\n",
       "      <td>(null)</td>\n",
       "      <td>(null)</td>\n",
       "      <td>(null)</td>\n",
       "      <td>(null)</td>\n",
       "      <td>Y</td>\n",
       "      <td>(null)</td>\n",
       "      <td>(null)</td>\n",
       "      <td>(null)</td>\n",
       "      <td>(null)</td>\n",
       "      <td>(null)</td>\n",
       "      <td>MALE</td>\n",
       "      <td>WHITE</td>\n",
       "      <td>MED</td>\n",
       "      <td>BRO</td>\n",
       "      <td>BLK</td>\n",
       "      <td>1</td>\n",
       "      <td>G</td>\n",
       "      <td>PBMS</td>\n",
       "      <td>MANHATTAN</td>\n",
       "      <td>unknown</td>\n",
       "    </tr>\n",
       "    <tr>\n",
       "      <th>1</th>\n",
       "      <td>January</td>\n",
       "      <td>Monday</td>\n",
       "      <td>Based on Radio Run</td>\n",
       "      <td>POM</td>\n",
       "      <td>SGT</td>\n",
       "      <td>N</td>\n",
       "      <td>PSB</td>\n",
       "      <td>CPW</td>\n",
       "      <td>Y</td>\n",
       "      <td>N</td>\n",
       "      <td>N</td>\n",
       "      <td>Y</td>\n",
       "      <td>(null)</td>\n",
       "      <td>(null)</td>\n",
       "      <td>(null)</td>\n",
       "      <td>Y</td>\n",
       "      <td>Y</td>\n",
       "      <td>N</td>\n",
       "      <td>(null)</td>\n",
       "      <td>(null)</td>\n",
       "      <td>(null)</td>\n",
       "      <td>N</td>\n",
       "      <td>(null)</td>\n",
       "      <td>Y</td>\n",
       "      <td>(null)</td>\n",
       "      <td>(null)</td>\n",
       "      <td>(null)</td>\n",
       "      <td>(null)</td>\n",
       "      <td>(null)</td>\n",
       "      <td>(null)</td>\n",
       "      <td>(null)</td>\n",
       "      <td>(null)</td>\n",
       "      <td>(null)</td>\n",
       "      <td>(null)</td>\n",
       "      <td>Y</td>\n",
       "      <td>(null)</td>\n",
       "      <td>(null)</td>\n",
       "      <td>(null)</td>\n",
       "      <td>(null)</td>\n",
       "      <td>(null)</td>\n",
       "      <td>(null)</td>\n",
       "      <td>(null)</td>\n",
       "      <td>(null)</td>\n",
       "      <td>Y</td>\n",
       "      <td>(null)</td>\n",
       "      <td>MALE</td>\n",
       "      <td>BLACK HISPANIC</td>\n",
       "      <td>HEA</td>\n",
       "      <td>BRO</td>\n",
       "      <td>BLK</td>\n",
       "      <td>34</td>\n",
       "      <td>C</td>\n",
       "      <td>PBMN</td>\n",
       "      <td>MANHATTAN</td>\n",
       "      <td>18_30</td>\n",
       "    </tr>\n",
       "    <tr>\n",
       "      <th>2</th>\n",
       "      <td>January</td>\n",
       "      <td>Monday</td>\n",
       "      <td>Based on Radio Run</td>\n",
       "      <td>POM</td>\n",
       "      <td>SGT</td>\n",
       "      <td>Y</td>\n",
       "      <td>Housing</td>\n",
       "      <td>GRAND LARCENY</td>\n",
       "      <td>Y</td>\n",
       "      <td>N</td>\n",
       "      <td>N</td>\n",
       "      <td>Y</td>\n",
       "      <td>(null)</td>\n",
       "      <td>(null)</td>\n",
       "      <td>(null)</td>\n",
       "      <td>Y</td>\n",
       "      <td>N</td>\n",
       "      <td>N</td>\n",
       "      <td>(null)</td>\n",
       "      <td>(null)</td>\n",
       "      <td>(null)</td>\n",
       "      <td>N</td>\n",
       "      <td>(null)</td>\n",
       "      <td>(null)</td>\n",
       "      <td>(null)</td>\n",
       "      <td>(null)</td>\n",
       "      <td>(null)</td>\n",
       "      <td>(null)</td>\n",
       "      <td>Y</td>\n",
       "      <td>(null)</td>\n",
       "      <td>Y</td>\n",
       "      <td>(null)</td>\n",
       "      <td>(null)</td>\n",
       "      <td>(null)</td>\n",
       "      <td>Y</td>\n",
       "      <td>(null)</td>\n",
       "      <td>(null)</td>\n",
       "      <td>(null)</td>\n",
       "      <td>(null)</td>\n",
       "      <td>Y</td>\n",
       "      <td>(null)</td>\n",
       "      <td>(null)</td>\n",
       "      <td>(null)</td>\n",
       "      <td>(null)</td>\n",
       "      <td>(null)</td>\n",
       "      <td>MALE</td>\n",
       "      <td>WHITE HISPANIC</td>\n",
       "      <td>THN</td>\n",
       "      <td>BRO</td>\n",
       "      <td>BLD</td>\n",
       "      <td>43</td>\n",
       "      <td>B</td>\n",
       "      <td>PBBX</td>\n",
       "      <td>BRONX</td>\n",
       "      <td>over_30</td>\n",
       "    </tr>\n",
       "    <tr>\n",
       "      <th>3</th>\n",
       "      <td>January</td>\n",
       "      <td>Monday</td>\n",
       "      <td>Based on Radio Run</td>\n",
       "      <td>POM</td>\n",
       "      <td>SGT</td>\n",
       "      <td>Y</td>\n",
       "      <td>PSB</td>\n",
       "      <td>ROBBERY</td>\n",
       "      <td>Y</td>\n",
       "      <td>Y</td>\n",
       "      <td>N</td>\n",
       "      <td>Y</td>\n",
       "      <td>(null)</td>\n",
       "      <td>(null)</td>\n",
       "      <td>(null)</td>\n",
       "      <td>Y</td>\n",
       "      <td>Y</td>\n",
       "      <td>N</td>\n",
       "      <td>(null)</td>\n",
       "      <td>(null)</td>\n",
       "      <td>(null)</td>\n",
       "      <td>N</td>\n",
       "      <td>(null)</td>\n",
       "      <td>(null)</td>\n",
       "      <td>(null)</td>\n",
       "      <td>(null)</td>\n",
       "      <td>(null)</td>\n",
       "      <td>Y</td>\n",
       "      <td>Y</td>\n",
       "      <td>(null)</td>\n",
       "      <td>Y</td>\n",
       "      <td>(null)</td>\n",
       "      <td>(null)</td>\n",
       "      <td>(null)</td>\n",
       "      <td>Y</td>\n",
       "      <td>(null)</td>\n",
       "      <td>(null)</td>\n",
       "      <td>(null)</td>\n",
       "      <td>Y</td>\n",
       "      <td>(null)</td>\n",
       "      <td>(null)</td>\n",
       "      <td>(null)</td>\n",
       "      <td>(null)</td>\n",
       "      <td>Y</td>\n",
       "      <td>(null)</td>\n",
       "      <td>MALE</td>\n",
       "      <td>AMERICAN INDIAN/ALASKAN NATIVE</td>\n",
       "      <td>MED</td>\n",
       "      <td>BRO</td>\n",
       "      <td>BLK</td>\n",
       "      <td>63</td>\n",
       "      <td>B</td>\n",
       "      <td>PBBS</td>\n",
       "      <td>BROOKLYN</td>\n",
       "      <td>over_30</td>\n",
       "    </tr>\n",
       "    <tr>\n",
       "      <th>4</th>\n",
       "      <td>January</td>\n",
       "      <td>Monday</td>\n",
       "      <td>Based on Radio Run</td>\n",
       "      <td>POM</td>\n",
       "      <td>SGT</td>\n",
       "      <td>Y</td>\n",
       "      <td>PSB</td>\n",
       "      <td>ROBBERY</td>\n",
       "      <td>Y</td>\n",
       "      <td>Y</td>\n",
       "      <td>N</td>\n",
       "      <td>Y</td>\n",
       "      <td>(null)</td>\n",
       "      <td>(null)</td>\n",
       "      <td>(null)</td>\n",
       "      <td>Y</td>\n",
       "      <td>Y</td>\n",
       "      <td>N</td>\n",
       "      <td>(null)</td>\n",
       "      <td>(null)</td>\n",
       "      <td>(null)</td>\n",
       "      <td>N</td>\n",
       "      <td>(null)</td>\n",
       "      <td>(null)</td>\n",
       "      <td>(null)</td>\n",
       "      <td>(null)</td>\n",
       "      <td>(null)</td>\n",
       "      <td>Y</td>\n",
       "      <td>Y</td>\n",
       "      <td>(null)</td>\n",
       "      <td>Y</td>\n",
       "      <td>(null)</td>\n",
       "      <td>(null)</td>\n",
       "      <td>(null)</td>\n",
       "      <td>Y</td>\n",
       "      <td>(null)</td>\n",
       "      <td>(null)</td>\n",
       "      <td>(null)</td>\n",
       "      <td>Y</td>\n",
       "      <td>(null)</td>\n",
       "      <td>(null)</td>\n",
       "      <td>(null)</td>\n",
       "      <td>(null)</td>\n",
       "      <td>Y</td>\n",
       "      <td>(null)</td>\n",
       "      <td>MALE</td>\n",
       "      <td>WHITE</td>\n",
       "      <td>MED</td>\n",
       "      <td>BRO</td>\n",
       "      <td>BLK</td>\n",
       "      <td>63</td>\n",
       "      <td>B</td>\n",
       "      <td>PBBS</td>\n",
       "      <td>BROOKLYN</td>\n",
       "      <td>over_30</td>\n",
       "    </tr>\n",
       "  </tbody>\n",
       "</table>\n",
       "</div>"
      ],
      "text/plain": [
       "    MONTH2    DAY2  ... STOP_LOCATION_BORO_NAME  age_bin\n",
       "0  January  Monday  ...               MANHATTAN  unknown\n",
       "1  January  Monday  ...               MANHATTAN    18_30\n",
       "2  January  Monday  ...                   BRONX  over_30\n",
       "3  January  Monday  ...                BROOKLYN  over_30\n",
       "4  January  Monday  ...                BROOKLYN  over_30\n",
       "\n",
       "[5 rows x 55 columns]"
      ]
     },
     "execution_count": 13,
     "metadata": {
      "tags": []
     },
     "output_type": "execute_result"
    }
   ],
   "source": [
    "X_cat.head()"
   ]
  },
  {
   "cell_type": "code",
   "execution_count": 0,
   "metadata": {
    "colab": {},
    "colab_type": "code",
    "id": "h1o4y0uanad1"
   },
   "outputs": [],
   "source": [
    "\n",
    "\n",
    "X_train, X_test, y_train, y_test = train_test_split(\n",
    "  X, y, test_size= 0.2, stratify=y, random_state=345)"
   ]
  },
  {
   "cell_type": "code",
   "execution_count": 19,
   "metadata": {
    "colab": {
     "base_uri": "https://localhost:8080/",
     "height": 493
    },
    "colab_type": "code",
    "id": "RL-06M0pl5WB",
    "outputId": "c72dfa93-24bf-4e57-a631-bd22fde2c89b"
   },
   "outputs": [
    {
     "data": {
      "text/plain": [
       "Pipeline(memory=None,\n",
       "         steps=[('preprocess',\n",
       "                 ColumnTransformer(n_jobs=None, remainder='drop',\n",
       "                                   sparse_threshold=0.3,\n",
       "                                   transformer_weights=None,\n",
       "                                   transformers=[('cat',\n",
       "                                                  Pipeline(memory=None,\n",
       "                                                           steps=[('imputer',\n",
       "                                                                   SimpleImputer(add_indicator=False,\n",
       "                                                                                 copy=True,\n",
       "                                                                                 fill_value='missing',\n",
       "                                                                                 missing_values=nan,\n",
       "                                                                                 strategy='constant',\n",
       "                                                                                 verbose=0)),\n",
       "                                                                  ('onehot',\n",
       "                                                                   OneHotEncoder(categories='aut...\n",
       "                 RandomForestClassifier(bootstrap=True, ccp_alpha=0.0,\n",
       "                                        class_weight=None, criterion='entropy',\n",
       "                                        max_depth=8, max_features='auto',\n",
       "                                        max_leaf_nodes=None, max_samples=None,\n",
       "                                        min_impurity_decrease=0.0,\n",
       "                                        min_impurity_split=None,\n",
       "                                        min_samples_leaf=1, min_samples_split=2,\n",
       "                                        min_weight_fraction_leaf=0.0,\n",
       "                                        n_estimators=500, n_jobs=None,\n",
       "                                        oob_score=False, random_state=42,\n",
       "                                        verbose=0, warm_start=False))],\n",
       "         verbose=False)"
      ]
     },
     "execution_count": 19,
     "metadata": {
      "tags": []
     },
     "output_type": "execute_result"
    }
   ],
   "source": [
    "\n",
    "\n",
    "categorical_pipe = Pipeline([\n",
    "  ('imputer', SimpleImputer(strategy='constant', fill_value='missing')),\n",
    "    ('onehot', OneHotEncoder(handle_unknown='ignore'))\n",
    "])\n",
    "\n",
    "numerical_pipe = Pipeline([\n",
    "    ('scale', StandardScaler())\n",
    " ])\n",
    "\n",
    "preprocessing = ColumnTransformer(\n",
    "    [('cat', categorical_pipe, X_cat_c),\n",
    "     ('num', numerical_pipe, X_num_c)])\n",
    "\n",
    "rf = Pipeline([\n",
    "    ('preprocess', preprocessing),\n",
    "    ('classifier', RandomForestClassifier(random_state=42, criterion='entropy', max_depth=8,max_features='auto', n_estimators=500))\n",
    "])\n",
    "rf.fit(X_train, y_train)"
   ]
  },
  {
   "cell_type": "code",
   "execution_count": 29,
   "metadata": {
    "colab": {
     "base_uri": "https://localhost:8080/",
     "height": 51
    },
    "colab_type": "code",
    "id": "vHFm49OGwpW7",
    "outputId": "4baa6b27-2d3b-4a2a-f270-52b6f1f03f15"
   },
   "outputs": [
    {
     "name": "stdout",
     "output_type": "stream",
     "text": [
      "RF train accuracy: 0.893\n",
      "RF test accuracy: 0.869\n"
     ]
    }
   ],
   "source": [
    "print(\"RF train accuracy: %0.3f\" % rf.score(X_train, y_train))\n",
    "print(\"RF test accuracy: %0.3f\" % rf.score(X_test, y_test))"
   ]
  },
  {
   "cell_type": "code",
   "execution_count": 21,
   "metadata": {
    "colab": {
     "base_uri": "https://localhost:8080/",
     "height": 51
    },
    "colab_type": "code",
    "id": "kPaWDQLlsb3S",
    "outputId": "7b1b2793-0206-4d21-8375-cc4f7b8f65ba"
   },
   "outputs": [
    {
     "name": "stdout",
     "output_type": "stream",
     "text": [
      "{'classifier__criterion': 'entropy', 'classifier__max_depth': 8, 'classifier__max_features': 'auto', 'classifier__n_estimators': 500}\n",
      "0.8777907598047946\n"
     ]
    }
   ],
   "source": [
    "param_grid = { \n",
    "    'classifier__n_estimators': [200, 500],\n",
    "    'classifier__max_features': ['auto', 'sqrt', 'log2'],\n",
    "    'classifier__max_depth' : [4,5,6,7,8],\n",
    "    'classifier__criterion' :['gini', 'entropy']}\n",
    "from sklearn.model_selection import GridSearchCV\n",
    "CV = GridSearchCV(rf, param_grid, n_jobs= 1)\n",
    "                  \n",
    "CV.fit(X_train, y_train)  \n",
    "print(CV.best_params_)    \n",
    "print(CV.best_score_)\n",
    "\n"
   ]
  },
  {
   "cell_type": "code",
   "execution_count": 0,
   "metadata": {
    "colab": {},
    "colab_type": "code",
    "id": "2BnpppKPL3zZ"
   },
   "outputs": [],
   "source": [
    "y_pred = rf.predict(X_test)"
   ]
  },
  {
   "cell_type": "code",
   "execution_count": 25,
   "metadata": {
    "colab": {
     "base_uri": "https://localhost:8080/",
     "height": 221
    },
    "colab_type": "code",
    "id": "PV2yFvCKHIJo",
    "outputId": "f8405535-edd5-42fe-f536-3d7befa725d4"
   },
   "outputs": [
    {
     "name": "stdout",
     "output_type": "stream",
     "text": [
      "[[1435   55]\n",
      " [ 219  386]]\n",
      "              precision    recall  f1-score   support\n",
      "\n",
      "           N       0.87      0.96      0.91      1490\n",
      "           Y       0.88      0.64      0.74       605\n",
      "\n",
      "    accuracy                           0.87      2095\n",
      "   macro avg       0.87      0.80      0.83      2095\n",
      "weighted avg       0.87      0.87      0.86      2095\n",
      "\n",
      "0.8692124105011934\n"
     ]
    }
   ],
   "source": [
    "#Confusion Matrix for predictions on test data\n",
    "\n",
    "from sklearn.metrics import classification_report, confusion_matrix, accuracy_score\n",
    "\n",
    "print(confusion_matrix(y_test,y_pred))\n",
    "print(classification_report(y_test,y_pred))\n",
    "print(accuracy_score(y_test, y_pred))"
   ]
  },
  {
   "cell_type": "code",
   "execution_count": 28,
   "metadata": {
    "colab": {
     "base_uri": "https://localhost:8080/",
     "height": 765
    },
    "colab_type": "code",
    "id": "T_Ity7bqQ_cx",
    "outputId": "78d2f862-ef41-431e-8991-66fc1147bd2f"
   },
   "outputs": [
    {
     "name": "stdout",
     "output_type": "stream",
     "text": [
      "KNeighborsClassifier(algorithm='auto', leaf_size=30, metric='minkowski',\n",
      "                     metric_params=None, n_jobs=None, n_neighbors=3, p=2,\n",
      "                     weights='uniform')\n",
      "model score: 0.811\n",
      "SVC(C=0.025, break_ties=False, cache_size=200, class_weight=None, coef0=0.0,\n",
      "    decision_function_shape='ovr', degree=3, gamma='scale', kernel='rbf',\n",
      "    max_iter=-1, probability=True, random_state=None, shrinking=True, tol=0.001,\n",
      "    verbose=False)\n",
      "model score: 0.788\n",
      "NuSVC(break_ties=False, cache_size=200, class_weight=None, coef0=0.0,\n",
      "      decision_function_shape='ovr', degree=3, gamma='scale', kernel='rbf',\n",
      "      max_iter=-1, nu=0.5, probability=True, random_state=None, shrinking=True,\n",
      "      tol=0.001, verbose=False)\n",
      "model score: 0.867\n",
      "DecisionTreeClassifier(ccp_alpha=0.0, class_weight=None, criterion='gini',\n",
      "                       max_depth=None, max_features=None, max_leaf_nodes=None,\n",
      "                       min_impurity_decrease=0.0, min_impurity_split=None,\n",
      "                       min_samples_leaf=1, min_samples_split=2,\n",
      "                       min_weight_fraction_leaf=0.0, presort='deprecated',\n",
      "                       random_state=None, splitter='best')\n",
      "model score: 0.847\n",
      "RandomForestClassifier(bootstrap=True, ccp_alpha=0.0, class_weight=None,\n",
      "                       criterion='gini', max_depth=None, max_features='auto',\n",
      "                       max_leaf_nodes=None, max_samples=None,\n",
      "                       min_impurity_decrease=0.0, min_impurity_split=None,\n",
      "                       min_samples_leaf=1, min_samples_split=2,\n",
      "                       min_weight_fraction_leaf=0.0, n_estimators=100,\n",
      "                       n_jobs=None, oob_score=False, random_state=None,\n",
      "                       verbose=0, warm_start=False)\n",
      "model score: 0.893\n",
      "AdaBoostClassifier(algorithm='SAMME.R', base_estimator=None, learning_rate=1.0,\n",
      "                   n_estimators=50, random_state=None)\n",
      "model score: 0.872\n",
      "GradientBoostingClassifier(ccp_alpha=0.0, criterion='friedman_mse', init=None,\n",
      "                           learning_rate=0.1, loss='deviance', max_depth=3,\n",
      "                           max_features=None, max_leaf_nodes=None,\n",
      "                           min_impurity_decrease=0.0, min_impurity_split=None,\n",
      "                           min_samples_leaf=1, min_samples_split=2,\n",
      "                           min_weight_fraction_leaf=0.0, n_estimators=100,\n",
      "                           n_iter_no_change=None, presort='deprecated',\n",
      "                           random_state=None, subsample=1.0, tol=0.0001,\n",
      "                           validation_fraction=0.1, verbose=0,\n",
      "                           warm_start=False)\n",
      "model score: 0.885\n"
     ]
    }
   ],
   "source": [
    "#Model Selection and Comparison\n",
    "\n",
    "from sklearn.metrics import accuracy_score, log_loss\n",
    "from sklearn.neighbors import KNeighborsClassifier\n",
    "from sklearn.svm import SVC, LinearSVC, NuSVC\n",
    "from sklearn.tree import DecisionTreeClassifier\n",
    "from sklearn.ensemble import RandomForestClassifier, AdaBoostClassifier, GradientBoostingClassifier\n",
    "from sklearn.discriminant_analysis import LinearDiscriminantAnalysis\n",
    "from sklearn.discriminant_analysis import QuadraticDiscriminantAnalysis\n",
    "classifiers = [\n",
    "    KNeighborsClassifier(3),\n",
    "    SVC(kernel=\"rbf\", C=0.025, probability=True),\n",
    "    NuSVC(probability=True),\n",
    "    DecisionTreeClassifier(),\n",
    "    RandomForestClassifier(),\n",
    "    AdaBoostClassifier(),\n",
    "    GradientBoostingClassifier()\n",
    "    ]\n",
    "for classifier in classifiers:\n",
    "    pipe = Pipeline([\n",
    "                     ('preprocess', preprocessing),\n",
    "                     ('classifier', classifier)])\n",
    "    pipe.fit(X_train, y_train)   \n",
    "    print(classifier)\n",
    "    print(\"model score: %.3f\" % pipe.score(X_test, y_test))"
   ]
  },
  {
   "cell_type": "code",
   "execution_count": 0,
   "metadata": {
    "colab": {},
    "colab_type": "code",
    "id": "ZnAFJT3h0kzq"
   },
   "outputs": [],
   "source": []
  }
 ],
 "metadata": {
  "colab": {
   "authorship_tag": "ABX9TyNiLUmkpg4N+ZyDzRK8zGCx",
   "include_colab_link": true,
   "name": " Models in Pipeline.ipynb",
   "provenance": []
  },
  "kernelspec": {
   "display_name": "Python 3",
   "language": "python",
   "name": "python3"
  },
  "language_info": {
   "codemirror_mode": {
    "name": "ipython",
    "version": 3
   },
   "file_extension": ".py",
   "mimetype": "text/x-python",
   "name": "python",
   "nbconvert_exporter": "python",
   "pygments_lexer": "ipython3",
   "version": "3.7.4"
  },
  "toc": {
   "base_numbering": 1,
   "nav_menu": {},
   "number_sections": true,
   "sideBar": true,
   "skip_h1_title": false,
   "title_cell": "Table of Contents",
   "title_sidebar": "Contents",
   "toc_cell": false,
   "toc_position": {},
   "toc_section_display": true,
   "toc_window_display": false
  }
 },
 "nbformat": 4,
 "nbformat_minor": 1
}
